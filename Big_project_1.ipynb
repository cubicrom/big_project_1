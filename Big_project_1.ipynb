{
 "cells": [
  {
   "cell_type": "markdown",
   "metadata": {},
   "source": [
    "# Анализ данных для планирования рекламной кампании для интернет-магазина «Стримчик»"
   ]
  },
  {
   "cell_type": "markdown",
   "metadata": {},
   "source": [
    "Из открытых источников доступны исторические данные о продажах игр, оценки пользователей и экспертов, жанры и платформы (например, Xbox или PlayStation). Нам нужно выявить определяющие успешность игры закономерности, чтобы сделать ставку на потенциально популярный продукт и спланировать рекламные кампании.\n",
    "\n",
    "* Проведем исследовательский и статестический анализ данных; \n",
    "* отберем актуальные данные для оценки актуальности и прибыльности платформ; \n",
    "* проверим гипотезы о равенстве и неравенстве среднепользовательских рейтингов Xbox и One PC, игр жанров экшн и спорт соответсвенно; \n",
    "* также составим портреты пользователей регионов"
   ]
  },
  {
   "cell_type": "markdown",
   "metadata": {},
   "source": [
    "## Открвыаем данные и изучаем информацию"
   ]
  },
  {
   "cell_type": "code",
   "execution_count": 1,
   "metadata": {},
   "outputs": [],
   "source": [
    "import pandas as pd # Импортируем библиотеку Pandas\n",
    "from scipy import stats as st # Импортируем SciPy.stats\n",
    "import numpy as np # Импортируем NumPy\n",
    "import matplotlib.pyplot as plt # Импортируем библиотеку Matplotlib.pyplot \n",
    "import seaborn as sns # Импортируем библиотеку Seaborn"
   ]
  },
  {
   "cell_type": "code",
   "execution_count": 2,
   "metadata": {},
   "outputs": [
    {
     "data": {
      "text/html": [
       "<div>\n",
       "<style scoped>\n",
       "    .dataframe tbody tr th:only-of-type {\n",
       "        vertical-align: middle;\n",
       "    }\n",
       "\n",
       "    .dataframe tbody tr th {\n",
       "        vertical-align: top;\n",
       "    }\n",
       "\n",
       "    .dataframe thead th {\n",
       "        text-align: right;\n",
       "    }\n",
       "</style>\n",
       "<table border=\"1\" class=\"dataframe\">\n",
       "  <thead>\n",
       "    <tr style=\"text-align: right;\">\n",
       "      <th></th>\n",
       "      <th>Name</th>\n",
       "      <th>Platform</th>\n",
       "      <th>Year_of_Release</th>\n",
       "      <th>Genre</th>\n",
       "      <th>NA_sales</th>\n",
       "      <th>EU_sales</th>\n",
       "      <th>JP_sales</th>\n",
       "      <th>Other_sales</th>\n",
       "      <th>Critic_Score</th>\n",
       "      <th>User_Score</th>\n",
       "      <th>Rating</th>\n",
       "    </tr>\n",
       "  </thead>\n",
       "  <tbody>\n",
       "    <tr>\n",
       "      <th>0</th>\n",
       "      <td>Wii Sports</td>\n",
       "      <td>Wii</td>\n",
       "      <td>2006.0</td>\n",
       "      <td>Sports</td>\n",
       "      <td>41.36</td>\n",
       "      <td>28.96</td>\n",
       "      <td>3.77</td>\n",
       "      <td>8.45</td>\n",
       "      <td>76.0</td>\n",
       "      <td>8</td>\n",
       "      <td>E</td>\n",
       "    </tr>\n",
       "    <tr>\n",
       "      <th>1</th>\n",
       "      <td>Super Mario Bros.</td>\n",
       "      <td>NES</td>\n",
       "      <td>1985.0</td>\n",
       "      <td>Platform</td>\n",
       "      <td>29.08</td>\n",
       "      <td>3.58</td>\n",
       "      <td>6.81</td>\n",
       "      <td>0.77</td>\n",
       "      <td>NaN</td>\n",
       "      <td>NaN</td>\n",
       "      <td>NaN</td>\n",
       "    </tr>\n",
       "    <tr>\n",
       "      <th>2</th>\n",
       "      <td>Mario Kart Wii</td>\n",
       "      <td>Wii</td>\n",
       "      <td>2008.0</td>\n",
       "      <td>Racing</td>\n",
       "      <td>15.68</td>\n",
       "      <td>12.76</td>\n",
       "      <td>3.79</td>\n",
       "      <td>3.29</td>\n",
       "      <td>82.0</td>\n",
       "      <td>8.3</td>\n",
       "      <td>E</td>\n",
       "    </tr>\n",
       "    <tr>\n",
       "      <th>3</th>\n",
       "      <td>Wii Sports Resort</td>\n",
       "      <td>Wii</td>\n",
       "      <td>2009.0</td>\n",
       "      <td>Sports</td>\n",
       "      <td>15.61</td>\n",
       "      <td>10.93</td>\n",
       "      <td>3.28</td>\n",
       "      <td>2.95</td>\n",
       "      <td>80.0</td>\n",
       "      <td>8</td>\n",
       "      <td>E</td>\n",
       "    </tr>\n",
       "    <tr>\n",
       "      <th>4</th>\n",
       "      <td>Pokemon Red/Pokemon Blue</td>\n",
       "      <td>GB</td>\n",
       "      <td>1996.0</td>\n",
       "      <td>Role-Playing</td>\n",
       "      <td>11.27</td>\n",
       "      <td>8.89</td>\n",
       "      <td>10.22</td>\n",
       "      <td>1.00</td>\n",
       "      <td>NaN</td>\n",
       "      <td>NaN</td>\n",
       "      <td>NaN</td>\n",
       "    </tr>\n",
       "    <tr>\n",
       "      <th>5</th>\n",
       "      <td>Tetris</td>\n",
       "      <td>GB</td>\n",
       "      <td>1989.0</td>\n",
       "      <td>Puzzle</td>\n",
       "      <td>23.20</td>\n",
       "      <td>2.26</td>\n",
       "      <td>4.22</td>\n",
       "      <td>0.58</td>\n",
       "      <td>NaN</td>\n",
       "      <td>NaN</td>\n",
       "      <td>NaN</td>\n",
       "    </tr>\n",
       "    <tr>\n",
       "      <th>6</th>\n",
       "      <td>New Super Mario Bros.</td>\n",
       "      <td>DS</td>\n",
       "      <td>2006.0</td>\n",
       "      <td>Platform</td>\n",
       "      <td>11.28</td>\n",
       "      <td>9.14</td>\n",
       "      <td>6.50</td>\n",
       "      <td>2.88</td>\n",
       "      <td>89.0</td>\n",
       "      <td>8.5</td>\n",
       "      <td>E</td>\n",
       "    </tr>\n",
       "    <tr>\n",
       "      <th>7</th>\n",
       "      <td>Wii Play</td>\n",
       "      <td>Wii</td>\n",
       "      <td>2006.0</td>\n",
       "      <td>Misc</td>\n",
       "      <td>13.96</td>\n",
       "      <td>9.18</td>\n",
       "      <td>2.93</td>\n",
       "      <td>2.84</td>\n",
       "      <td>58.0</td>\n",
       "      <td>6.6</td>\n",
       "      <td>E</td>\n",
       "    </tr>\n",
       "    <tr>\n",
       "      <th>8</th>\n",
       "      <td>New Super Mario Bros. Wii</td>\n",
       "      <td>Wii</td>\n",
       "      <td>2009.0</td>\n",
       "      <td>Platform</td>\n",
       "      <td>14.44</td>\n",
       "      <td>6.94</td>\n",
       "      <td>4.70</td>\n",
       "      <td>2.24</td>\n",
       "      <td>87.0</td>\n",
       "      <td>8.4</td>\n",
       "      <td>E</td>\n",
       "    </tr>\n",
       "    <tr>\n",
       "      <th>9</th>\n",
       "      <td>Duck Hunt</td>\n",
       "      <td>NES</td>\n",
       "      <td>1984.0</td>\n",
       "      <td>Shooter</td>\n",
       "      <td>26.93</td>\n",
       "      <td>0.63</td>\n",
       "      <td>0.28</td>\n",
       "      <td>0.47</td>\n",
       "      <td>NaN</td>\n",
       "      <td>NaN</td>\n",
       "      <td>NaN</td>\n",
       "    </tr>\n",
       "    <tr>\n",
       "      <th>10</th>\n",
       "      <td>Nintendogs</td>\n",
       "      <td>DS</td>\n",
       "      <td>2005.0</td>\n",
       "      <td>Simulation</td>\n",
       "      <td>9.05</td>\n",
       "      <td>10.95</td>\n",
       "      <td>1.93</td>\n",
       "      <td>2.74</td>\n",
       "      <td>NaN</td>\n",
       "      <td>NaN</td>\n",
       "      <td>NaN</td>\n",
       "    </tr>\n",
       "    <tr>\n",
       "      <th>11</th>\n",
       "      <td>Mario Kart DS</td>\n",
       "      <td>DS</td>\n",
       "      <td>2005.0</td>\n",
       "      <td>Racing</td>\n",
       "      <td>9.71</td>\n",
       "      <td>7.47</td>\n",
       "      <td>4.13</td>\n",
       "      <td>1.90</td>\n",
       "      <td>91.0</td>\n",
       "      <td>8.6</td>\n",
       "      <td>E</td>\n",
       "    </tr>\n",
       "    <tr>\n",
       "      <th>12</th>\n",
       "      <td>Pokemon Gold/Pokemon Silver</td>\n",
       "      <td>GB</td>\n",
       "      <td>1999.0</td>\n",
       "      <td>Role-Playing</td>\n",
       "      <td>9.00</td>\n",
       "      <td>6.18</td>\n",
       "      <td>7.20</td>\n",
       "      <td>0.71</td>\n",
       "      <td>NaN</td>\n",
       "      <td>NaN</td>\n",
       "      <td>NaN</td>\n",
       "    </tr>\n",
       "    <tr>\n",
       "      <th>13</th>\n",
       "      <td>Wii Fit</td>\n",
       "      <td>Wii</td>\n",
       "      <td>2007.0</td>\n",
       "      <td>Sports</td>\n",
       "      <td>8.92</td>\n",
       "      <td>8.03</td>\n",
       "      <td>3.60</td>\n",
       "      <td>2.15</td>\n",
       "      <td>80.0</td>\n",
       "      <td>7.7</td>\n",
       "      <td>E</td>\n",
       "    </tr>\n",
       "    <tr>\n",
       "      <th>14</th>\n",
       "      <td>Kinect Adventures!</td>\n",
       "      <td>X360</td>\n",
       "      <td>2010.0</td>\n",
       "      <td>Misc</td>\n",
       "      <td>15.00</td>\n",
       "      <td>4.89</td>\n",
       "      <td>0.24</td>\n",
       "      <td>1.69</td>\n",
       "      <td>61.0</td>\n",
       "      <td>6.3</td>\n",
       "      <td>E</td>\n",
       "    </tr>\n",
       "    <tr>\n",
       "      <th>15</th>\n",
       "      <td>Wii Fit Plus</td>\n",
       "      <td>Wii</td>\n",
       "      <td>2009.0</td>\n",
       "      <td>Sports</td>\n",
       "      <td>9.01</td>\n",
       "      <td>8.49</td>\n",
       "      <td>2.53</td>\n",
       "      <td>1.77</td>\n",
       "      <td>80.0</td>\n",
       "      <td>7.4</td>\n",
       "      <td>E</td>\n",
       "    </tr>\n",
       "    <tr>\n",
       "      <th>16</th>\n",
       "      <td>Grand Theft Auto V</td>\n",
       "      <td>PS3</td>\n",
       "      <td>2013.0</td>\n",
       "      <td>Action</td>\n",
       "      <td>7.02</td>\n",
       "      <td>9.09</td>\n",
       "      <td>0.98</td>\n",
       "      <td>3.96</td>\n",
       "      <td>97.0</td>\n",
       "      <td>8.2</td>\n",
       "      <td>M</td>\n",
       "    </tr>\n",
       "    <tr>\n",
       "      <th>17</th>\n",
       "      <td>Grand Theft Auto: San Andreas</td>\n",
       "      <td>PS2</td>\n",
       "      <td>2004.0</td>\n",
       "      <td>Action</td>\n",
       "      <td>9.43</td>\n",
       "      <td>0.40</td>\n",
       "      <td>0.41</td>\n",
       "      <td>10.57</td>\n",
       "      <td>95.0</td>\n",
       "      <td>9</td>\n",
       "      <td>M</td>\n",
       "    </tr>\n",
       "    <tr>\n",
       "      <th>18</th>\n",
       "      <td>Super Mario World</td>\n",
       "      <td>SNES</td>\n",
       "      <td>1990.0</td>\n",
       "      <td>Platform</td>\n",
       "      <td>12.78</td>\n",
       "      <td>3.75</td>\n",
       "      <td>3.54</td>\n",
       "      <td>0.55</td>\n",
       "      <td>NaN</td>\n",
       "      <td>NaN</td>\n",
       "      <td>NaN</td>\n",
       "    </tr>\n",
       "    <tr>\n",
       "      <th>19</th>\n",
       "      <td>Brain Age: Train Your Brain in Minutes a Day</td>\n",
       "      <td>DS</td>\n",
       "      <td>2005.0</td>\n",
       "      <td>Misc</td>\n",
       "      <td>4.74</td>\n",
       "      <td>9.20</td>\n",
       "      <td>4.16</td>\n",
       "      <td>2.04</td>\n",
       "      <td>77.0</td>\n",
       "      <td>7.9</td>\n",
       "      <td>E</td>\n",
       "    </tr>\n",
       "  </tbody>\n",
       "</table>\n",
       "</div>"
      ],
      "text/plain": [
       "                                            Name Platform  Year_of_Release  \\\n",
       "0                                     Wii Sports      Wii           2006.0   \n",
       "1                              Super Mario Bros.      NES           1985.0   \n",
       "2                                 Mario Kart Wii      Wii           2008.0   \n",
       "3                              Wii Sports Resort      Wii           2009.0   \n",
       "4                       Pokemon Red/Pokemon Blue       GB           1996.0   \n",
       "5                                         Tetris       GB           1989.0   \n",
       "6                          New Super Mario Bros.       DS           2006.0   \n",
       "7                                       Wii Play      Wii           2006.0   \n",
       "8                      New Super Mario Bros. Wii      Wii           2009.0   \n",
       "9                                      Duck Hunt      NES           1984.0   \n",
       "10                                    Nintendogs       DS           2005.0   \n",
       "11                                 Mario Kart DS       DS           2005.0   \n",
       "12                   Pokemon Gold/Pokemon Silver       GB           1999.0   \n",
       "13                                       Wii Fit      Wii           2007.0   \n",
       "14                            Kinect Adventures!     X360           2010.0   \n",
       "15                                  Wii Fit Plus      Wii           2009.0   \n",
       "16                            Grand Theft Auto V      PS3           2013.0   \n",
       "17                 Grand Theft Auto: San Andreas      PS2           2004.0   \n",
       "18                             Super Mario World     SNES           1990.0   \n",
       "19  Brain Age: Train Your Brain in Minutes a Day       DS           2005.0   \n",
       "\n",
       "           Genre  NA_sales  EU_sales  JP_sales  Other_sales  Critic_Score  \\\n",
       "0         Sports     41.36     28.96      3.77         8.45          76.0   \n",
       "1       Platform     29.08      3.58      6.81         0.77           NaN   \n",
       "2         Racing     15.68     12.76      3.79         3.29          82.0   \n",
       "3         Sports     15.61     10.93      3.28         2.95          80.0   \n",
       "4   Role-Playing     11.27      8.89     10.22         1.00           NaN   \n",
       "5         Puzzle     23.20      2.26      4.22         0.58           NaN   \n",
       "6       Platform     11.28      9.14      6.50         2.88          89.0   \n",
       "7           Misc     13.96      9.18      2.93         2.84          58.0   \n",
       "8       Platform     14.44      6.94      4.70         2.24          87.0   \n",
       "9        Shooter     26.93      0.63      0.28         0.47           NaN   \n",
       "10    Simulation      9.05     10.95      1.93         2.74           NaN   \n",
       "11        Racing      9.71      7.47      4.13         1.90          91.0   \n",
       "12  Role-Playing      9.00      6.18      7.20         0.71           NaN   \n",
       "13        Sports      8.92      8.03      3.60         2.15          80.0   \n",
       "14          Misc     15.00      4.89      0.24         1.69          61.0   \n",
       "15        Sports      9.01      8.49      2.53         1.77          80.0   \n",
       "16        Action      7.02      9.09      0.98         3.96          97.0   \n",
       "17        Action      9.43      0.40      0.41        10.57          95.0   \n",
       "18      Platform     12.78      3.75      3.54         0.55           NaN   \n",
       "19          Misc      4.74      9.20      4.16         2.04          77.0   \n",
       "\n",
       "   User_Score Rating  \n",
       "0           8      E  \n",
       "1         NaN    NaN  \n",
       "2         8.3      E  \n",
       "3           8      E  \n",
       "4         NaN    NaN  \n",
       "5         NaN    NaN  \n",
       "6         8.5      E  \n",
       "7         6.6      E  \n",
       "8         8.4      E  \n",
       "9         NaN    NaN  \n",
       "10        NaN    NaN  \n",
       "11        8.6      E  \n",
       "12        NaN    NaN  \n",
       "13        7.7      E  \n",
       "14        6.3      E  \n",
       "15        7.4      E  \n",
       "16        8.2      M  \n",
       "17          9      M  \n",
       "18        NaN    NaN  \n",
       "19        7.9      E  "
      ]
     },
     "execution_count": 2,
     "metadata": {},
     "output_type": "execute_result"
    }
   ],
   "source": [
    "# Сохраняем в переменную датафрейм и выводим первые 20 строк\n",
    "df = pd.read_csv('/datasets/games.csv')\n",
    "df.head(20)"
   ]
  },
  {
   "cell_type": "code",
   "execution_count": 3,
   "metadata": {},
   "outputs": [
    {
     "name": "stdout",
     "output_type": "stream",
     "text": [
      "<class 'pandas.core.frame.DataFrame'>\n",
      "RangeIndex: 16715 entries, 0 to 16714\n",
      "Data columns (total 11 columns):\n",
      " #   Column           Non-Null Count  Dtype  \n",
      "---  ------           --------------  -----  \n",
      " 0   Name             16713 non-null  object \n",
      " 1   Platform         16715 non-null  object \n",
      " 2   Year_of_Release  16446 non-null  float64\n",
      " 3   Genre            16713 non-null  object \n",
      " 4   NA_sales         16715 non-null  float64\n",
      " 5   EU_sales         16715 non-null  float64\n",
      " 6   JP_sales         16715 non-null  float64\n",
      " 7   Other_sales      16715 non-null  float64\n",
      " 8   Critic_Score     8137 non-null   float64\n",
      " 9   User_Score       10014 non-null  object \n",
      " 10  Rating           9949 non-null   object \n",
      "dtypes: float64(6), object(5)\n",
      "memory usage: 1.4+ MB\n"
     ]
    }
   ],
   "source": [
    "df.info() # Выводим оснонвую информацию о датафрейме"
   ]
  },
  {
   "cell_type": "markdown",
   "metadata": {},
   "source": [
    "**После вывода таблицы и информации о ней, мы видим, что нам необходимо:**\n",
    "1. Привести названия столбцов к snake_case;\n",
    "2. Поработать с типами данных;\n",
    "3. Избавиться от пропусков."
   ]
  },
  {
   "cell_type": "markdown",
   "metadata": {},
   "source": [
    "## Предобработка данных"
   ]
  },
  {
   "cell_type": "markdown",
   "metadata": {},
   "source": [
    "### Заменяем названия столбцов"
   ]
  },
  {
   "cell_type": "code",
   "execution_count": 4,
   "metadata": {},
   "outputs": [],
   "source": [
    "# Заменяем названия на snake_case\n",
    "df.columns = df.columns.str.lower()"
   ]
  },
  {
   "cell_type": "code",
   "execution_count": 5,
   "metadata": {},
   "outputs": [
    {
     "data": {
      "text/plain": [
       "Index(['name', 'platform', 'year_of_release', 'genre', 'na_sales', 'eu_sales',\n",
       "       'jp_sales', 'other_sales', 'critic_score', 'user_score', 'rating'],\n",
       "      dtype='object')"
      ]
     },
     "execution_count": 5,
     "metadata": {},
     "output_type": "execute_result"
    }
   ],
   "source": [
    "# Проверяем замены\n",
    "df.columns"
   ]
  },
  {
   "cell_type": "markdown",
   "metadata": {},
   "source": [
    "### Обработка пропусков"
   ]
  },
  {
   "cell_type": "markdown",
   "metadata": {},
   "source": [
    "Мы выводили информацию о таблице выше и увидели, что в некоторых столбцах присутствуют пропуски. Я считаю, что строки с пропусками в `name`, `year_of_release`, `genre` мы можем просто удалить, так как их очень мало. Пропуски в остальных столбцах я считаю, лучше не менять."
   ]
  },
  {
   "cell_type": "code",
   "execution_count": 6,
   "metadata": {},
   "outputs": [],
   "source": [
    "# Удаляем строки с пропусками\n",
    "df = df.dropna(subset=['name', 'year_of_release', 'genre']).reset_index(drop=True)"
   ]
  },
  {
   "cell_type": "code",
   "execution_count": 7,
   "metadata": {},
   "outputs": [],
   "source": [
    "# Избавляемся от пропусков в столбце rating\n",
    "df['rating'] = df['rating'].fillna('undef')"
   ]
  },
  {
   "cell_type": "code",
   "execution_count": 8,
   "metadata": {},
   "outputs": [
    {
     "name": "stdout",
     "output_type": "stream",
     "text": [
      "<class 'pandas.core.frame.DataFrame'>\n",
      "RangeIndex: 16444 entries, 0 to 16443\n",
      "Data columns (total 11 columns):\n",
      " #   Column           Non-Null Count  Dtype  \n",
      "---  ------           --------------  -----  \n",
      " 0   name             16444 non-null  object \n",
      " 1   platform         16444 non-null  object \n",
      " 2   year_of_release  16444 non-null  float64\n",
      " 3   genre            16444 non-null  object \n",
      " 4   na_sales         16444 non-null  float64\n",
      " 5   eu_sales         16444 non-null  float64\n",
      " 6   jp_sales         16444 non-null  float64\n",
      " 7   other_sales      16444 non-null  float64\n",
      " 8   critic_score     7983 non-null   float64\n",
      " 9   user_score       9839 non-null   object \n",
      " 10  rating           16444 non-null  object \n",
      "dtypes: float64(6), object(5)\n",
      "memory usage: 1.4+ MB\n"
     ]
    }
   ],
   "source": [
    "df.info() # Выводим общую информацию для проверки"
   ]
  },
  {
   "cell_type": "markdown",
   "metadata": {},
   "source": [
    "**Вероятные причины появляения пропусков в данных:**\n",
    "\n",
    "1. Вероятный сбой или невозможность дастать данные (например, в столбце `name` не указано название);\n",
    "\n",
    "2. Пропуски в оценках пользователей и критиков могут быть связаны с тем, что игра еще не вышла;\n",
    "\n",
    "3. Пропуски в рейтинге скорее всего связаны с тем, что рейтинг ESRB распространяется на США и Канаду и поэтому не указан для других стран.\n",
    "\n",
    "**Пропуски в данных появляются:**\n",
    "\n",
    "1. Совершенно случайно\n",
    "    \n",
    "  * вероятность встретить пропуск не зависит ни от каких других значений. Пропуск может быть объяснен переменной, его легко восстановить;\n",
    "\n",
    "\n",
    "2. Случайно\n",
    "    \n",
    "  * вероятность пропуска зависит от других значений в наборе данных, но не от значений собственного столбца;\n",
    "\n",
    "\n",
    "3. Не случайно\n",
    "   \n",
    "  * вероятность пропуска зависит от других значений, в том числе и от значений собственного столбца."
   ]
  },
  {
   "cell_type": "markdown",
   "metadata": {},
   "source": [
    "### Преобразуем типы данных"
   ]
  },
  {
   "cell_type": "markdown",
   "metadata": {},
   "source": [
    "Как мы видим, необходимо поработать с типами данных в двух столбцах: `year_of_release`, `user_score`. Год может быть только целым числом, а ретинг почему-то object, хотя должен быть float."
   ]
  },
  {
   "cell_type": "code",
   "execution_count": 9,
   "metadata": {},
   "outputs": [],
   "source": [
    "# Заменяем типы данных\n",
    "df['year_of_release'] = df['year_of_release'].astype('int')\n",
    "df['user_score'] = pd.to_numeric(df['user_score'], errors='coerce')"
   ]
  },
  {
   "cell_type": "code",
   "execution_count": 10,
   "metadata": {},
   "outputs": [
    {
     "name": "stdout",
     "output_type": "stream",
     "text": [
      "<class 'pandas.core.frame.DataFrame'>\n",
      "RangeIndex: 16444 entries, 0 to 16443\n",
      "Data columns (total 11 columns):\n",
      " #   Column           Non-Null Count  Dtype  \n",
      "---  ------           --------------  -----  \n",
      " 0   name             16444 non-null  object \n",
      " 1   platform         16444 non-null  object \n",
      " 2   year_of_release  16444 non-null  int64  \n",
      " 3   genre            16444 non-null  object \n",
      " 4   na_sales         16444 non-null  float64\n",
      " 5   eu_sales         16444 non-null  float64\n",
      " 6   jp_sales         16444 non-null  float64\n",
      " 7   other_sales      16444 non-null  float64\n",
      " 8   critic_score     7983 non-null   float64\n",
      " 9   user_score       7463 non-null   float64\n",
      " 10  rating           16444 non-null  object \n",
      "dtypes: float64(6), int64(1), object(4)\n",
      "memory usage: 1.4+ MB\n"
     ]
    }
   ],
   "source": [
    "df.info() # Выводим общую информацию"
   ]
  },
  {
   "cell_type": "markdown",
   "metadata": {},
   "source": [
    "В столбце `user_score` были аббривеатура tbd, что значит \"To be determinated\". По-русски это означает, что оценка пользователей еще не определена для этой игры, а значит мы смело можем заменять эти значения на NaN, так как иначе они будут нам мешать."
   ]
  },
  {
   "cell_type": "markdown",
   "metadata": {},
   "source": [
    "## Считаем суммарные продажи"
   ]
  },
  {
   "cell_type": "code",
   "execution_count": 11,
   "metadata": {},
   "outputs": [
    {
     "data": {
      "text/html": [
       "<div>\n",
       "<style scoped>\n",
       "    .dataframe tbody tr th:only-of-type {\n",
       "        vertical-align: middle;\n",
       "    }\n",
       "\n",
       "    .dataframe tbody tr th {\n",
       "        vertical-align: top;\n",
       "    }\n",
       "\n",
       "    .dataframe thead th {\n",
       "        text-align: right;\n",
       "    }\n",
       "</style>\n",
       "<table border=\"1\" class=\"dataframe\">\n",
       "  <thead>\n",
       "    <tr style=\"text-align: right;\">\n",
       "      <th></th>\n",
       "      <th>name</th>\n",
       "      <th>platform</th>\n",
       "      <th>year_of_release</th>\n",
       "      <th>genre</th>\n",
       "      <th>na_sales</th>\n",
       "      <th>eu_sales</th>\n",
       "      <th>jp_sales</th>\n",
       "      <th>other_sales</th>\n",
       "      <th>critic_score</th>\n",
       "      <th>user_score</th>\n",
       "      <th>rating</th>\n",
       "      <th>total_sales</th>\n",
       "    </tr>\n",
       "  </thead>\n",
       "  <tbody>\n",
       "    <tr>\n",
       "      <th>0</th>\n",
       "      <td>Wii Sports</td>\n",
       "      <td>Wii</td>\n",
       "      <td>2006</td>\n",
       "      <td>Sports</td>\n",
       "      <td>41.36</td>\n",
       "      <td>28.96</td>\n",
       "      <td>3.77</td>\n",
       "      <td>8.45</td>\n",
       "      <td>76.0</td>\n",
       "      <td>8.0</td>\n",
       "      <td>E</td>\n",
       "      <td>82.54</td>\n",
       "    </tr>\n",
       "    <tr>\n",
       "      <th>1</th>\n",
       "      <td>Super Mario Bros.</td>\n",
       "      <td>NES</td>\n",
       "      <td>1985</td>\n",
       "      <td>Platform</td>\n",
       "      <td>29.08</td>\n",
       "      <td>3.58</td>\n",
       "      <td>6.81</td>\n",
       "      <td>0.77</td>\n",
       "      <td>NaN</td>\n",
       "      <td>NaN</td>\n",
       "      <td>undef</td>\n",
       "      <td>40.24</td>\n",
       "    </tr>\n",
       "    <tr>\n",
       "      <th>2</th>\n",
       "      <td>Mario Kart Wii</td>\n",
       "      <td>Wii</td>\n",
       "      <td>2008</td>\n",
       "      <td>Racing</td>\n",
       "      <td>15.68</td>\n",
       "      <td>12.76</td>\n",
       "      <td>3.79</td>\n",
       "      <td>3.29</td>\n",
       "      <td>82.0</td>\n",
       "      <td>8.3</td>\n",
       "      <td>E</td>\n",
       "      <td>35.52</td>\n",
       "    </tr>\n",
       "    <tr>\n",
       "      <th>3</th>\n",
       "      <td>Wii Sports Resort</td>\n",
       "      <td>Wii</td>\n",
       "      <td>2009</td>\n",
       "      <td>Sports</td>\n",
       "      <td>15.61</td>\n",
       "      <td>10.93</td>\n",
       "      <td>3.28</td>\n",
       "      <td>2.95</td>\n",
       "      <td>80.0</td>\n",
       "      <td>8.0</td>\n",
       "      <td>E</td>\n",
       "      <td>32.77</td>\n",
       "    </tr>\n",
       "    <tr>\n",
       "      <th>4</th>\n",
       "      <td>Pokemon Red/Pokemon Blue</td>\n",
       "      <td>GB</td>\n",
       "      <td>1996</td>\n",
       "      <td>Role-Playing</td>\n",
       "      <td>11.27</td>\n",
       "      <td>8.89</td>\n",
       "      <td>10.22</td>\n",
       "      <td>1.00</td>\n",
       "      <td>NaN</td>\n",
       "      <td>NaN</td>\n",
       "      <td>undef</td>\n",
       "      <td>31.38</td>\n",
       "    </tr>\n",
       "  </tbody>\n",
       "</table>\n",
       "</div>"
      ],
      "text/plain": [
       "                       name platform  year_of_release         genre  na_sales  \\\n",
       "0                Wii Sports      Wii             2006        Sports     41.36   \n",
       "1         Super Mario Bros.      NES             1985      Platform     29.08   \n",
       "2            Mario Kart Wii      Wii             2008        Racing     15.68   \n",
       "3         Wii Sports Resort      Wii             2009        Sports     15.61   \n",
       "4  Pokemon Red/Pokemon Blue       GB             1996  Role-Playing     11.27   \n",
       "\n",
       "   eu_sales  jp_sales  other_sales  critic_score  user_score rating  \\\n",
       "0     28.96      3.77         8.45          76.0         8.0      E   \n",
       "1      3.58      6.81         0.77           NaN         NaN  undef   \n",
       "2     12.76      3.79         3.29          82.0         8.3      E   \n",
       "3     10.93      3.28         2.95          80.0         8.0      E   \n",
       "4      8.89     10.22         1.00           NaN         NaN  undef   \n",
       "\n",
       "   total_sales  \n",
       "0        82.54  \n",
       "1        40.24  \n",
       "2        35.52  \n",
       "3        32.77  \n",
       "4        31.38  "
      ]
     },
     "execution_count": 11,
     "metadata": {},
     "output_type": "execute_result"
    }
   ],
   "source": [
    "# Считаем сумарные продажи и выводим их в отдельный столбец\n",
    "df['total_sales'] = df['na_sales'] + df['eu_sales'] + df['jp_sales'] + df['other_sales']\n",
    "df.head()"
   ]
  },
  {
   "cell_type": "markdown",
   "metadata": {},
   "source": [
    "## Проводим исследовательский анализ данных"
   ]
  },
  {
   "cell_type": "markdown",
   "metadata": {},
   "source": [
    "### Выпуск игр по годам"
   ]
  },
  {
   "cell_type": "code",
   "execution_count": 12,
   "metadata": {},
   "outputs": [
    {
     "data": {
      "image/png": "[encoded data removed]",
      "text/plain": [
       "<Figure size 432x288 with 1 Axes>"
      ]
     },
     "metadata": {
      "needs_background": "light"
     },
     "output_type": "display_data"
    }
   ],
   "source": [
    "# Смотрим, сколько игр выпускалось по годам\n",
    "df.groupby('year_of_release')['name'].count().plot(grid=True, title='Количество игр, выпущенных в разные годы');"
   ]
  },
  {
   "cell_type": "markdown",
   "metadata": {},
   "source": [
    "По графику видим, что до 1994 года выпускалось очень мало игр. Из этого можем сделать вывод, что данные до 1994 года для нас не столь интересны."
   ]
  },
  {
   "cell_type": "code",
   "execution_count": 13,
   "metadata": {},
   "outputs": [],
   "source": [
    "df = df.query('year_of_release >= 1994') # Отбросим неинтересующие нас данные"
   ]
  },
  {
   "cell_type": "markdown",
   "metadata": {},
   "source": [
    "### Изменение продаж по платформам"
   ]
  },
  {
   "cell_type": "code",
   "execution_count": 14,
   "metadata": {},
   "outputs": [
    {
     "data": {
      "image/png": "[encoded data removed]",
      "text/plain": [
       "<Figure size 1080x720 with 1 Axes>"
      ]
     },
     "metadata": {
      "needs_background": "light"
     },
     "output_type": "display_data"
    }
   ],
   "source": [
    "# Строим график продаж по платформам\n",
    "df.groupby(['platform', 'year_of_release'])['total_sales'].count().unstack('platform').plot(grid=True, figsize=(15, 10), title='Изменения продаж по платформам');"
   ]
  },
  {
   "cell_type": "markdown",
   "metadata": {},
   "source": [
    "Пока что не очень понятно, много пересекающихся линий одинаковых цветов. Но в целом наблюдается, что какие-то платформы пропадают, какие-то появляются, и примерное время жизни платформы около 10 лет. Попробуем ниже уточнить."
   ]
  },
  {
   "cell_type": "code",
   "execution_count": 15,
   "metadata": {},
   "outputs": [
    {
     "data": {
      "text/plain": [
       "platform\n",
       "PS2     1233.56\n",
       "X360     961.24\n",
       "PS3      931.34\n",
       "Wii      891.18\n",
       "DS       802.76\n",
       "PS       727.58\n",
       "PS4      314.14\n",
       "GBA      312.88\n",
       "PSP      289.53\n",
       "3DS      257.81\n",
       "PC       252.66\n",
       "XB       251.57\n",
       "N64      218.01\n",
       "GC       196.73\n",
       "XOne     159.32\n",
       "GB       152.08\n",
       "SNES      84.67\n",
       "WiiU      82.19\n",
       "PSV       53.81\n",
       "SAT       33.59\n",
       "DC        15.95\n",
       "GEN        8.13\n",
       "WS         1.42\n",
       "NG         1.23\n",
       "SCD        0.36\n",
       "TG16       0.16\n",
       "NES        0.11\n",
       "3DO        0.10\n",
       "PCFX       0.03\n",
       "Name: total_sales, dtype: float64"
      ]
     },
     "execution_count": 15,
     "metadata": {},
     "output_type": "execute_result"
    }
   ],
   "source": [
    "# Считаем суммарные продажи по платформам\n",
    "df.groupby('platform')['total_sales'].sum().sort_values(ascending=False)"
   ]
  },
  {
   "cell_type": "markdown",
   "metadata": {},
   "source": [
    "Получаем, что по сумме продаж в ТОП-10 у нас: PS 2, Xbox 360, PS 3, Wii, DS, PS, PS 4, GBA, PSP, 3DS. Посмотрим, как они продавались по годам."
   ]
  },
  {
   "cell_type": "code",
   "execution_count": 16,
   "metadata": {},
   "outputs": [
    {
     "data": {
      "image/png": "[encoded data removed]",
      "text/plain": [
       "<Figure size 864x360 with 1 Axes>"
      ]
     },
     "metadata": {
      "needs_background": "light"
     },
     "output_type": "display_data"
    }
   ],
   "source": [
    "# Строим график по самым популярным платформам\n",
    "platf_list = ['PS2', 'X360', 'PS3', 'Wii', 'DS', 'PS', 'PS4', 'GBA', 'PSP', '3DS']\n",
    "df[df['platform'].isin(platf_list)].groupby(['platform', 'year_of_release'])['total_sales'].sum().unstack('platform').plot(grid=True, figsize=(12, 5), title='Изменения суммарных продаж по платформам');"
   ]
  },
  {
   "cell_type": "markdown",
   "metadata": {},
   "source": [
    "По графику видно, что платформы живут в основном от 9 до 11 лет. Бум продаж приходится на середину срока существования платформы.\n",
    "\n",
    "Если средний срок жизини платформы 9-11 лет, значит для анализа нам подойдут платформы, которые были созданы менее 9-11 лет назад. К примеру, ясно, что нам нет смысла брать в актуальный период PS 3, так как она вышла в 2006 году, а значит к 2017 ее жизненный срок заканчивается."
   ]
  },
  {
   "cell_type": "markdown",
   "metadata": {},
   "source": [
    "### Выведем актуальные и потенциальные платформы"
   ]
  },
  {
   "cell_type": "code",
   "execution_count": 17,
   "metadata": {},
   "outputs": [
    {
     "data": {
      "text/plain": [
       "platform\n",
       "3DO     1994\n",
       "GB      1994\n",
       "SNES    1994\n",
       "SCD     1994\n",
       "GEN     1994\n",
       "NES     1994\n",
       "NG      1994\n",
       "PC      1994\n",
       "PS      1994\n",
       "SAT     1994\n",
       "TG16    1995\n",
       "N64     1996\n",
       "PCFX    1996\n",
       "DC      1998\n",
       "WS      1999\n",
       "PS2     2000\n",
       "XB      2000\n",
       "GBA     2000\n",
       "GC      2001\n",
       "PSP     2004\n",
       "DS      2004\n",
       "X360    2005\n",
       "Wii     2006\n",
       "PS3     2006\n",
       "PSV     2011\n",
       "3DS     2011\n",
       "WiiU    2012\n",
       "PS4     2013\n",
       "XOne    2013\n",
       "Name: year_of_release, dtype: int64"
      ]
     },
     "execution_count": 17,
     "metadata": {},
     "output_type": "execute_result"
    }
   ],
   "source": [
    "# Выводим даты выхода платформ\n",
    "df.groupby('platform')['year_of_release'].min().sort_values()"
   ]
  },
  {
   "cell_type": "markdown",
   "metadata": {},
   "source": [
    "Нам имеем смысл в анализ взять те платформы, которые вышли после 2006 года. То есть: PSV, 3DS, WiiU, PS4, XOne. Ниже создадим отфильтрованную таблицу по платформам. Это потенциально прибильные платформы. Также добавим РС, так как эта платформа обновляемая, значит всегда актуальная."
   ]
  },
  {
   "cell_type": "code",
   "execution_count": 18,
   "metadata": {},
   "outputs": [
    {
     "data": {
      "text/html": [
       "<div>\n",
       "<style scoped>\n",
       "    .dataframe tbody tr th:only-of-type {\n",
       "        vertical-align: middle;\n",
       "    }\n",
       "\n",
       "    .dataframe tbody tr th {\n",
       "        vertical-align: top;\n",
       "    }\n",
       "\n",
       "    .dataframe thead th {\n",
       "        text-align: right;\n",
       "    }\n",
       "</style>\n",
       "<table border=\"1\" class=\"dataframe\">\n",
       "  <thead>\n",
       "    <tr style=\"text-align: right;\">\n",
       "      <th></th>\n",
       "      <th>name</th>\n",
       "      <th>platform</th>\n",
       "      <th>year_of_release</th>\n",
       "      <th>genre</th>\n",
       "      <th>na_sales</th>\n",
       "      <th>eu_sales</th>\n",
       "      <th>jp_sales</th>\n",
       "      <th>other_sales</th>\n",
       "      <th>critic_score</th>\n",
       "      <th>user_score</th>\n",
       "      <th>rating</th>\n",
       "      <th>total_sales</th>\n",
       "    </tr>\n",
       "  </thead>\n",
       "  <tbody>\n",
       "    <tr>\n",
       "      <th>0</th>\n",
       "      <td>Call of Duty: Black Ops 3</td>\n",
       "      <td>PS4</td>\n",
       "      <td>2015</td>\n",
       "      <td>Shooter</td>\n",
       "      <td>6.03</td>\n",
       "      <td>5.86</td>\n",
       "      <td>0.36</td>\n",
       "      <td>2.38</td>\n",
       "      <td>NaN</td>\n",
       "      <td>NaN</td>\n",
       "      <td>undef</td>\n",
       "      <td>14.63</td>\n",
       "    </tr>\n",
       "    <tr>\n",
       "      <th>1</th>\n",
       "      <td>Pokemon X/Pokemon Y</td>\n",
       "      <td>3DS</td>\n",
       "      <td>2013</td>\n",
       "      <td>Role-Playing</td>\n",
       "      <td>5.28</td>\n",
       "      <td>4.19</td>\n",
       "      <td>4.35</td>\n",
       "      <td>0.78</td>\n",
       "      <td>NaN</td>\n",
       "      <td>NaN</td>\n",
       "      <td>undef</td>\n",
       "      <td>14.60</td>\n",
       "    </tr>\n",
       "    <tr>\n",
       "      <th>2</th>\n",
       "      <td>Mario Kart 7</td>\n",
       "      <td>3DS</td>\n",
       "      <td>2011</td>\n",
       "      <td>Racing</td>\n",
       "      <td>5.03</td>\n",
       "      <td>4.02</td>\n",
       "      <td>2.69</td>\n",
       "      <td>0.91</td>\n",
       "      <td>85.0</td>\n",
       "      <td>8.2</td>\n",
       "      <td>E</td>\n",
       "      <td>12.65</td>\n",
       "    </tr>\n",
       "    <tr>\n",
       "      <th>3</th>\n",
       "      <td>Grand Theft Auto V</td>\n",
       "      <td>PS4</td>\n",
       "      <td>2014</td>\n",
       "      <td>Action</td>\n",
       "      <td>3.96</td>\n",
       "      <td>6.31</td>\n",
       "      <td>0.38</td>\n",
       "      <td>1.97</td>\n",
       "      <td>97.0</td>\n",
       "      <td>8.3</td>\n",
       "      <td>M</td>\n",
       "      <td>12.62</td>\n",
       "    </tr>\n",
       "    <tr>\n",
       "      <th>4</th>\n",
       "      <td>Pokemon Omega Ruby/Pokemon Alpha Sapphire</td>\n",
       "      <td>3DS</td>\n",
       "      <td>2014</td>\n",
       "      <td>Role-Playing</td>\n",
       "      <td>4.35</td>\n",
       "      <td>3.49</td>\n",
       "      <td>3.10</td>\n",
       "      <td>0.74</td>\n",
       "      <td>NaN</td>\n",
       "      <td>NaN</td>\n",
       "      <td>undef</td>\n",
       "      <td>11.68</td>\n",
       "    </tr>\n",
       "  </tbody>\n",
       "</table>\n",
       "</div>"
      ],
      "text/plain": [
       "                                        name platform  year_of_release  \\\n",
       "0                  Call of Duty: Black Ops 3      PS4             2015   \n",
       "1                        Pokemon X/Pokemon Y      3DS             2013   \n",
       "2                               Mario Kart 7      3DS             2011   \n",
       "3                         Grand Theft Auto V      PS4             2014   \n",
       "4  Pokemon Omega Ruby/Pokemon Alpha Sapphire      3DS             2014   \n",
       "\n",
       "          genre  na_sales  eu_sales  jp_sales  other_sales  critic_score  \\\n",
       "0       Shooter      6.03      5.86      0.36         2.38           NaN   \n",
       "1  Role-Playing      5.28      4.19      4.35         0.78           NaN   \n",
       "2        Racing      5.03      4.02      2.69         0.91          85.0   \n",
       "3        Action      3.96      6.31      0.38         1.97          97.0   \n",
       "4  Role-Playing      4.35      3.49      3.10         0.74           NaN   \n",
       "\n",
       "   user_score rating  total_sales  \n",
       "0         NaN  undef        14.63  \n",
       "1         NaN  undef        14.60  \n",
       "2         8.2      E        12.65  \n",
       "3         8.3      M        12.62  \n",
       "4         NaN  undef        11.68  "
      ]
     },
     "execution_count": 18,
     "metadata": {},
     "output_type": "execute_result"
    }
   ],
   "source": [
    "# Создадим таблицу по отфильтрованым платформам\n",
    "platform_filtred = ['PSV', '3DS', 'WiiU', 'PS4', 'XOne', 'PC']\n",
    "df_filtred = df[(df['platform'].isin(platform_filtred)) & (df['year_of_release'] >= 2011)].reset_index(drop=True)\n",
    "df_filtred.head()"
   ]
  },
  {
   "cell_type": "code",
   "execution_count": 19,
   "metadata": {
    "scrolled": true
   },
   "outputs": [
    {
     "data": {
      "image/png": "[encoded data removed]",
      "text/plain": [
       "<Figure size 864x360 with 1 Axes>"
      ]
     },
     "metadata": {
      "needs_background": "light"
     },
     "output_type": "display_data"
    }
   ],
   "source": [
    "# Создадим график суммы продаж по годам\n",
    "df_filtred.groupby(['platform', 'year_of_release'])['total_sales'].sum().unstack('platform').plot(grid=True, figsize=(12, 5), title='Изменения продаж по платформам');"
   ]
  },
  {
   "cell_type": "markdown",
   "metadata": {},
   "source": [
    "Все представленные на данном графике платформы можно считать потенциально прибыльными на 2017 год. Но особое внимание стоит уделить PS 4 и Xbox One, так как они являются самыми современными платформами. Продажи у платформ падают к 2016 году, может не вся статистика собрана или еще какие-то проблемы. Но продажи PS 4 и Xbox One больше, чем у других платформ."
   ]
  },
  {
   "cell_type": "markdown",
   "metadata": {},
   "source": [
    "### Диаграммы размаха"
   ]
  },
  {
   "cell_type": "code",
   "execution_count": 20,
   "metadata": {},
   "outputs": [
    {
     "name": "stdout",
     "output_type": "stream",
     "text": [
      "count    2116.000000\n",
      "mean        0.456026\n",
      "std         1.138648\n",
      "min         0.010000\n",
      "25%         0.040000\n",
      "50%         0.110000\n",
      "75%         0.362500\n",
      "max        14.630000\n",
      "Name: total_sales, dtype: float64\n"
     ]
    },
    {
     "data": {
      "image/png": "[encoded data removed]",
      "text/plain": [
       "<Figure size 1296x360 with 1 Axes>"
      ]
     },
     "metadata": {
      "needs_background": "light"
     },
     "output_type": "display_data"
    }
   ],
   "source": [
    "# Строим диаграмму размаха\n",
    "print(df_filtred['total_sales'].describe())\n",
    "\n",
    "plt.figure(figsize=(18, 5))\n",
    "sns.boxplot(data=df_filtred, x='total_sales', y='platform');"
   ]
  },
  {
   "cell_type": "markdown",
   "metadata": {},
   "source": [
    "На данной диаграмме размаха почти не видно основные показатели (квартили и тд), но хорошо видно выбросы, поэтому ниже сделаем такую же диаграмму, но с лимитами."
   ]
  },
  {
   "cell_type": "code",
   "execution_count": 21,
   "metadata": {},
   "outputs": [
    {
     "data": {
      "text/plain": [
       "(0.0, 3.0)"
      ]
     },
     "execution_count": 21,
     "metadata": {},
     "output_type": "execute_result"
    },
    {
     "data": {
      "image/png": "[encoded data removed]",
      "text/plain": [
       "<Figure size 1296x360 with 1 Axes>"
      ]
     },
     "metadata": {
      "needs_background": "light"
     },
     "output_type": "display_data"
    }
   ],
   "source": [
    "# Строим диаграмму размаха с ограничением по значениям х\n",
    "plt.figure(figsize=(18, 5))\n",
    "sns.boxplot(data=df_filtred, x='total_sales', y='platform');\n",
    "plt.xlim(0, 3)"
   ]
  },
  {
   "cell_type": "markdown",
   "metadata": {},
   "source": [
    "На данной диаграмме лучше видно квартили и медианы. Видим явных лидеров PS 4, Xbox One. У них все показатели продаж выше остальных. Явно отстает PSV. Продажи у нее совсем маленькие."
   ]
  },
  {
   "cell_type": "markdown",
   "metadata": {},
   "source": [
    "### Влияние критики и отзывов на продажи"
   ]
  },
  {
   "cell_type": "code",
   "execution_count": 22,
   "metadata": {
    "scrolled": true
   },
   "outputs": [
    {
     "data": {
      "image/png": "[encoded data removed]",
      "text/plain": [
       "<Figure size 864x360 with 1 Axes>"
      ]
     },
     "metadata": {
      "needs_background": "light"
     },
     "output_type": "display_data"
    },
    {
     "data": {
      "image/png": "[encoded data removed]",
      "text/plain": [
       "<Figure size 864x360 with 1 Axes>"
      ]
     },
     "metadata": {
      "needs_background": "light"
     },
     "output_type": "display_data"
    },
    {
     "data": {
      "image/png": "[encoded data removed]",
      "text/plain": [
       "<Figure size 864x360 with 1 Axes>"
      ]
     },
     "metadata": {
      "needs_background": "light"
     },
     "output_type": "display_data"
    },
    {
     "data": {
      "image/png": "[encoded data removed]",
      "text/plain": [
       "<Figure size 864x360 with 1 Axes>"
      ]
     },
     "metadata": {
      "needs_background": "light"
     },
     "output_type": "display_data"
    },
    {
     "data": {
      "image/png": "[encoded data removed]",
      "text/plain": [
       "<Figure size 864x360 with 1 Axes>"
      ]
     },
     "metadata": {
      "needs_background": "light"
     },
     "output_type": "display_data"
    },
    {
     "data": {
      "image/png": "[encoded data removed]",
      "text/plain": [
       "<Figure size 864x360 with 1 Axes>"
      ]
     },
     "metadata": {
      "needs_background": "light"
     },
     "output_type": "display_data"
    }
   ],
   "source": [
    "# Строим диаграммы рассеяния, которые показывают зависимость продаж игр на опред. платформу от оценки пользователей\n",
    "for platform in platform_filtred:\n",
    "    df_filtred.query('platform == @platform').plot(\n",
    "        x='user_score', \n",
    "        y='total_sales', \n",
    "        kind='scatter', \n",
    "        title=platform, figsize=(12, 5))"
   ]
  },
  {
   "cell_type": "markdown",
   "metadata": {},
   "source": [
    "Судя по диаграммам ни у одной из платформ нет зависимости продаж игр от оценки пользователей. Есть игры с низкими оценками, но хорошими продажами и наоборот."
   ]
  },
  {
   "cell_type": "code",
   "execution_count": 23,
   "metadata": {},
   "outputs": [
    {
     "data": {
      "image/png": "[encoded data removed]",
      "text/plain": [
       "<Figure size 864x360 with 1 Axes>"
      ]
     },
     "metadata": {
      "needs_background": "light"
     },
     "output_type": "display_data"
    },
    {
     "data": {
      "image/png": "[encoded data removed]",
      "text/plain": [
       "<Figure size 864x360 with 1 Axes>"
      ]
     },
     "metadata": {
      "needs_background": "light"
     },
     "output_type": "display_data"
    },
    {
     "data": {
      "image/png": "[encoded data removed]",
      "text/plain": [
       "<Figure size 864x360 with 1 Axes>"
      ]
     },
     "metadata": {
      "needs_background": "light"
     },
     "output_type": "display_data"
    },
    {
     "data": {
      "image/png": "[encoded data removed]",
      "text/plain": [
       "<Figure size 864x360 with 1 Axes>"
      ]
     },
     "metadata": {
      "needs_background": "light"
     },
     "output_type": "display_data"
    },
    {
     "data": {
      "image/png": "[encoded data removed]",
      "text/plain": [
       "<Figure size 864x360 with 1 Axes>"
      ]
     },
     "metadata": {
      "needs_background": "light"
     },
     "output_type": "display_data"
    },
    {
     "data": {
      "image/png": "[encoded data removed]",
      "text/plain": [
       "<Figure size 864x360 with 1 Axes>"
      ]
     },
     "metadata": {
      "needs_background": "light"
     },
     "output_type": "display_data"
    }
   ],
   "source": [
    "# Строим диаграммы рассеяния, которые показывают зависимость продаж игр на опред. платформу от оценки критиков\n",
    "for platform in platform_filtred:\n",
    "    df_filtred.query('platform == @platform').plot(\n",
    "        x='critic_score', \n",
    "        y='total_sales', \n",
    "        kind='scatter', \n",
    "        title=platform, \n",
    "        figsize=(12, 5))"
   ]
  },
  {
   "cell_type": "markdown",
   "metadata": {},
   "source": [
    "Судя по диаграммам ни у одной из платформ нет зависимости продаж игр от оценки критиков. Есть игры с низкими оценками, но хорошими продажами и наоборот. Хотя в целом, можно заметить, что оценки критиков немного больше влияют на предпочтения, но буквально на уровне погрешности."
   ]
  },
  {
   "cell_type": "code",
   "execution_count": 24,
   "metadata": {},
   "outputs": [
    {
     "data": {
      "text/html": [
       "<div>\n",
       "<style scoped>\n",
       "    .dataframe tbody tr th:only-of-type {\n",
       "        vertical-align: middle;\n",
       "    }\n",
       "\n",
       "    .dataframe tbody tr th {\n",
       "        vertical-align: top;\n",
       "    }\n",
       "\n",
       "    .dataframe thead th {\n",
       "        text-align: right;\n",
       "    }\n",
       "</style>\n",
       "<table border=\"1\" class=\"dataframe\">\n",
       "  <thead>\n",
       "    <tr style=\"text-align: right;\">\n",
       "      <th></th>\n",
       "      <th>total_sales</th>\n",
       "      <th>critic_score</th>\n",
       "      <th>user_score</th>\n",
       "    </tr>\n",
       "  </thead>\n",
       "  <tbody>\n",
       "    <tr>\n",
       "      <th>total_sales</th>\n",
       "      <td>1.000000</td>\n",
       "      <td>0.131763</td>\n",
       "      <td>0.013489</td>\n",
       "    </tr>\n",
       "    <tr>\n",
       "      <th>critic_score</th>\n",
       "      <td>0.131763</td>\n",
       "      <td>1.000000</td>\n",
       "      <td>0.734300</td>\n",
       "    </tr>\n",
       "    <tr>\n",
       "      <th>user_score</th>\n",
       "      <td>0.013489</td>\n",
       "      <td>0.734300</td>\n",
       "      <td>1.000000</td>\n",
       "    </tr>\n",
       "  </tbody>\n",
       "</table>\n",
       "</div>"
      ],
      "text/plain": [
       "              total_sales  critic_score  user_score\n",
       "total_sales      1.000000      0.131763    0.013489\n",
       "critic_score     0.131763      1.000000    0.734300\n",
       "user_score       0.013489      0.734300    1.000000"
      ]
     },
     "metadata": {},
     "output_type": "display_data"
    },
    {
     "data": {
      "text/html": [
       "<div>\n",
       "<style scoped>\n",
       "    .dataframe tbody tr th:only-of-type {\n",
       "        vertical-align: middle;\n",
       "    }\n",
       "\n",
       "    .dataframe tbody tr th {\n",
       "        vertical-align: top;\n",
       "    }\n",
       "\n",
       "    .dataframe thead th {\n",
       "        text-align: right;\n",
       "    }\n",
       "</style>\n",
       "<table border=\"1\" class=\"dataframe\">\n",
       "  <thead>\n",
       "    <tr style=\"text-align: right;\">\n",
       "      <th></th>\n",
       "      <th>total_sales</th>\n",
       "      <th>critic_score</th>\n",
       "      <th>user_score</th>\n",
       "    </tr>\n",
       "  </thead>\n",
       "  <tbody>\n",
       "    <tr>\n",
       "      <th>total_sales</th>\n",
       "      <td>1.000000</td>\n",
       "      <td>0.348740</td>\n",
       "      <td>0.222078</td>\n",
       "    </tr>\n",
       "    <tr>\n",
       "      <th>critic_score</th>\n",
       "      <td>0.348740</td>\n",
       "      <td>1.000000</td>\n",
       "      <td>0.745222</td>\n",
       "    </tr>\n",
       "    <tr>\n",
       "      <th>user_score</th>\n",
       "      <td>0.222078</td>\n",
       "      <td>0.745222</td>\n",
       "      <td>1.000000</td>\n",
       "    </tr>\n",
       "  </tbody>\n",
       "</table>\n",
       "</div>"
      ],
      "text/plain": [
       "              total_sales  critic_score  user_score\n",
       "total_sales      1.000000      0.348740    0.222078\n",
       "critic_score     0.348740      1.000000    0.745222\n",
       "user_score       0.222078      0.745222    1.000000"
      ]
     },
     "metadata": {},
     "output_type": "display_data"
    },
    {
     "data": {
      "text/html": [
       "<div>\n",
       "<style scoped>\n",
       "    .dataframe tbody tr th:only-of-type {\n",
       "        vertical-align: middle;\n",
       "    }\n",
       "\n",
       "    .dataframe tbody tr th {\n",
       "        vertical-align: top;\n",
       "    }\n",
       "\n",
       "    .dataframe thead th {\n",
       "        text-align: right;\n",
       "    }\n",
       "</style>\n",
       "<table border=\"1\" class=\"dataframe\">\n",
       "  <thead>\n",
       "    <tr style=\"text-align: right;\">\n",
       "      <th></th>\n",
       "      <th>total_sales</th>\n",
       "      <th>critic_score</th>\n",
       "      <th>user_score</th>\n",
       "    </tr>\n",
       "  </thead>\n",
       "  <tbody>\n",
       "    <tr>\n",
       "      <th>total_sales</th>\n",
       "      <td>1.000000</td>\n",
       "      <td>0.34838</td>\n",
       "      <td>0.400219</td>\n",
       "    </tr>\n",
       "    <tr>\n",
       "      <th>critic_score</th>\n",
       "      <td>0.348380</td>\n",
       "      <td>1.00000</td>\n",
       "      <td>0.770080</td>\n",
       "    </tr>\n",
       "    <tr>\n",
       "      <th>user_score</th>\n",
       "      <td>0.400219</td>\n",
       "      <td>0.77008</td>\n",
       "      <td>1.000000</td>\n",
       "    </tr>\n",
       "  </tbody>\n",
       "</table>\n",
       "</div>"
      ],
      "text/plain": [
       "              total_sales  critic_score  user_score\n",
       "total_sales      1.000000       0.34838    0.400219\n",
       "critic_score     0.348380       1.00000    0.770080\n",
       "user_score       0.400219       0.77008    1.000000"
      ]
     },
     "metadata": {},
     "output_type": "display_data"
    },
    {
     "data": {
      "text/html": [
       "<div>\n",
       "<style scoped>\n",
       "    .dataframe tbody tr th:only-of-type {\n",
       "        vertical-align: middle;\n",
       "    }\n",
       "\n",
       "    .dataframe tbody tr th {\n",
       "        vertical-align: top;\n",
       "    }\n",
       "\n",
       "    .dataframe thead th {\n",
       "        text-align: right;\n",
       "    }\n",
       "</style>\n",
       "<table border=\"1\" class=\"dataframe\">\n",
       "  <thead>\n",
       "    <tr style=\"text-align: right;\">\n",
       "      <th></th>\n",
       "      <th>total_sales</th>\n",
       "      <th>critic_score</th>\n",
       "      <th>user_score</th>\n",
       "    </tr>\n",
       "  </thead>\n",
       "  <tbody>\n",
       "    <tr>\n",
       "      <th>total_sales</th>\n",
       "      <td>1.000000</td>\n",
       "      <td>0.406568</td>\n",
       "      <td>-0.031957</td>\n",
       "    </tr>\n",
       "    <tr>\n",
       "      <th>critic_score</th>\n",
       "      <td>0.406568</td>\n",
       "      <td>1.000000</td>\n",
       "      <td>0.557654</td>\n",
       "    </tr>\n",
       "    <tr>\n",
       "      <th>user_score</th>\n",
       "      <td>-0.031957</td>\n",
       "      <td>0.557654</td>\n",
       "      <td>1.000000</td>\n",
       "    </tr>\n",
       "  </tbody>\n",
       "</table>\n",
       "</div>"
      ],
      "text/plain": [
       "              total_sales  critic_score  user_score\n",
       "total_sales      1.000000      0.406568   -0.031957\n",
       "critic_score     0.406568      1.000000    0.557654\n",
       "user_score      -0.031957      0.557654    1.000000"
      ]
     },
     "metadata": {},
     "output_type": "display_data"
    },
    {
     "data": {
      "text/html": [
       "<div>\n",
       "<style scoped>\n",
       "    .dataframe tbody tr th:only-of-type {\n",
       "        vertical-align: middle;\n",
       "    }\n",
       "\n",
       "    .dataframe tbody tr th {\n",
       "        vertical-align: top;\n",
       "    }\n",
       "\n",
       "    .dataframe thead th {\n",
       "        text-align: right;\n",
       "    }\n",
       "</style>\n",
       "<table border=\"1\" class=\"dataframe\">\n",
       "  <thead>\n",
       "    <tr style=\"text-align: right;\">\n",
       "      <th></th>\n",
       "      <th>total_sales</th>\n",
       "      <th>critic_score</th>\n",
       "      <th>user_score</th>\n",
       "    </tr>\n",
       "  </thead>\n",
       "  <tbody>\n",
       "    <tr>\n",
       "      <th>total_sales</th>\n",
       "      <td>1.000000</td>\n",
       "      <td>0.416998</td>\n",
       "      <td>-0.068925</td>\n",
       "    </tr>\n",
       "    <tr>\n",
       "      <th>critic_score</th>\n",
       "      <td>0.416998</td>\n",
       "      <td>1.000000</td>\n",
       "      <td>0.472462</td>\n",
       "    </tr>\n",
       "    <tr>\n",
       "      <th>user_score</th>\n",
       "      <td>-0.068925</td>\n",
       "      <td>0.472462</td>\n",
       "      <td>1.000000</td>\n",
       "    </tr>\n",
       "  </tbody>\n",
       "</table>\n",
       "</div>"
      ],
      "text/plain": [
       "              total_sales  critic_score  user_score\n",
       "total_sales      1.000000      0.416998   -0.068925\n",
       "critic_score     0.416998      1.000000    0.472462\n",
       "user_score      -0.068925      0.472462    1.000000"
      ]
     },
     "metadata": {},
     "output_type": "display_data"
    },
    {
     "data": {
      "text/html": [
       "<div>\n",
       "<style scoped>\n",
       "    .dataframe tbody tr th:only-of-type {\n",
       "        vertical-align: middle;\n",
       "    }\n",
       "\n",
       "    .dataframe tbody tr th {\n",
       "        vertical-align: top;\n",
       "    }\n",
       "\n",
       "    .dataframe thead th {\n",
       "        text-align: right;\n",
       "    }\n",
       "</style>\n",
       "<table border=\"1\" class=\"dataframe\">\n",
       "  <thead>\n",
       "    <tr style=\"text-align: right;\">\n",
       "      <th></th>\n",
       "      <th>total_sales</th>\n",
       "      <th>critic_score</th>\n",
       "      <th>user_score</th>\n",
       "    </tr>\n",
       "  </thead>\n",
       "  <tbody>\n",
       "    <tr>\n",
       "      <th>total_sales</th>\n",
       "      <td>1.000000</td>\n",
       "      <td>0.314185</td>\n",
       "      <td>-0.048967</td>\n",
       "    </tr>\n",
       "    <tr>\n",
       "      <th>critic_score</th>\n",
       "      <td>0.314185</td>\n",
       "      <td>1.000000</td>\n",
       "      <td>0.464815</td>\n",
       "    </tr>\n",
       "    <tr>\n",
       "      <th>user_score</th>\n",
       "      <td>-0.048967</td>\n",
       "      <td>0.464815</td>\n",
       "      <td>1.000000</td>\n",
       "    </tr>\n",
       "  </tbody>\n",
       "</table>\n",
       "</div>"
      ],
      "text/plain": [
       "              total_sales  critic_score  user_score\n",
       "total_sales      1.000000      0.314185   -0.048967\n",
       "critic_score     0.314185      1.000000    0.464815\n",
       "user_score      -0.048967      0.464815    1.000000"
      ]
     },
     "metadata": {},
     "output_type": "display_data"
    }
   ],
   "source": [
    "# Выводим корреляцию продаж от оценок пользователей и критиков\n",
    "# 1 - PSV\n",
    "# 2 - 3DS\n",
    "# 3 - WiiU\n",
    "# 4 - PS4\n",
    "# 5 - XOne\n",
    "# 6 - PC\n",
    "for platform in platform_filtred:\n",
    "    display(df_filtred.query('platform == @platform')[['total_sales', 'critic_score', 'user_score']].corr())"
   ]
  },
  {
   "cell_type": "markdown",
   "metadata": {},
   "source": [
    "Корреляция подтверждает наши предыдущие выводы. Зависимость крайне низкая. Мне кажется, в данном вопросе бОльшую роль играет маркетинг, ожидания и удачность серии."
   ]
  },
  {
   "cell_type": "markdown",
   "metadata": {},
   "source": [
    "### Распределение игр по жанрам"
   ]
  },
  {
   "cell_type": "code",
   "execution_count": 25,
   "metadata": {},
   "outputs": [
    {
     "data": {
      "text/html": [
       "<div>\n",
       "<style scoped>\n",
       "    .dataframe tbody tr th:only-of-type {\n",
       "        vertical-align: middle;\n",
       "    }\n",
       "\n",
       "    .dataframe tbody tr th {\n",
       "        vertical-align: top;\n",
       "    }\n",
       "\n",
       "    .dataframe thead th {\n",
       "        text-align: right;\n",
       "    }\n",
       "</style>\n",
       "<table border=\"1\" class=\"dataframe\">\n",
       "  <thead>\n",
       "    <tr style=\"text-align: right;\">\n",
       "      <th></th>\n",
       "      <th>name</th>\n",
       "      <th>total_sales</th>\n",
       "    </tr>\n",
       "    <tr>\n",
       "      <th>genre</th>\n",
       "      <th></th>\n",
       "      <th></th>\n",
       "    </tr>\n",
       "  </thead>\n",
       "  <tbody>\n",
       "    <tr>\n",
       "      <th>Shooter</th>\n",
       "      <td>162</td>\n",
       "      <td>0.410</td>\n",
       "    </tr>\n",
       "    <tr>\n",
       "      <th>Platform</th>\n",
       "      <td>77</td>\n",
       "      <td>0.210</td>\n",
       "    </tr>\n",
       "    <tr>\n",
       "      <th>Sports</th>\n",
       "      <td>164</td>\n",
       "      <td>0.195</td>\n",
       "    </tr>\n",
       "    <tr>\n",
       "      <th>Role-Playing</th>\n",
       "      <td>284</td>\n",
       "      <td>0.155</td>\n",
       "    </tr>\n",
       "    <tr>\n",
       "      <th>Racing</th>\n",
       "      <td>92</td>\n",
       "      <td>0.130</td>\n",
       "    </tr>\n",
       "    <tr>\n",
       "      <th>Fighting</th>\n",
       "      <td>63</td>\n",
       "      <td>0.120</td>\n",
       "    </tr>\n",
       "    <tr>\n",
       "      <th>Action</th>\n",
       "      <td>717</td>\n",
       "      <td>0.110</td>\n",
       "    </tr>\n",
       "    <tr>\n",
       "      <th>Misc</th>\n",
       "      <td>146</td>\n",
       "      <td>0.110</td>\n",
       "    </tr>\n",
       "    <tr>\n",
       "      <th>Simulation</th>\n",
       "      <td>87</td>\n",
       "      <td>0.100</td>\n",
       "    </tr>\n",
       "    <tr>\n",
       "      <th>Puzzle</th>\n",
       "      <td>40</td>\n",
       "      <td>0.065</td>\n",
       "    </tr>\n",
       "    <tr>\n",
       "      <th>Strategy</th>\n",
       "      <td>80</td>\n",
       "      <td>0.060</td>\n",
       "    </tr>\n",
       "    <tr>\n",
       "      <th>Adventure</th>\n",
       "      <td>204</td>\n",
       "      <td>0.030</td>\n",
       "    </tr>\n",
       "  </tbody>\n",
       "</table>\n",
       "</div>"
      ],
      "text/plain": [
       "              name  total_sales\n",
       "genre                          \n",
       "Shooter        162        0.410\n",
       "Platform        77        0.210\n",
       "Sports         164        0.195\n",
       "Role-Playing   284        0.155\n",
       "Racing          92        0.130\n",
       "Fighting        63        0.120\n",
       "Action         717        0.110\n",
       "Misc           146        0.110\n",
       "Simulation      87        0.100\n",
       "Puzzle          40        0.065\n",
       "Strategy        80        0.060\n",
       "Adventure      204        0.030"
      ]
     },
     "execution_count": 25,
     "metadata": {},
     "output_type": "execute_result"
    }
   ],
   "source": [
    "# создадим 2 сводные таблицы с кол-вом игр в опред. жанре и суммой продаж по жанрам, и объединим их\n",
    "df1 = df_filtred.pivot_table(index='genre', values='name', aggfunc='count')\n",
    "\n",
    "df2 = df_filtred.pivot_table(index='genre', values='total_sales', aggfunc='median')\n",
    "\n",
    "df3 = df1.join(df2)\n",
    "df3.sort_values(by='total_sales', ascending=False)"
   ]
  },
  {
   "cell_type": "markdown",
   "metadata": {},
   "source": [
    "Для выявления самого прибыльного и провального жанра мы сделали сводную таблицу с количеством игр и медианными продажами в каждом жанре. Почему именно медиана? Она устойчива к слишком резким значениями и показывает более правдивые данные (то бишь одна очень хорошо продаваемая игра, может исказить статистику при расчете среднего).\n",
    "\n",
    "Как мы видим самым массивным жанром является экшн, но медианные продажи у него достаточно низки, а вот у шутеров, коих в несколько раз меньше, медианные продажи намного лучше.\n",
    "\n",
    "Можно выделить самые прибыльные жанры: шутеры, платформеры, спортивные игры.\n",
    "\n",
    "На последнем месте у нас находятся игры в жанре приключения! Хоть их выпущено достаточно много, в рамках исследуемого периода, но медианные продажи очень низкие! За такие игры лучше не браться."
   ]
  },
  {
   "cell_type": "markdown",
   "metadata": {},
   "source": [
    "## Портрет пользователя каждого региона"
   ]
  },
  {
   "cell_type": "markdown",
   "metadata": {},
   "source": [
    "### Портрет пользователя из Северной Америки"
   ]
  },
  {
   "cell_type": "code",
   "execution_count": 26,
   "metadata": {},
   "outputs": [
    {
     "data": {
      "text/html": [
       "<div>\n",
       "<style scoped>\n",
       "    .dataframe tbody tr th:only-of-type {\n",
       "        vertical-align: middle;\n",
       "    }\n",
       "\n",
       "    .dataframe tbody tr th {\n",
       "        vertical-align: top;\n",
       "    }\n",
       "\n",
       "    .dataframe thead th {\n",
       "        text-align: right;\n",
       "    }\n",
       "</style>\n",
       "<table border=\"1\" class=\"dataframe\">\n",
       "  <thead>\n",
       "    <tr style=\"text-align: right;\">\n",
       "      <th></th>\n",
       "      <th>na_sales</th>\n",
       "    </tr>\n",
       "    <tr>\n",
       "      <th>platform</th>\n",
       "      <th></th>\n",
       "    </tr>\n",
       "  </thead>\n",
       "  <tbody>\n",
       "    <tr>\n",
       "      <th>PS4</th>\n",
       "      <td>108.74</td>\n",
       "    </tr>\n",
       "    <tr>\n",
       "      <th>XOne</th>\n",
       "      <td>93.12</td>\n",
       "    </tr>\n",
       "    <tr>\n",
       "      <th>3DS</th>\n",
       "      <td>82.65</td>\n",
       "    </tr>\n",
       "    <tr>\n",
       "      <th>WiiU</th>\n",
       "      <td>38.10</td>\n",
       "    </tr>\n",
       "    <tr>\n",
       "      <th>PC</th>\n",
       "      <td>29.88</td>\n",
       "    </tr>\n",
       "  </tbody>\n",
       "</table>\n",
       "</div>"
      ],
      "text/plain": [
       "          na_sales\n",
       "platform          \n",
       "PS4         108.74\n",
       "XOne         93.12\n",
       "3DS          82.65\n",
       "WiiU         38.10\n",
       "PC           29.88"
      ]
     },
     "execution_count": 26,
     "metadata": {},
     "output_type": "execute_result"
    }
   ],
   "source": [
    "# Выводим информацию о самых популярных платформах в Северной Америке\n",
    "na_table_plat = df_filtred.pivot_table(index='platform', values='na_sales', aggfunc='sum').sort_values(by='na_sales', ascending=False).head()\n",
    "na_table_plat"
   ]
  },
  {
   "cell_type": "markdown",
   "metadata": {},
   "source": [
    "По сводной таблице мы видим, что лидерами по продажам игр являются PS4, XOne, 3DS, WiiU, PC."
   ]
  },
  {
   "cell_type": "code",
   "execution_count": 27,
   "metadata": {},
   "outputs": [
    {
     "data": {
      "text/html": [
       "<div>\n",
       "<style scoped>\n",
       "    .dataframe tbody tr th:only-of-type {\n",
       "        vertical-align: middle;\n",
       "    }\n",
       "\n",
       "    .dataframe tbody tr th {\n",
       "        vertical-align: top;\n",
       "    }\n",
       "\n",
       "    .dataframe thead th {\n",
       "        text-align: right;\n",
       "    }\n",
       "</style>\n",
       "<table border=\"1\" class=\"dataframe\">\n",
       "  <thead>\n",
       "    <tr style=\"text-align: right;\">\n",
       "      <th></th>\n",
       "      <th>na_sales</th>\n",
       "    </tr>\n",
       "    <tr>\n",
       "      <th>genre</th>\n",
       "      <th></th>\n",
       "    </tr>\n",
       "  </thead>\n",
       "  <tbody>\n",
       "    <tr>\n",
       "      <th>Action</th>\n",
       "      <td>93.41</td>\n",
       "    </tr>\n",
       "    <tr>\n",
       "      <th>Shooter</th>\n",
       "      <td>81.82</td>\n",
       "    </tr>\n",
       "    <tr>\n",
       "      <th>Role-Playing</th>\n",
       "      <td>52.00</td>\n",
       "    </tr>\n",
       "    <tr>\n",
       "      <th>Sports</th>\n",
       "      <td>40.04</td>\n",
       "    </tr>\n",
       "    <tr>\n",
       "      <th>Platform</th>\n",
       "      <td>26.97</td>\n",
       "    </tr>\n",
       "  </tbody>\n",
       "</table>\n",
       "</div>"
      ],
      "text/plain": [
       "              na_sales\n",
       "genre                 \n",
       "Action           93.41\n",
       "Shooter          81.82\n",
       "Role-Playing     52.00\n",
       "Sports           40.04\n",
       "Platform         26.97"
      ]
     },
     "execution_count": 27,
     "metadata": {},
     "output_type": "execute_result"
    }
   ],
   "source": [
    "# Выводим информацию о самых популярных жанрах в америке\n",
    "na_table_genr = df_filtred.pivot_table(index='genre', values='na_sales', aggfunc='sum').sort_values(by='na_sales', ascending=False).head()\n",
    "na_table_genr"
   ]
  },
  {
   "cell_type": "markdown",
   "metadata": {},
   "source": [
    "Самыми любимы жанрами в Северной Америке являются экшн, шутеры, ролевые игры, спортивные игры и платформеры."
   ]
  },
  {
   "cell_type": "code",
   "execution_count": 28,
   "metadata": {},
   "outputs": [
    {
     "data": {
      "text/html": [
       "<div>\n",
       "<style scoped>\n",
       "    .dataframe tbody tr th:only-of-type {\n",
       "        vertical-align: middle;\n",
       "    }\n",
       "\n",
       "    .dataframe tbody tr th {\n",
       "        vertical-align: top;\n",
       "    }\n",
       "\n",
       "    .dataframe thead th {\n",
       "        text-align: right;\n",
       "    }\n",
       "</style>\n",
       "<table border=\"1\" class=\"dataframe\">\n",
       "  <thead>\n",
       "    <tr style=\"text-align: right;\">\n",
       "      <th></th>\n",
       "      <th>na_sales</th>\n",
       "    </tr>\n",
       "    <tr>\n",
       "      <th>rating</th>\n",
       "      <th></th>\n",
       "    </tr>\n",
       "  </thead>\n",
       "  <tbody>\n",
       "    <tr>\n",
       "      <th>M</th>\n",
       "      <td>112.22</td>\n",
       "    </tr>\n",
       "    <tr>\n",
       "      <th>E</th>\n",
       "      <td>81.14</td>\n",
       "    </tr>\n",
       "    <tr>\n",
       "      <th>undef</th>\n",
       "      <td>78.86</td>\n",
       "    </tr>\n",
       "    <tr>\n",
       "      <th>T</th>\n",
       "      <td>47.85</td>\n",
       "    </tr>\n",
       "    <tr>\n",
       "      <th>E10+</th>\n",
       "      <td>44.89</td>\n",
       "    </tr>\n",
       "  </tbody>\n",
       "</table>\n",
       "</div>"
      ],
      "text/plain": [
       "        na_sales\n",
       "rating          \n",
       "M         112.22\n",
       "E          81.14\n",
       "undef      78.86\n",
       "T          47.85\n",
       "E10+       44.89"
      ]
     },
     "execution_count": 28,
     "metadata": {},
     "output_type": "execute_result"
    }
   ],
   "source": [
    "# Выводим информацию о продажах в зависимости от рейтинга ESRB\n",
    "na_table_rate = df_filtred.pivot_table(index='rating', values='na_sales', aggfunc='sum').sort_values(by='na_sales', ascending=False).head()\n",
    "na_table_rate"
   ]
  },
  {
   "cell_type": "markdown",
   "metadata": {},
   "source": [
    "Можно сделать логичные выводы по таблице. Она говорит нам о том, что игры, получившие рейтинг \"М\", \"Е\", \"Т\" и \"undef\" (игры без рейтинга тоже достаточно популярны) - самые продаваемые. Меньше ограничений - больше продаж + это основная аудитория (подростки и взрослые).\n",
    "\n",
    "**Сделаем вывод, что ретинг влияет на продажи в Северной Америке, ведь чем меньше ограничений, тем больше продаж.**"
   ]
  },
  {
   "cell_type": "markdown",
   "metadata": {},
   "source": [
    "**Портрет пользовтаеля из Северной америки!**\n",
    "\n",
    "Скорее всего это будет подросток или взрослый человек, который любит экшны и стрелялки, и иногда, в выходные, поиграть с друзьями в ФИФУ или НХЛ на своей приставке. "
   ]
  },
  {
   "cell_type": "markdown",
   "metadata": {},
   "source": [
    "### Портрет пользователя из Европы"
   ]
  },
  {
   "cell_type": "code",
   "execution_count": 29,
   "metadata": {},
   "outputs": [
    {
     "data": {
      "text/html": [
       "<div>\n",
       "<style scoped>\n",
       "    .dataframe tbody tr th:only-of-type {\n",
       "        vertical-align: middle;\n",
       "    }\n",
       "\n",
       "    .dataframe tbody tr th {\n",
       "        vertical-align: top;\n",
       "    }\n",
       "\n",
       "    .dataframe thead th {\n",
       "        text-align: right;\n",
       "    }\n",
       "</style>\n",
       "<table border=\"1\" class=\"dataframe\">\n",
       "  <thead>\n",
       "    <tr style=\"text-align: right;\">\n",
       "      <th></th>\n",
       "      <th>eu_sales</th>\n",
       "    </tr>\n",
       "    <tr>\n",
       "      <th>platform</th>\n",
       "      <th></th>\n",
       "    </tr>\n",
       "  </thead>\n",
       "  <tbody>\n",
       "    <tr>\n",
       "      <th>PS4</th>\n",
       "      <td>141.09</td>\n",
       "    </tr>\n",
       "    <tr>\n",
       "      <th>3DS</th>\n",
       "      <td>61.27</td>\n",
       "    </tr>\n",
       "    <tr>\n",
       "      <th>PC</th>\n",
       "      <td>56.70</td>\n",
       "    </tr>\n",
       "    <tr>\n",
       "      <th>XOne</th>\n",
       "      <td>51.59</td>\n",
       "    </tr>\n",
       "    <tr>\n",
       "      <th>WiiU</th>\n",
       "      <td>25.13</td>\n",
       "    </tr>\n",
       "  </tbody>\n",
       "</table>\n",
       "</div>"
      ],
      "text/plain": [
       "          eu_sales\n",
       "platform          \n",
       "PS4         141.09\n",
       "3DS          61.27\n",
       "PC           56.70\n",
       "XOne         51.59\n",
       "WiiU         25.13"
      ]
     },
     "execution_count": 29,
     "metadata": {},
     "output_type": "execute_result"
    }
   ],
   "source": [
    "# Выводим информацию о самых популярных платформах в Европе\n",
    "eu_table_plat = df_filtred.pivot_table(index='platform', values='eu_sales', aggfunc='sum').sort_values(by='eu_sales', ascending=False).head()\n",
    "eu_table_plat"
   ]
  },
  {
   "cell_type": "markdown",
   "metadata": {},
   "source": [
    "ТОП 5 платформ в европе - это PS 4, 3DS, PC, XOne, WiiU. В отличии от америки, европа больше играет в пк и не совсем любит WiiU."
   ]
  },
  {
   "cell_type": "code",
   "execution_count": 30,
   "metadata": {},
   "outputs": [
    {
     "data": {
      "text/html": [
       "<div>\n",
       "<style scoped>\n",
       "    .dataframe tbody tr th:only-of-type {\n",
       "        vertical-align: middle;\n",
       "    }\n",
       "\n",
       "    .dataframe tbody tr th {\n",
       "        vertical-align: top;\n",
       "    }\n",
       "\n",
       "    .dataframe thead th {\n",
       "        text-align: right;\n",
       "    }\n",
       "</style>\n",
       "<table border=\"1\" class=\"dataframe\">\n",
       "  <thead>\n",
       "    <tr style=\"text-align: right;\">\n",
       "      <th></th>\n",
       "      <th>eu_sales</th>\n",
       "    </tr>\n",
       "    <tr>\n",
       "      <th>genre</th>\n",
       "      <th></th>\n",
       "    </tr>\n",
       "  </thead>\n",
       "  <tbody>\n",
       "    <tr>\n",
       "      <th>Action</th>\n",
       "      <td>90.21</td>\n",
       "    </tr>\n",
       "    <tr>\n",
       "      <th>Shooter</th>\n",
       "      <td>72.92</td>\n",
       "    </tr>\n",
       "    <tr>\n",
       "      <th>Sports</th>\n",
       "      <td>43.66</td>\n",
       "    </tr>\n",
       "    <tr>\n",
       "      <th>Role-Playing</th>\n",
       "      <td>42.91</td>\n",
       "    </tr>\n",
       "    <tr>\n",
       "      <th>Platform</th>\n",
       "      <td>22.30</td>\n",
       "    </tr>\n",
       "  </tbody>\n",
       "</table>\n",
       "</div>"
      ],
      "text/plain": [
       "              eu_sales\n",
       "genre                 \n",
       "Action           90.21\n",
       "Shooter          72.92\n",
       "Sports           43.66\n",
       "Role-Playing     42.91\n",
       "Platform         22.30"
      ]
     },
     "execution_count": 30,
     "metadata": {},
     "output_type": "execute_result"
    }
   ],
   "source": [
    "# Выводим информацию о самых популярных жанрах в Европе\n",
    "eu_table_genr = df_filtred.pivot_table(index='genre', values='eu_sales', aggfunc='sum').sort_values(by='eu_sales', ascending=False).head()\n",
    "eu_table_genr"
   ]
  },
  {
   "cell_type": "markdown",
   "metadata": {},
   "source": [
    "Немного поменялось расположение, но в целом пятерка нам знакома. Европецы играют в ролевые игры меньше амеркианцев."
   ]
  },
  {
   "cell_type": "code",
   "execution_count": 31,
   "metadata": {},
   "outputs": [
    {
     "data": {
      "text/html": [
       "<div>\n",
       "<style scoped>\n",
       "    .dataframe tbody tr th:only-of-type {\n",
       "        vertical-align: middle;\n",
       "    }\n",
       "\n",
       "    .dataframe tbody tr th {\n",
       "        vertical-align: top;\n",
       "    }\n",
       "\n",
       "    .dataframe thead th {\n",
       "        text-align: right;\n",
       "    }\n",
       "</style>\n",
       "<table border=\"1\" class=\"dataframe\">\n",
       "  <thead>\n",
       "    <tr style=\"text-align: right;\">\n",
       "      <th></th>\n",
       "      <th>eu_sales</th>\n",
       "    </tr>\n",
       "    <tr>\n",
       "      <th>rating</th>\n",
       "      <th></th>\n",
       "    </tr>\n",
       "  </thead>\n",
       "  <tbody>\n",
       "    <tr>\n",
       "      <th>M</th>\n",
       "      <td>113.17</td>\n",
       "    </tr>\n",
       "    <tr>\n",
       "      <th>E</th>\n",
       "      <td>81.66</td>\n",
       "    </tr>\n",
       "    <tr>\n",
       "      <th>undef</th>\n",
       "      <td>75.65</td>\n",
       "    </tr>\n",
       "    <tr>\n",
       "      <th>T</th>\n",
       "      <td>44.61</td>\n",
       "    </tr>\n",
       "    <tr>\n",
       "      <th>E10+</th>\n",
       "      <td>33.73</td>\n",
       "    </tr>\n",
       "  </tbody>\n",
       "</table>\n",
       "</div>"
      ],
      "text/plain": [
       "        eu_sales\n",
       "rating          \n",
       "M         113.17\n",
       "E          81.66\n",
       "undef      75.65\n",
       "T          44.61\n",
       "E10+       33.73"
      ]
     },
     "execution_count": 31,
     "metadata": {},
     "output_type": "execute_result"
    }
   ],
   "source": [
    "# Выводим информацию о продажах в зависимости от рейтинга ESRB\n",
    "eu_table_rate = df_filtred.pivot_table(index='rating', values='eu_sales', aggfunc='sum').sort_values(by='eu_sales', ascending=False).head()\n",
    "eu_table_rate"
   ]
  },
  {
   "cell_type": "markdown",
   "metadata": {},
   "source": [
    "Чаще всего в Европе продаются игры с рейтингом \"М\". Картина в целом похожа на американскую. Игры без рейтинга также занимают не последнее место и влияют на статистику."
   ]
  },
  {
   "cell_type": "markdown",
   "metadata": {},
   "source": [
    "**Портрет типичного игрока из Европы:**\n",
    "\n",
    "Это подросток или взрослый человек, играющий в экшн игры на своей PS4."
   ]
  },
  {
   "cell_type": "markdown",
   "metadata": {},
   "source": [
    "### Портрет пользователя из Японии"
   ]
  },
  {
   "cell_type": "code",
   "execution_count": 32,
   "metadata": {},
   "outputs": [
    {
     "data": {
      "text/html": [
       "<div>\n",
       "<style scoped>\n",
       "    .dataframe tbody tr th:only-of-type {\n",
       "        vertical-align: middle;\n",
       "    }\n",
       "\n",
       "    .dataframe tbody tr th {\n",
       "        vertical-align: top;\n",
       "    }\n",
       "\n",
       "    .dataframe thead th {\n",
       "        text-align: right;\n",
       "    }\n",
       "</style>\n",
       "<table border=\"1\" class=\"dataframe\">\n",
       "  <thead>\n",
       "    <tr style=\"text-align: right;\">\n",
       "      <th></th>\n",
       "      <th>jp_sales</th>\n",
       "    </tr>\n",
       "    <tr>\n",
       "      <th>platform</th>\n",
       "      <th></th>\n",
       "    </tr>\n",
       "  </thead>\n",
       "  <tbody>\n",
       "    <tr>\n",
       "      <th>3DS</th>\n",
       "      <td>100.62</td>\n",
       "    </tr>\n",
       "    <tr>\n",
       "      <th>PSV</th>\n",
       "      <td>21.84</td>\n",
       "    </tr>\n",
       "    <tr>\n",
       "      <th>PS4</th>\n",
       "      <td>15.96</td>\n",
       "    </tr>\n",
       "    <tr>\n",
       "      <th>WiiU</th>\n",
       "      <td>13.01</td>\n",
       "    </tr>\n",
       "    <tr>\n",
       "      <th>XOne</th>\n",
       "      <td>0.34</td>\n",
       "    </tr>\n",
       "  </tbody>\n",
       "</table>\n",
       "</div>"
      ],
      "text/plain": [
       "          jp_sales\n",
       "platform          \n",
       "3DS         100.62\n",
       "PSV          21.84\n",
       "PS4          15.96\n",
       "WiiU         13.01\n",
       "XOne          0.34"
      ]
     },
     "execution_count": 32,
     "metadata": {},
     "output_type": "execute_result"
    }
   ],
   "source": [
    "# Выводим информацию о самых популярных платформах в Японии\n",
    "jp_table_plat = df_filtred.pivot_table(index='platform', values='jp_sales', aggfunc='sum').sort_values(by='jp_sales', ascending=False).head()\n",
    "jp_table_plat"
   ]
  },
  {
   "cell_type": "markdown",
   "metadata": {},
   "source": [
    "Япония - как отдельный мир! Здесь ситуация по платформам отличается от Евроопы и США. Япония играет в основном в свое, национальное! Nintendo и PS заняли почти весь ТОП."
   ]
  },
  {
   "cell_type": "code",
   "execution_count": 33,
   "metadata": {},
   "outputs": [
    {
     "data": {
      "text/html": [
       "<div>\n",
       "<style scoped>\n",
       "    .dataframe tbody tr th:only-of-type {\n",
       "        vertical-align: middle;\n",
       "    }\n",
       "\n",
       "    .dataframe tbody tr th {\n",
       "        vertical-align: top;\n",
       "    }\n",
       "\n",
       "    .dataframe thead th {\n",
       "        text-align: right;\n",
       "    }\n",
       "</style>\n",
       "<table border=\"1\" class=\"dataframe\">\n",
       "  <thead>\n",
       "    <tr style=\"text-align: right;\">\n",
       "      <th></th>\n",
       "      <th>jp_sales</th>\n",
       "    </tr>\n",
       "    <tr>\n",
       "      <th>genre</th>\n",
       "      <th></th>\n",
       "    </tr>\n",
       "  </thead>\n",
       "  <tbody>\n",
       "    <tr>\n",
       "      <th>Role-Playing</th>\n",
       "      <td>54.19</td>\n",
       "    </tr>\n",
       "    <tr>\n",
       "      <th>Action</th>\n",
       "      <td>36.54</td>\n",
       "    </tr>\n",
       "    <tr>\n",
       "      <th>Platform</th>\n",
       "      <td>10.71</td>\n",
       "    </tr>\n",
       "    <tr>\n",
       "      <th>Misc</th>\n",
       "      <td>10.70</td>\n",
       "    </tr>\n",
       "    <tr>\n",
       "      <th>Simulation</th>\n",
       "      <td>10.64</td>\n",
       "    </tr>\n",
       "  </tbody>\n",
       "</table>\n",
       "</div>"
      ],
      "text/plain": [
       "              jp_sales\n",
       "genre                 \n",
       "Role-Playing     54.19\n",
       "Action           36.54\n",
       "Platform         10.71\n",
       "Misc             10.70\n",
       "Simulation       10.64"
      ]
     },
     "execution_count": 33,
     "metadata": {},
     "output_type": "execute_result"
    }
   ],
   "source": [
    "# Выводим информацию о самых популярных жанрах в Японии\n",
    "jp_table_genr = df_filtred.pivot_table(index='genre', values='jp_sales', aggfunc='sum').sort_values(by='jp_sales', ascending=False).head()\n",
    "jp_table_genr"
   ]
  },
  {
   "cell_type": "markdown",
   "metadata": {},
   "source": [
    "Даже жанры в Японии предпочитают другие. Экшн и спорт - это, конечно, хорошо, но для японца радость поиграть в ролевую игру."
   ]
  },
  {
   "cell_type": "code",
   "execution_count": 34,
   "metadata": {},
   "outputs": [
    {
     "data": {
      "text/html": [
       "<div>\n",
       "<style scoped>\n",
       "    .dataframe tbody tr th:only-of-type {\n",
       "        vertical-align: middle;\n",
       "    }\n",
       "\n",
       "    .dataframe tbody tr th {\n",
       "        vertical-align: top;\n",
       "    }\n",
       "\n",
       "    .dataframe thead th {\n",
       "        text-align: right;\n",
       "    }\n",
       "</style>\n",
       "<table border=\"1\" class=\"dataframe\">\n",
       "  <thead>\n",
       "    <tr style=\"text-align: right;\">\n",
       "      <th></th>\n",
       "      <th>jp_sales</th>\n",
       "    </tr>\n",
       "    <tr>\n",
       "      <th>rating</th>\n",
       "      <th></th>\n",
       "    </tr>\n",
       "  </thead>\n",
       "  <tbody>\n",
       "    <tr>\n",
       "      <th>undef</th>\n",
       "      <td>87.91</td>\n",
       "    </tr>\n",
       "    <tr>\n",
       "      <th>E</th>\n",
       "      <td>29.76</td>\n",
       "    </tr>\n",
       "    <tr>\n",
       "      <th>T</th>\n",
       "      <td>16.50</td>\n",
       "    </tr>\n",
       "    <tr>\n",
       "      <th>M</th>\n",
       "      <td>9.28</td>\n",
       "    </tr>\n",
       "    <tr>\n",
       "      <th>E10+</th>\n",
       "      <td>8.32</td>\n",
       "    </tr>\n",
       "  </tbody>\n",
       "</table>\n",
       "</div>"
      ],
      "text/plain": [
       "        jp_sales\n",
       "rating          \n",
       "undef      87.91\n",
       "E          29.76\n",
       "T          16.50\n",
       "M           9.28\n",
       "E10+        8.32"
      ]
     },
     "execution_count": 34,
     "metadata": {},
     "output_type": "execute_result"
    }
   ],
   "source": [
    "# Выводим информацию о продажах в зависимости от рейтинга ESRB\n",
    "jp_table_rate = df_filtred.pivot_table(index='rating', values='jp_sales', aggfunc='sum').sort_values(by='jp_sales', ascending=False).head()\n",
    "jp_table_rate"
   ]
  },
  {
   "cell_type": "markdown",
   "metadata": {},
   "source": [
    "В Японии игры без рейтинга ESRB по популярности занимают 1 место! В целом, мы выяснили, что Япония, как отдельный мир - олтичается от всех. Наверняка большая часть Японцев играет в \"свои\" ролевые игры."
   ]
  },
  {
   "cell_type": "markdown",
   "metadata": {},
   "source": [
    "**Портрет игрока из Японии:**\n",
    "\n",
    "Это подросток или взрослый, который любит поиграть в ролевые игры на Nintendo или PS."
   ]
  },
  {
   "cell_type": "markdown",
   "metadata": {},
   "source": [
    "**Вывод:**\n",
    "\n",
    "Как мы видим портреты игрока из СА и Европы схожи. Они играют почти в одни и те же игры, на одних и тех же платформах. Япония очень сильно отличается от остальных регионов, там и платформы другие и жанры тоже."
   ]
  },
  {
   "cell_type": "markdown",
   "metadata": {},
   "source": [
    "## Проверка гипотез"
   ]
  },
  {
   "cell_type": "markdown",
   "metadata": {},
   "source": [
    "### Средние пользовательские рейтинги платформ Xbox One и PC одинаковые"
   ]
  },
  {
   "cell_type": "markdown",
   "metadata": {},
   "source": [
    "Н0: Средние пользовательские рейтинги Xbox One = средним пользовательским рейтингам PC \n",
    "\n",
    "Н1:Средние пользовательские рейтинги Xbox One != средним пользовательским рейтингам PC\n",
    "\n",
    "**В данном случае мы будем проводить двухвыборочный ttest для двух генеральных совокупностей не зависящих друг от друга**"
   ]
  },
  {
   "cell_type": "code",
   "execution_count": 35,
   "metadata": {},
   "outputs": [],
   "source": [
    "# Создаем таблицу из отфильтрованных данных для Иксбокса с пользовательскими рейтингами\n",
    "xone_t = df_filtred.loc[(df_filtred['platform'] == 'XOne') & (df_filtred['user_score'] > 0)]['user_score']"
   ]
  },
  {
   "cell_type": "code",
   "execution_count": 36,
   "metadata": {},
   "outputs": [],
   "source": [
    "# Создаем таблицу из отфильтрованных данных для ПК с пользовательскими рейтингами\n",
    "pc_t = df_filtred.loc[(df_filtred['platform'] == 'PC') & (df_filtred['user_score'] > 0)]['user_score']"
   ]
  },
  {
   "cell_type": "code",
   "execution_count": 37,
   "metadata": {},
   "outputs": [
    {
     "name": "stdout",
     "output_type": "stream",
     "text": [
      "p-значение:  0.6267602271422398\n",
      "Не получилось отвергнуть нулевую гипотезу\n"
     ]
    }
   ],
   "source": [
    "# Проверяем гипотезу\n",
    "alpha = .05\n",
    "results = st.ttest_ind(xone_t, pc_t)\n",
    "\n",
    "print('p-значение: ', results.pvalue)\n",
    "\n",
    "if results.pvalue < alpha:\n",
    "    print(\"Отвергаем нулевую гипотезу\")\n",
    "else:\n",
    "    print(\"Не получилось отвергнуть нулевую гипотезу\") "
   ]
  },
  {
   "cell_type": "markdown",
   "metadata": {},
   "source": [
    "Как мы видим нам не удалось отвергнуть нулевую гипотезу - это говорит о том, что средние пользовательские рейтинги Xbox One равны средним пользовательским рейтингам PC."
   ]
  },
  {
   "cell_type": "markdown",
   "metadata": {},
   "source": [
    "### Средние пользовательские рейтинги жанров Action и Sports разные"
   ]
  },
  {
   "cell_type": "markdown",
   "metadata": {},
   "source": [
    "Н0: Средние пользовательские рейтинги жанра Action = средним пользовательским рейтингам жанра Sports \n",
    "\n",
    "Н1:Средние пользовательские рейтинги жанра Action != средним пользовательским рейтингам жанра Sports\n",
    "\n",
    "**В данном случае мы будем проводить двухвыборочный ttest для двух генеральных совокупностей не зависящих друг от друга**"
   ]
  },
  {
   "cell_type": "code",
   "execution_count": 38,
   "metadata": {},
   "outputs": [],
   "source": [
    "# Создаем таблицу из отфильтрованных данных для экшн игр с пользовательскими рейтингами\n",
    "action_t = df_filtred.loc[(df_filtred['genre'] == 'Action') & (df_filtred['user_score'] > 0)]['user_score']"
   ]
  },
  {
   "cell_type": "code",
   "execution_count": 39,
   "metadata": {},
   "outputs": [],
   "source": [
    "# Создаем таблицу из отфильтрованных данных для спортивных игр с пользовательскими рейтингами\n",
    "sports_t = df_filtred.loc[(df_filtred['genre'] == 'Sports') & (df_filtred['user_score'] > 0)]['user_score']"
   ]
  },
  {
   "cell_type": "code",
   "execution_count": 40,
   "metadata": {},
   "outputs": [
    {
     "name": "stdout",
     "output_type": "stream",
     "text": [
      "p-значение:  3.7279566072817166e-13\n",
      "Отвергаем нулевую гипотезу\n"
     ]
    }
   ],
   "source": [
    "# Проверяем гипотезу\n",
    "alpha = 0.05\n",
    "results = st.ttest_ind(action_t, sports_t)\n",
    "\n",
    "print('p-значение: ', results.pvalue)\n",
    "\n",
    "if results.pvalue < alpha:\n",
    "    print(\"Отвергаем нулевую гипотезу\")\n",
    "else:\n",
    "    print(\"Не получилось отвергнуть нулевую гипотезу\") "
   ]
  },
  {
   "cell_type": "markdown",
   "metadata": {},
   "source": [
    "В данном случае нам удалось отвергнуть нулевую гипотезу, а это значит, что средние пользовательские рейтинги жанра Action не равны средним пользовательским рейтингам жанра Sports."
   ]
  },
  {
   "cell_type": "markdown",
   "metadata": {},
   "source": [
    "## Общий вывод"
   ]
  },
  {
   "cell_type": "markdown",
   "metadata": {},
   "source": [
    "**Мы провели исследование для интернет-магазина \"Стримчик\" для его рекламной кампании. Мы проверили данные и поработали с ними, а именно:**\n",
    "\n",
    "1. *Провели предобработку данных*\n",
    "    \n",
    "    * Заменили названия столбцов на snake_case;\n",
    "    * Преобразовали типы данных;\n",
    "    * Избавились от пропусков там, где это было возможно сделать.\n",
    "    \n",
    "\n",
    "2. *Провели исследовательский анализ данных*\n",
    "\n",
    "    * Проанализировали выпуск игр;\n",
    "    * Провели фильтрацию платформ;\n",
    "    * Определили актуальный период для исследования;\n",
    "    * Выявили потенциально прибильные платформы;\n",
    "    * Провели исследование влияния оценок пользователей и критиков на продажи игр;\n",
    "    * Посмотрели на распределение игр по жанрам\n",
    "    * Визуализировали данные и сделали выводы\n",
    "    \n",
    "\n",
    "3. *Составили портрет пользователя каждого региона*\n",
    "\n",
    "\n",
    "4. *Проверили гипотезы*\n",
    "\n",
    "    * Средние пользовательские рейтинги платформ Xbox One и PC одинаковые;\n",
    "    * Средние пользовательские рейтинги жанров Action и Sports разные.\n",
    "    \n",
    "**Какие выводы можем сделать:**\n",
    "\n",
    "1. Проанализировав выпуск игры, мы определили, что данные до 1994 года нас не интересуют, так как за этот период очень мало данных;\n",
    "\n",
    "\n",
    "2. Определили, что платформы в среднем живут от 9 до 11 лет;\n",
    "\n",
    "\n",
    "3. Поняли, что для исследования нам стоит ограничиться определенными платформами, а именно: PS4, PSV, 3DS, XOne, PC, WiiU. Потому что эти платформы актуальны;\n",
    "\n",
    "\n",
    "4. Выявили, что вышеописанные платформы достаточно перспективны на ближайшее время и могут принести прибыль. Но стоит обратить внимание именно на PS4 и XOne - они показали лучшие результаты. Скорее всего именно они и будут самыми прибыльными платформами в 2017 году;\n",
    "\n",
    "\n",
    "5. Выявили, что оценки критиков и пользователей практически не влияют на успешность игры, их корреляция крайне низкая;\n",
    "\n",
    "\n",
    "6. Составили сводные таблицы и выяснили, что экшн игры - самые популярные и прибыльные, а вот пазлы мало кто любит (мало продаж);\n",
    "\n",
    "\n",
    "7. Выяснили, что пользователи Европы и Северной Америки очень похожи: они играют почти в одни и те же приставки и жанры. А вот Япония сильно отличается от них.\n",
    "\n",
    "\n",
    "8. Проверили 2 гипотезы и выявили, что:\n",
    "\n",
    "    * Средние пользовательские рейтинги платформ Xbox One и PC одинаковые;\n",
    "    * Средние пользовательские рейтинги жанров Action и Sports разные."
   ]
  }
 ],
 "metadata": {
  "ExecuteTimeLog": [
   {
    "duration": 389,
    "start_time": "2022-10-03T19:04:13.777Z"
   },
   {
    "duration": 119,
    "start_time": "2022-10-03T19:04:44.858Z"
   },
   {
    "duration": 13,
    "start_time": "2022-10-03T19:06:18.824Z"
   },
   {
    "duration": 390,
    "start_time": "2022-10-05T10:31:21.433Z"
   },
   {
    "duration": 117,
    "start_time": "2022-10-05T10:31:21.826Z"
   },
   {
    "duration": 12,
    "start_time": "2022-10-05T10:31:21.944Z"
   },
   {
    "duration": 41,
    "start_time": "2022-10-05T10:31:21.958Z"
   },
   {
    "duration": 0,
    "start_time": "2022-10-05T10:31:22.001Z"
   },
   {
    "duration": 5,
    "start_time": "2022-10-05T10:35:04.923Z"
   },
   {
    "duration": 74,
    "start_time": "2022-10-05T10:35:07.853Z"
   },
   {
    "duration": 5,
    "start_time": "2022-10-05T10:35:22.729Z"
   },
   {
    "duration": 13,
    "start_time": "2022-10-05T10:36:43.462Z"
   },
   {
    "duration": 4,
    "start_time": "2022-10-05T10:38:27.780Z"
   },
   {
    "duration": 12,
    "start_time": "2022-10-05T10:38:51.288Z"
   },
   {
    "duration": 14,
    "start_time": "2022-10-05T10:39:01.156Z"
   },
   {
    "duration": 11,
    "start_time": "2022-10-05T10:52:48.679Z"
   },
   {
    "duration": 12,
    "start_time": "2022-10-05T10:52:49.656Z"
   },
   {
    "duration": 360,
    "start_time": "2022-10-05T11:00:57.153Z"
   },
   {
    "duration": 81,
    "start_time": "2022-10-05T11:00:57.515Z"
   },
   {
    "duration": 13,
    "start_time": "2022-10-05T11:00:57.597Z"
   },
   {
    "duration": 21,
    "start_time": "2022-10-05T11:00:57.612Z"
   },
   {
    "duration": 16,
    "start_time": "2022-10-05T11:00:57.635Z"
   },
   {
    "duration": 26,
    "start_time": "2022-10-05T11:00:57.652Z"
   },
   {
    "duration": 17,
    "start_time": "2022-10-05T11:00:57.679Z"
   },
   {
    "duration": 3,
    "start_time": "2022-10-05T11:00:57.697Z"
   },
   {
    "duration": 32,
    "start_time": "2022-10-05T11:00:57.702Z"
   },
   {
    "duration": 3,
    "start_time": "2022-10-05T11:01:05.401Z"
   },
   {
    "duration": 14,
    "start_time": "2022-10-05T11:01:07.223Z"
   },
   {
    "duration": 80,
    "start_time": "2022-10-05T11:02:51.434Z"
   },
   {
    "duration": 8,
    "start_time": "2022-10-05T11:04:08.830Z"
   },
   {
    "duration": 6,
    "start_time": "2022-10-05T11:04:14.816Z"
   },
   {
    "duration": 13,
    "start_time": "2022-10-05T11:04:18.349Z"
   },
   {
    "duration": 430,
    "start_time": "2022-10-05T11:04:31.082Z"
   },
   {
    "duration": 84,
    "start_time": "2022-10-05T11:04:31.514Z"
   },
   {
    "duration": 26,
    "start_time": "2022-10-05T11:04:31.600Z"
   },
   {
    "duration": 23,
    "start_time": "2022-10-05T11:04:31.629Z"
   },
   {
    "duration": 26,
    "start_time": "2022-10-05T11:04:31.653Z"
   },
   {
    "duration": 31,
    "start_time": "2022-10-05T11:04:31.680Z"
   },
   {
    "duration": 28,
    "start_time": "2022-10-05T11:04:31.713Z"
   },
   {
    "duration": 23,
    "start_time": "2022-10-05T11:04:31.742Z"
   },
   {
    "duration": 50,
    "start_time": "2022-10-05T11:04:31.767Z"
   },
   {
    "duration": 80,
    "start_time": "2022-10-05T11:06:47.318Z"
   },
   {
    "duration": 10,
    "start_time": "2022-10-05T11:07:03.386Z"
   },
   {
    "duration": 12,
    "start_time": "2022-10-05T11:07:04.564Z"
   },
   {
    "duration": 29,
    "start_time": "2022-10-05T11:17:33.285Z"
   },
   {
    "duration": 34,
    "start_time": "2022-10-05T11:18:33.402Z"
   },
   {
    "duration": 431,
    "start_time": "2022-10-05T11:31:13.876Z"
   },
   {
    "duration": 75,
    "start_time": "2022-10-05T11:31:14.308Z"
   },
   {
    "duration": 14,
    "start_time": "2022-10-05T11:31:14.385Z"
   },
   {
    "duration": 25,
    "start_time": "2022-10-05T11:31:14.402Z"
   },
   {
    "duration": 25,
    "start_time": "2022-10-05T11:31:14.428Z"
   },
   {
    "duration": 48,
    "start_time": "2022-10-05T11:31:14.454Z"
   },
   {
    "duration": 28,
    "start_time": "2022-10-05T11:31:14.503Z"
   },
   {
    "duration": 30,
    "start_time": "2022-10-05T11:31:14.532Z"
   },
   {
    "duration": 36,
    "start_time": "2022-10-05T11:31:14.563Z"
   },
   {
    "duration": 45,
    "start_time": "2022-10-05T11:31:14.601Z"
   },
   {
    "duration": 862,
    "start_time": "2022-10-05T11:31:14.648Z"
   },
   {
    "duration": 135,
    "start_time": "2022-10-05T11:32:16.124Z"
   },
   {
    "duration": 429,
    "start_time": "2022-10-05T11:38:15.208Z"
   },
   {
    "duration": 57,
    "start_time": "2022-10-05T11:38:55.408Z"
   },
   {
    "duration": 188,
    "start_time": "2022-10-05T11:39:01.485Z"
   },
   {
    "duration": 511,
    "start_time": "2022-10-05T11:39:44.238Z"
   },
   {
    "duration": 466,
    "start_time": "2022-10-05T11:39:58.839Z"
   },
   {
    "duration": 481,
    "start_time": "2022-10-05T11:42:01.263Z"
   },
   {
    "duration": 525,
    "start_time": "2022-10-05T11:50:04.090Z"
   },
   {
    "duration": 359,
    "start_time": "2022-10-05T11:54:05.356Z"
   },
   {
    "duration": 74,
    "start_time": "2022-10-05T11:54:05.717Z"
   },
   {
    "duration": 13,
    "start_time": "2022-10-05T11:54:05.792Z"
   },
   {
    "duration": 4,
    "start_time": "2022-10-05T11:54:05.806Z"
   },
   {
    "duration": 11,
    "start_time": "2022-10-05T11:54:05.812Z"
   },
   {
    "duration": 22,
    "start_time": "2022-10-05T11:54:05.825Z"
   },
   {
    "duration": 24,
    "start_time": "2022-10-05T11:54:05.849Z"
   },
   {
    "duration": 20,
    "start_time": "2022-10-05T11:54:05.874Z"
   },
   {
    "duration": 13,
    "start_time": "2022-10-05T11:54:05.895Z"
   },
   {
    "duration": 23,
    "start_time": "2022-10-05T11:54:05.909Z"
   },
   {
    "duration": 375,
    "start_time": "2022-10-05T11:54:05.933Z"
   },
   {
    "duration": 495,
    "start_time": "2022-10-05T11:54:06.310Z"
   },
   {
    "duration": 113,
    "start_time": "2022-10-05T11:54:06.806Z"
   },
   {
    "duration": 123,
    "start_time": "2022-10-05T11:54:45.750Z"
   },
   {
    "duration": 193,
    "start_time": "2022-10-05T11:55:21.965Z"
   },
   {
    "duration": 19,
    "start_time": "2022-10-05T12:07:18.225Z"
   },
   {
    "duration": 14,
    "start_time": "2022-10-05T12:09:59.438Z"
   },
   {
    "duration": 83,
    "start_time": "2022-10-05T12:10:17.335Z"
   },
   {
    "duration": 14,
    "start_time": "2022-10-05T12:10:27.201Z"
   },
   {
    "duration": 15,
    "start_time": "2022-10-05T12:10:44.334Z"
   },
   {
    "duration": 7,
    "start_time": "2022-10-05T12:12:09.740Z"
   },
   {
    "duration": 401,
    "start_time": "2022-10-05T12:12:17.219Z"
   },
   {
    "duration": 85,
    "start_time": "2022-10-05T12:12:17.623Z"
   },
   {
    "duration": 13,
    "start_time": "2022-10-05T12:12:17.709Z"
   },
   {
    "duration": 3,
    "start_time": "2022-10-05T12:12:17.724Z"
   },
   {
    "duration": 10,
    "start_time": "2022-10-05T12:12:17.729Z"
   },
   {
    "duration": 18,
    "start_time": "2022-10-05T12:12:17.741Z"
   },
   {
    "duration": 12,
    "start_time": "2022-10-05T12:12:17.761Z"
   },
   {
    "duration": 11,
    "start_time": "2022-10-05T12:12:17.774Z"
   },
   {
    "duration": 32,
    "start_time": "2022-10-05T12:12:17.787Z"
   },
   {
    "duration": 22,
    "start_time": "2022-10-05T12:12:17.820Z"
   },
   {
    "duration": 405,
    "start_time": "2022-10-05T12:12:17.844Z"
   },
   {
    "duration": 8,
    "start_time": "2022-10-05T12:12:18.250Z"
   },
   {
    "duration": 494,
    "start_time": "2022-10-05T12:12:18.259Z"
   },
   {
    "duration": 20,
    "start_time": "2022-10-05T12:12:18.755Z"
   },
   {
    "duration": 21,
    "start_time": "2022-10-05T12:12:18.776Z"
   },
   {
    "duration": 7,
    "start_time": "2022-10-05T12:12:49.139Z"
   },
   {
    "duration": 13,
    "start_time": "2022-10-05T12:12:56.888Z"
   },
   {
    "duration": 46,
    "start_time": "2022-10-05T12:14:36.864Z"
   },
   {
    "duration": 418,
    "start_time": "2022-10-05T12:18:40.614Z"
   },
   {
    "duration": 75,
    "start_time": "2022-10-05T12:18:41.034Z"
   },
   {
    "duration": 13,
    "start_time": "2022-10-05T12:18:41.110Z"
   },
   {
    "duration": 25,
    "start_time": "2022-10-05T12:18:41.124Z"
   },
   {
    "duration": 17,
    "start_time": "2022-10-05T12:18:41.152Z"
   },
   {
    "duration": 37,
    "start_time": "2022-10-05T12:18:41.170Z"
   },
   {
    "duration": 28,
    "start_time": "2022-10-05T12:18:41.208Z"
   },
   {
    "duration": 17,
    "start_time": "2022-10-05T12:18:41.237Z"
   },
   {
    "duration": 35,
    "start_time": "2022-10-05T12:18:41.256Z"
   },
   {
    "duration": 30,
    "start_time": "2022-10-05T12:18:41.293Z"
   },
   {
    "duration": 395,
    "start_time": "2022-10-05T12:18:41.325Z"
   },
   {
    "duration": 8,
    "start_time": "2022-10-05T12:18:41.722Z"
   },
   {
    "duration": 74,
    "start_time": "2022-10-05T12:18:41.731Z"
   },
   {
    "duration": 20,
    "start_time": "2022-10-05T12:18:41.807Z"
   },
   {
    "duration": 27,
    "start_time": "2022-10-05T12:18:41.828Z"
   },
   {
    "duration": 13,
    "start_time": "2022-10-05T12:19:14.794Z"
   },
   {
    "duration": 14,
    "start_time": "2022-10-05T12:19:45.751Z"
   },
   {
    "duration": 54,
    "start_time": "2022-10-06T09:46:37.546Z"
   },
   {
    "duration": 384,
    "start_time": "2022-10-06T09:46:44.264Z"
   },
   {
    "duration": 113,
    "start_time": "2022-10-06T09:46:44.650Z"
   },
   {
    "duration": 13,
    "start_time": "2022-10-06T09:46:44.764Z"
   },
   {
    "duration": 12,
    "start_time": "2022-10-06T09:46:44.779Z"
   },
   {
    "duration": 8,
    "start_time": "2022-10-06T09:46:44.793Z"
   },
   {
    "duration": 18,
    "start_time": "2022-10-06T09:46:44.803Z"
   },
   {
    "duration": 13,
    "start_time": "2022-10-06T09:46:44.822Z"
   },
   {
    "duration": 17,
    "start_time": "2022-10-06T09:46:44.836Z"
   },
   {
    "duration": 12,
    "start_time": "2022-10-06T09:46:44.854Z"
   },
   {
    "duration": 21,
    "start_time": "2022-10-06T09:46:44.868Z"
   },
   {
    "duration": 533,
    "start_time": "2022-10-06T09:46:44.908Z"
   },
   {
    "duration": 7,
    "start_time": "2022-10-06T09:46:45.443Z"
   },
   {
    "duration": 42,
    "start_time": "2022-10-06T09:46:45.451Z"
   },
   {
    "duration": 31,
    "start_time": "2022-10-06T09:46:45.494Z"
   },
   {
    "duration": 15,
    "start_time": "2022-10-06T09:46:45.526Z"
   },
   {
    "duration": 15,
    "start_time": "2022-10-06T09:48:02.103Z"
   },
   {
    "duration": 9,
    "start_time": "2022-10-06T09:49:48.904Z"
   },
   {
    "duration": 13,
    "start_time": "2022-10-06T09:50:09.884Z"
   },
   {
    "duration": 16,
    "start_time": "2022-10-06T09:52:43.404Z"
   },
   {
    "duration": 17,
    "start_time": "2022-10-06T10:53:12.616Z"
   },
   {
    "duration": 16,
    "start_time": "2022-10-06T10:53:44.435Z"
   },
   {
    "duration": 352,
    "start_time": "2022-10-06T10:55:35.658Z"
   },
   {
    "duration": 73,
    "start_time": "2022-10-06T10:55:36.012Z"
   },
   {
    "duration": 12,
    "start_time": "2022-10-06T10:55:36.087Z"
   },
   {
    "duration": 3,
    "start_time": "2022-10-06T10:55:36.101Z"
   },
   {
    "duration": 11,
    "start_time": "2022-10-06T10:55:36.106Z"
   },
   {
    "duration": 21,
    "start_time": "2022-10-06T10:55:36.118Z"
   },
   {
    "duration": 11,
    "start_time": "2022-10-06T10:55:36.141Z"
   },
   {
    "duration": 7,
    "start_time": "2022-10-06T10:55:36.154Z"
   },
   {
    "duration": 19,
    "start_time": "2022-10-06T10:55:36.162Z"
   },
   {
    "duration": 28,
    "start_time": "2022-10-06T10:55:36.182Z"
   },
   {
    "duration": 368,
    "start_time": "2022-10-06T10:55:36.211Z"
   },
   {
    "duration": 7,
    "start_time": "2022-10-06T10:55:36.581Z"
   },
   {
    "duration": 51,
    "start_time": "2022-10-06T10:55:36.589Z"
   },
   {
    "duration": 13,
    "start_time": "2022-10-06T10:55:36.642Z"
   },
   {
    "duration": 12,
    "start_time": "2022-10-06T10:55:36.656Z"
   },
   {
    "duration": 12,
    "start_time": "2022-10-06T10:55:36.669Z"
   },
   {
    "duration": 37,
    "start_time": "2022-10-06T10:55:36.683Z"
   },
   {
    "duration": 12,
    "start_time": "2022-10-06T10:55:36.722Z"
   },
   {
    "duration": 12,
    "start_time": "2022-10-06T10:55:36.735Z"
   },
   {
    "duration": 391,
    "start_time": "2022-10-06T11:06:18.422Z"
   },
   {
    "duration": 73,
    "start_time": "2022-10-06T11:06:18.815Z"
   },
   {
    "duration": 12,
    "start_time": "2022-10-06T11:06:18.890Z"
   },
   {
    "duration": 5,
    "start_time": "2022-10-06T11:06:18.904Z"
   },
   {
    "duration": 12,
    "start_time": "2022-10-06T11:06:18.910Z"
   },
   {
    "duration": 23,
    "start_time": "2022-10-06T11:06:18.923Z"
   },
   {
    "duration": 14,
    "start_time": "2022-10-06T11:06:18.948Z"
   },
   {
    "duration": 9,
    "start_time": "2022-10-06T11:06:18.963Z"
   },
   {
    "duration": 15,
    "start_time": "2022-10-06T11:06:18.973Z"
   },
   {
    "duration": 26,
    "start_time": "2022-10-06T11:06:18.990Z"
   },
   {
    "duration": 360,
    "start_time": "2022-10-06T11:06:19.018Z"
   },
   {
    "duration": 7,
    "start_time": "2022-10-06T11:06:19.380Z"
   },
   {
    "duration": 50,
    "start_time": "2022-10-06T11:06:19.389Z"
   },
   {
    "duration": 13,
    "start_time": "2022-10-06T11:06:19.441Z"
   },
   {
    "duration": 19,
    "start_time": "2022-10-06T11:06:19.456Z"
   },
   {
    "duration": 12,
    "start_time": "2022-10-06T11:06:19.477Z"
   },
   {
    "duration": 13,
    "start_time": "2022-10-06T11:06:19.508Z"
   },
   {
    "duration": 12,
    "start_time": "2022-10-06T11:06:19.523Z"
   },
   {
    "duration": 13,
    "start_time": "2022-10-06T11:06:19.536Z"
   },
   {
    "duration": 15,
    "start_time": "2022-10-06T11:06:19.550Z"
   },
   {
    "duration": 12,
    "start_time": "2022-10-06T11:06:19.567Z"
   },
   {
    "duration": 15,
    "start_time": "2022-10-06T11:06:19.616Z"
   },
   {
    "duration": 32,
    "start_time": "2022-10-06T11:11:27.010Z"
   },
   {
    "duration": 477,
    "start_time": "2022-10-06T11:28:16.399Z"
   },
   {
    "duration": 89,
    "start_time": "2022-10-06T11:44:51.246Z"
   },
   {
    "duration": 6,
    "start_time": "2022-10-06T11:45:01.873Z"
   },
   {
    "duration": 9,
    "start_time": "2022-10-06T11:45:09.270Z"
   },
   {
    "duration": 1604,
    "start_time": "2022-10-06T11:46:08.710Z"
   },
   {
    "duration": 39,
    "start_time": "2022-10-06T11:47:52.000Z"
   },
   {
    "duration": 55,
    "start_time": "2022-10-06T11:47:59.068Z"
   },
   {
    "duration": 408,
    "start_time": "2022-10-06T11:49:46.304Z"
   },
   {
    "duration": 73,
    "start_time": "2022-10-06T11:49:46.714Z"
   },
   {
    "duration": 14,
    "start_time": "2022-10-06T11:49:46.788Z"
   },
   {
    "duration": 5,
    "start_time": "2022-10-06T11:49:46.803Z"
   },
   {
    "duration": 5,
    "start_time": "2022-10-06T11:49:46.809Z"
   },
   {
    "duration": 11,
    "start_time": "2022-10-06T11:49:46.816Z"
   },
   {
    "duration": 12,
    "start_time": "2022-10-06T11:49:46.828Z"
   },
   {
    "duration": 8,
    "start_time": "2022-10-06T11:49:46.841Z"
   },
   {
    "duration": 10,
    "start_time": "2022-10-06T11:49:46.850Z"
   },
   {
    "duration": 47,
    "start_time": "2022-10-06T11:49:46.863Z"
   },
   {
    "duration": 353,
    "start_time": "2022-10-06T11:49:46.912Z"
   },
   {
    "duration": 7,
    "start_time": "2022-10-06T11:49:47.267Z"
   },
   {
    "duration": 513,
    "start_time": "2022-10-06T11:49:47.275Z"
   },
   {
    "duration": 4,
    "start_time": "2022-10-06T11:49:47.790Z"
   },
   {
    "duration": 15,
    "start_time": "2022-10-06T11:49:47.795Z"
   },
   {
    "duration": 12,
    "start_time": "2022-10-06T11:49:47.811Z"
   },
   {
    "duration": 13,
    "start_time": "2022-10-06T11:49:47.824Z"
   },
   {
    "duration": 11,
    "start_time": "2022-10-06T11:49:47.838Z"
   },
   {
    "duration": 15,
    "start_time": "2022-10-06T11:49:47.851Z"
   },
   {
    "duration": 12,
    "start_time": "2022-10-06T11:49:47.867Z"
   },
   {
    "duration": 13,
    "start_time": "2022-10-06T11:49:47.909Z"
   },
   {
    "duration": 13,
    "start_time": "2022-10-06T11:49:47.924Z"
   },
   {
    "duration": 13,
    "start_time": "2022-10-06T11:49:47.938Z"
   },
   {
    "duration": 8,
    "start_time": "2022-10-06T11:50:31.475Z"
   },
   {
    "duration": 6,
    "start_time": "2022-10-06T11:51:20.694Z"
   },
   {
    "duration": 7,
    "start_time": "2022-10-06T11:52:02.078Z"
   },
   {
    "duration": 8,
    "start_time": "2022-10-06T11:52:17.470Z"
   },
   {
    "duration": 8,
    "start_time": "2022-10-06T11:52:25.300Z"
   },
   {
    "duration": 10,
    "start_time": "2022-10-06T11:59:44.659Z"
   },
   {
    "duration": 7,
    "start_time": "2022-10-06T12:02:12.342Z"
   },
   {
    "duration": 9,
    "start_time": "2022-10-06T12:04:05.415Z"
   },
   {
    "duration": 407,
    "start_time": "2022-10-06T12:19:03.553Z"
   },
   {
    "duration": 87,
    "start_time": "2022-10-06T12:19:03.962Z"
   },
   {
    "duration": 14,
    "start_time": "2022-10-06T12:19:04.051Z"
   },
   {
    "duration": 11,
    "start_time": "2022-10-06T12:19:04.068Z"
   },
   {
    "duration": 22,
    "start_time": "2022-10-06T12:19:04.081Z"
   },
   {
    "duration": 15,
    "start_time": "2022-10-06T12:19:04.105Z"
   },
   {
    "duration": 13,
    "start_time": "2022-10-06T12:19:04.122Z"
   },
   {
    "duration": 11,
    "start_time": "2022-10-06T12:19:04.136Z"
   },
   {
    "duration": 15,
    "start_time": "2022-10-06T12:19:04.149Z"
   },
   {
    "duration": 42,
    "start_time": "2022-10-06T12:19:04.167Z"
   },
   {
    "duration": 411,
    "start_time": "2022-10-06T12:19:04.210Z"
   },
   {
    "duration": 10,
    "start_time": "2022-10-06T12:19:04.623Z"
   },
   {
    "duration": 509,
    "start_time": "2022-10-06T12:19:04.635Z"
   },
   {
    "duration": 7,
    "start_time": "2022-10-06T12:19:05.146Z"
   },
   {
    "duration": 1131,
    "start_time": "2022-10-06T12:19:05.155Z"
   },
   {
    "duration": 0,
    "start_time": "2022-10-06T12:19:06.288Z"
   },
   {
    "duration": 0,
    "start_time": "2022-10-06T12:19:06.290Z"
   },
   {
    "duration": 0,
    "start_time": "2022-10-06T12:19:06.291Z"
   },
   {
    "duration": 0,
    "start_time": "2022-10-06T12:19:06.292Z"
   },
   {
    "duration": 0,
    "start_time": "2022-10-06T12:19:06.294Z"
   },
   {
    "duration": 0,
    "start_time": "2022-10-06T12:19:06.295Z"
   },
   {
    "duration": 0,
    "start_time": "2022-10-06T12:19:06.296Z"
   },
   {
    "duration": 0,
    "start_time": "2022-10-06T12:19:06.297Z"
   },
   {
    "duration": 0,
    "start_time": "2022-10-06T12:19:06.299Z"
   },
   {
    "duration": 269,
    "start_time": "2022-10-06T12:19:33.639Z"
   },
   {
    "duration": 256,
    "start_time": "2022-10-06T12:20:20.353Z"
   },
   {
    "duration": 5,
    "start_time": "2022-10-06T12:30:09.308Z"
   },
   {
    "duration": 15,
    "start_time": "2022-10-06T12:31:35.035Z"
   },
   {
    "duration": 10,
    "start_time": "2022-10-06T12:31:48.507Z"
   },
   {
    "duration": 20,
    "start_time": "2022-10-06T12:34:59.549Z"
   },
   {
    "duration": 21,
    "start_time": "2022-10-06T12:35:06.902Z"
   },
   {
    "duration": 13,
    "start_time": "2022-10-06T12:36:36.476Z"
   },
   {
    "duration": 8,
    "start_time": "2022-10-06T12:36:58.701Z"
   },
   {
    "duration": 21,
    "start_time": "2022-10-06T12:37:51.023Z"
   },
   {
    "duration": 314,
    "start_time": "2022-10-06T12:39:00.032Z"
   },
   {
    "duration": 23,
    "start_time": "2022-10-06T12:41:04.829Z"
   },
   {
    "duration": 228,
    "start_time": "2022-10-06T12:45:31.964Z"
   },
   {
    "duration": 232,
    "start_time": "2022-10-06T12:47:45.761Z"
   },
   {
    "duration": 181,
    "start_time": "2022-10-06T12:48:08.117Z"
   },
   {
    "duration": 211,
    "start_time": "2022-10-06T12:48:18.950Z"
   },
   {
    "duration": 422,
    "start_time": "2022-10-06T12:48:26.923Z"
   },
   {
    "duration": 432,
    "start_time": "2022-10-06T12:48:38.171Z"
   },
   {
    "duration": 203,
    "start_time": "2022-10-06T12:48:56.303Z"
   },
   {
    "duration": 499,
    "start_time": "2022-10-06T12:50:18.374Z"
   },
   {
    "duration": 478,
    "start_time": "2022-10-06T12:51:06.558Z"
   },
   {
    "duration": 293,
    "start_time": "2022-10-06T12:51:31.346Z"
   },
   {
    "duration": 210,
    "start_time": "2022-10-06T12:53:06.679Z"
   },
   {
    "duration": 24,
    "start_time": "2022-10-06T12:57:19.433Z"
   },
   {
    "duration": 184,
    "start_time": "2022-10-06T12:57:23.748Z"
   },
   {
    "duration": 25,
    "start_time": "2022-10-06T12:58:24.135Z"
   },
   {
    "duration": 190,
    "start_time": "2022-10-06T12:58:26.851Z"
   },
   {
    "duration": 22,
    "start_time": "2022-10-06T13:00:32.023Z"
   },
   {
    "duration": 213,
    "start_time": "2022-10-06T13:00:33.154Z"
   },
   {
    "duration": 23,
    "start_time": "2022-10-06T13:00:42.541Z"
   },
   {
    "duration": 208,
    "start_time": "2022-10-06T13:00:43.225Z"
   },
   {
    "duration": 11,
    "start_time": "2022-10-06T13:04:46.626Z"
   },
   {
    "duration": 13,
    "start_time": "2022-10-06T13:05:38.647Z"
   },
   {
    "duration": 19,
    "start_time": "2022-10-06T13:05:53.804Z"
   },
   {
    "duration": 19,
    "start_time": "2022-10-06T13:06:10.725Z"
   },
   {
    "duration": 11,
    "start_time": "2022-10-06T13:06:55.266Z"
   },
   {
    "duration": 12,
    "start_time": "2022-10-06T13:07:04.087Z"
   },
   {
    "duration": 13,
    "start_time": "2022-10-06T13:07:18.921Z"
   },
   {
    "duration": 14,
    "start_time": "2022-10-06T13:08:13.646Z"
   },
   {
    "duration": 401,
    "start_time": "2022-10-06T13:09:17.987Z"
   },
   {
    "duration": 82,
    "start_time": "2022-10-06T13:09:18.390Z"
   },
   {
    "duration": 12,
    "start_time": "2022-10-06T13:09:18.474Z"
   },
   {
    "duration": 4,
    "start_time": "2022-10-06T13:09:18.488Z"
   },
   {
    "duration": 6,
    "start_time": "2022-10-06T13:09:18.493Z"
   },
   {
    "duration": 19,
    "start_time": "2022-10-06T13:09:18.500Z"
   },
   {
    "duration": 14,
    "start_time": "2022-10-06T13:09:18.521Z"
   },
   {
    "duration": 8,
    "start_time": "2022-10-06T13:09:18.537Z"
   },
   {
    "duration": 15,
    "start_time": "2022-10-06T13:09:18.546Z"
   },
   {
    "duration": 19,
    "start_time": "2022-10-06T13:09:18.564Z"
   },
   {
    "duration": 437,
    "start_time": "2022-10-06T13:09:18.585Z"
   },
   {
    "duration": 7,
    "start_time": "2022-10-06T13:09:19.024Z"
   },
   {
    "duration": 503,
    "start_time": "2022-10-06T13:09:19.033Z"
   },
   {
    "duration": 7,
    "start_time": "2022-10-06T13:09:19.538Z"
   },
   {
    "duration": 220,
    "start_time": "2022-10-06T13:09:19.547Z"
   },
   {
    "duration": 6,
    "start_time": "2022-10-06T13:09:19.769Z"
   },
   {
    "duration": 33,
    "start_time": "2022-10-06T13:09:19.776Z"
   },
   {
    "duration": 194,
    "start_time": "2022-10-06T13:09:19.812Z"
   },
   {
    "duration": 13,
    "start_time": "2022-10-06T13:09:20.012Z"
   },
   {
    "duration": 19,
    "start_time": "2022-10-06T13:09:20.028Z"
   },
   {
    "duration": 22,
    "start_time": "2022-10-06T13:09:20.049Z"
   },
   {
    "duration": 16,
    "start_time": "2022-10-06T13:09:20.072Z"
   },
   {
    "duration": 18,
    "start_time": "2022-10-06T13:09:20.089Z"
   },
   {
    "duration": 88,
    "start_time": "2022-10-06T13:09:20.108Z"
   },
   {
    "duration": 25,
    "start_time": "2022-10-06T13:09:20.197Z"
   },
   {
    "duration": 27,
    "start_time": "2022-10-06T13:09:20.224Z"
   },
   {
    "duration": 22,
    "start_time": "2022-10-06T13:09:20.253Z"
   },
   {
    "duration": 12,
    "start_time": "2022-10-06T13:09:20.279Z"
   },
   {
    "duration": 13,
    "start_time": "2022-10-06T13:12:31.264Z"
   },
   {
    "duration": 13,
    "start_time": "2022-10-06T13:14:05.027Z"
   },
   {
    "duration": 75,
    "start_time": "2022-10-06T13:16:20.152Z"
   },
   {
    "duration": 366,
    "start_time": "2022-10-06T13:16:33.471Z"
   },
   {
    "duration": 73,
    "start_time": "2022-10-06T13:16:33.839Z"
   },
   {
    "duration": 12,
    "start_time": "2022-10-06T13:16:33.914Z"
   },
   {
    "duration": 5,
    "start_time": "2022-10-06T13:16:33.928Z"
   },
   {
    "duration": 15,
    "start_time": "2022-10-06T13:16:33.934Z"
   },
   {
    "duration": 12,
    "start_time": "2022-10-06T13:16:33.951Z"
   },
   {
    "duration": 13,
    "start_time": "2022-10-06T13:16:33.965Z"
   },
   {
    "duration": 8,
    "start_time": "2022-10-06T13:16:33.979Z"
   },
   {
    "duration": 30,
    "start_time": "2022-10-06T13:16:33.989Z"
   },
   {
    "duration": 20,
    "start_time": "2022-10-06T13:16:34.023Z"
   },
   {
    "duration": 366,
    "start_time": "2022-10-06T13:16:34.044Z"
   },
   {
    "duration": 9,
    "start_time": "2022-10-06T13:16:34.412Z"
   },
   {
    "duration": 541,
    "start_time": "2022-10-06T13:16:34.423Z"
   },
   {
    "duration": 7,
    "start_time": "2022-10-06T13:16:34.966Z"
   },
   {
    "duration": 221,
    "start_time": "2022-10-06T13:16:34.974Z"
   },
   {
    "duration": 12,
    "start_time": "2022-10-06T13:16:35.197Z"
   },
   {
    "duration": 31,
    "start_time": "2022-10-06T13:16:35.211Z"
   },
   {
    "duration": 215,
    "start_time": "2022-10-06T13:16:35.244Z"
   },
   {
    "duration": 8,
    "start_time": "2022-10-06T13:16:35.461Z"
   },
   {
    "duration": 8,
    "start_time": "2022-10-06T13:16:35.471Z"
   },
   {
    "duration": 9,
    "start_time": "2022-10-06T13:16:35.480Z"
   },
   {
    "duration": 29,
    "start_time": "2022-10-06T13:16:35.490Z"
   },
   {
    "duration": 12,
    "start_time": "2022-10-06T13:16:35.520Z"
   },
   {
    "duration": 56,
    "start_time": "2022-10-06T13:16:35.534Z"
   },
   {
    "duration": 28,
    "start_time": "2022-10-06T13:16:35.591Z"
   },
   {
    "duration": 12,
    "start_time": "2022-10-06T13:16:35.621Z"
   },
   {
    "duration": 25,
    "start_time": "2022-10-06T13:16:35.634Z"
   },
   {
    "duration": 13,
    "start_time": "2022-10-06T13:16:35.663Z"
   },
   {
    "duration": 36,
    "start_time": "2022-10-06T13:16:35.677Z"
   },
   {
    "duration": 13,
    "start_time": "2022-10-06T13:16:35.714Z"
   },
   {
    "duration": 9,
    "start_time": "2022-10-06T13:16:41.658Z"
   },
   {
    "duration": 20,
    "start_time": "2022-10-06T13:17:15.246Z"
   },
   {
    "duration": 13,
    "start_time": "2022-10-06T13:17:23.734Z"
   },
   {
    "duration": 18,
    "start_time": "2022-10-06T13:18:18.447Z"
   },
   {
    "duration": 18,
    "start_time": "2022-10-06T13:18:37.651Z"
   },
   {
    "duration": 19,
    "start_time": "2022-10-06T13:20:15.672Z"
   },
   {
    "duration": 204,
    "start_time": "2022-10-06T13:26:46.438Z"
   },
   {
    "duration": 175,
    "start_time": "2022-10-06T13:26:53.738Z"
   },
   {
    "duration": 78,
    "start_time": "2022-10-06T13:27:21.663Z"
   },
   {
    "duration": 94,
    "start_time": "2022-10-06T13:27:48.789Z"
   },
   {
    "duration": 89,
    "start_time": "2022-10-06T13:30:03.720Z"
   },
   {
    "duration": 85,
    "start_time": "2022-10-06T13:30:12.360Z"
   },
   {
    "duration": 95,
    "start_time": "2022-10-06T13:31:49.397Z"
   },
   {
    "duration": 405,
    "start_time": "2022-10-06T13:33:23.737Z"
   },
   {
    "duration": 80,
    "start_time": "2022-10-06T13:33:24.144Z"
   },
   {
    "duration": 12,
    "start_time": "2022-10-06T13:33:24.225Z"
   },
   {
    "duration": 4,
    "start_time": "2022-10-06T13:33:24.239Z"
   },
   {
    "duration": 5,
    "start_time": "2022-10-06T13:33:24.245Z"
   },
   {
    "duration": 16,
    "start_time": "2022-10-06T13:33:24.251Z"
   },
   {
    "duration": 13,
    "start_time": "2022-10-06T13:33:24.269Z"
   },
   {
    "duration": 10,
    "start_time": "2022-10-06T13:33:24.310Z"
   },
   {
    "duration": 14,
    "start_time": "2022-10-06T13:33:24.322Z"
   },
   {
    "duration": 21,
    "start_time": "2022-10-06T13:33:24.338Z"
   },
   {
    "duration": 437,
    "start_time": "2022-10-06T13:33:24.361Z"
   },
   {
    "duration": 9,
    "start_time": "2022-10-06T13:33:24.800Z"
   },
   {
    "duration": 478,
    "start_time": "2022-10-06T13:33:24.810Z"
   },
   {
    "duration": 8,
    "start_time": "2022-10-06T13:33:25.291Z"
   },
   {
    "duration": 215,
    "start_time": "2022-10-06T13:33:25.300Z"
   },
   {
    "duration": 7,
    "start_time": "2022-10-06T13:33:25.516Z"
   },
   {
    "duration": 23,
    "start_time": "2022-10-06T13:33:25.525Z"
   },
   {
    "duration": 211,
    "start_time": "2022-10-06T13:33:25.550Z"
   },
   {
    "duration": 134,
    "start_time": "2022-10-06T13:33:25.762Z"
   },
   {
    "duration": 19,
    "start_time": "2022-10-06T13:34:21.815Z"
   },
   {
    "duration": 12,
    "start_time": "2022-10-06T13:34:21.836Z"
   },
   {
    "duration": 12,
    "start_time": "2022-10-06T13:34:21.849Z"
   },
   {
    "duration": 12,
    "start_time": "2022-10-06T13:34:21.862Z"
   },
   {
    "duration": 41,
    "start_time": "2022-10-06T13:34:21.875Z"
   },
   {
    "duration": 12,
    "start_time": "2022-10-06T13:34:21.917Z"
   },
   {
    "duration": 12,
    "start_time": "2022-10-06T13:34:21.930Z"
   },
   {
    "duration": 15,
    "start_time": "2022-10-06T13:34:21.944Z"
   },
   {
    "duration": 11,
    "start_time": "2022-10-06T13:34:21.960Z"
   },
   {
    "duration": 37,
    "start_time": "2022-10-06T13:34:21.972Z"
   },
   {
    "duration": 106,
    "start_time": "2022-10-06T13:35:19.020Z"
   },
   {
    "duration": 421,
    "start_time": "2022-10-06T19:51:43.523Z"
   },
   {
    "duration": 409,
    "start_time": "2022-10-06T19:51:43.946Z"
   },
   {
    "duration": 123,
    "start_time": "2022-10-06T19:51:44.357Z"
   },
   {
    "duration": 16,
    "start_time": "2022-10-06T19:51:44.483Z"
   },
   {
    "duration": 6,
    "start_time": "2022-10-06T19:51:44.500Z"
   },
   {
    "duration": 11,
    "start_time": "2022-10-06T19:51:44.507Z"
   },
   {
    "duration": 25,
    "start_time": "2022-10-06T19:51:44.519Z"
   },
   {
    "duration": 15,
    "start_time": "2022-10-06T19:51:44.547Z"
   },
   {
    "duration": 8,
    "start_time": "2022-10-06T19:51:44.564Z"
   },
   {
    "duration": 13,
    "start_time": "2022-10-06T19:51:44.576Z"
   },
   {
    "duration": 51,
    "start_time": "2022-10-06T19:51:44.591Z"
   },
   {
    "duration": 165,
    "start_time": "2022-10-06T19:51:44.645Z"
   },
   {
    "duration": 7,
    "start_time": "2022-10-06T19:51:44.812Z"
   },
   {
    "duration": 564,
    "start_time": "2022-10-06T19:51:44.821Z"
   },
   {
    "duration": 9,
    "start_time": "2022-10-06T19:51:45.387Z"
   },
   {
    "duration": 259,
    "start_time": "2022-10-06T19:51:45.398Z"
   },
   {
    "duration": 7,
    "start_time": "2022-10-06T19:51:45.658Z"
   },
   {
    "duration": 23,
    "start_time": "2022-10-06T19:51:45.667Z"
   },
   {
    "duration": 282,
    "start_time": "2022-10-06T19:51:45.692Z"
   },
   {
    "duration": 19,
    "start_time": "2022-10-06T19:51:45.976Z"
   },
   {
    "duration": 13,
    "start_time": "2022-10-06T19:51:45.997Z"
   },
   {
    "duration": 38,
    "start_time": "2022-10-06T19:51:46.012Z"
   },
   {
    "duration": 14,
    "start_time": "2022-10-06T19:51:46.051Z"
   },
   {
    "duration": 12,
    "start_time": "2022-10-06T19:51:46.066Z"
   },
   {
    "duration": 12,
    "start_time": "2022-10-06T19:51:46.079Z"
   },
   {
    "duration": 13,
    "start_time": "2022-10-06T19:51:46.092Z"
   },
   {
    "duration": 47,
    "start_time": "2022-10-06T19:51:46.107Z"
   },
   {
    "duration": 13,
    "start_time": "2022-10-06T19:51:46.158Z"
   },
   {
    "duration": 16,
    "start_time": "2022-10-06T19:51:46.172Z"
   },
   {
    "duration": 17,
    "start_time": "2022-10-06T19:55:04.930Z"
   },
   {
    "duration": 89,
    "start_time": "2022-10-06T19:55:28.700Z"
   },
   {
    "duration": 16,
    "start_time": "2022-10-06T19:55:34.880Z"
   },
   {
    "duration": 11,
    "start_time": "2022-10-06T19:55:53.262Z"
   },
   {
    "duration": 18,
    "start_time": "2022-10-06T19:57:42.195Z"
   },
   {
    "duration": 20,
    "start_time": "2022-10-06T20:02:21.783Z"
   },
   {
    "duration": 22,
    "start_time": "2022-10-06T20:02:47.179Z"
   },
   {
    "duration": 29,
    "start_time": "2022-10-06T20:03:18.364Z"
   },
   {
    "duration": 906,
    "start_time": "2022-10-06T20:04:35.993Z"
   },
   {
    "duration": 706,
    "start_time": "2022-10-06T20:05:07.133Z"
   },
   {
    "duration": 156,
    "start_time": "2022-10-06T20:05:28.639Z"
   },
   {
    "duration": 23,
    "start_time": "2022-10-06T20:05:55.177Z"
   },
   {
    "duration": 1336,
    "start_time": "2022-10-06T20:06:12.842Z"
   },
   {
    "duration": 1331,
    "start_time": "2022-10-06T20:06:46.264Z"
   },
   {
    "duration": 42,
    "start_time": "2022-10-06T20:07:14.796Z"
   },
   {
    "duration": 49,
    "start_time": "2022-10-06T20:07:30.253Z"
   },
   {
    "duration": 53,
    "start_time": "2022-10-06T20:08:21.579Z"
   },
   {
    "duration": 44,
    "start_time": "2022-10-06T20:08:26.708Z"
   },
   {
    "duration": 45,
    "start_time": "2022-10-06T20:08:36.365Z"
   },
   {
    "duration": 45,
    "start_time": "2022-10-06T20:08:41.400Z"
   },
   {
    "duration": 4,
    "start_time": "2022-10-06T20:08:45.349Z"
   },
   {
    "duration": 790,
    "start_time": "2022-10-06T20:08:52.252Z"
   },
   {
    "duration": 85,
    "start_time": "2022-10-06T20:09:09.480Z"
   },
   {
    "duration": 1024,
    "start_time": "2022-10-06T20:09:16.815Z"
   },
   {
    "duration": 997,
    "start_time": "2022-10-06T20:10:12.318Z"
   },
   {
    "duration": 1369,
    "start_time": "2022-10-06T20:10:31.217Z"
   },
   {
    "duration": 413,
    "start_time": "2022-10-06T20:10:39.022Z"
   },
   {
    "duration": 224,
    "start_time": "2022-10-06T20:10:39.437Z"
   },
   {
    "duration": 74,
    "start_time": "2022-10-06T20:10:39.662Z"
   },
   {
    "duration": 15,
    "start_time": "2022-10-06T20:10:39.738Z"
   },
   {
    "duration": 6,
    "start_time": "2022-10-06T20:10:39.756Z"
   },
   {
    "duration": 14,
    "start_time": "2022-10-06T20:10:39.763Z"
   },
   {
    "duration": 17,
    "start_time": "2022-10-06T20:10:39.780Z"
   },
   {
    "duration": 13,
    "start_time": "2022-10-06T20:10:39.799Z"
   },
   {
    "duration": 9,
    "start_time": "2022-10-06T20:10:39.833Z"
   },
   {
    "duration": 14,
    "start_time": "2022-10-06T20:10:39.843Z"
   },
   {
    "duration": 23,
    "start_time": "2022-10-06T20:10:39.858Z"
   },
   {
    "duration": 176,
    "start_time": "2022-10-06T20:10:39.882Z"
   },
   {
    "duration": 7,
    "start_time": "2022-10-06T20:10:40.060Z"
   },
   {
    "duration": 499,
    "start_time": "2022-10-06T20:10:40.070Z"
   },
   {
    "duration": 8,
    "start_time": "2022-10-06T20:10:40.570Z"
   },
   {
    "duration": 226,
    "start_time": "2022-10-06T20:10:40.580Z"
   },
   {
    "duration": 8,
    "start_time": "2022-10-06T20:10:40.807Z"
   },
   {
    "duration": 32,
    "start_time": "2022-10-06T20:10:40.816Z"
   },
   {
    "duration": 250,
    "start_time": "2022-10-06T20:10:40.849Z"
   },
   {
    "duration": 914,
    "start_time": "2022-10-06T20:10:41.101Z"
   },
   {
    "duration": 0,
    "start_time": "2022-10-06T20:10:42.017Z"
   },
   {
    "duration": 0,
    "start_time": "2022-10-06T20:10:42.019Z"
   },
   {
    "duration": 0,
    "start_time": "2022-10-06T20:10:42.020Z"
   },
   {
    "duration": 0,
    "start_time": "2022-10-06T20:10:42.021Z"
   },
   {
    "duration": 0,
    "start_time": "2022-10-06T20:10:42.022Z"
   },
   {
    "duration": 0,
    "start_time": "2022-10-06T20:10:42.023Z"
   },
   {
    "duration": 0,
    "start_time": "2022-10-06T20:10:42.034Z"
   },
   {
    "duration": 0,
    "start_time": "2022-10-06T20:10:42.035Z"
   },
   {
    "duration": 0,
    "start_time": "2022-10-06T20:10:42.036Z"
   },
   {
    "duration": 0,
    "start_time": "2022-10-06T20:10:42.037Z"
   },
   {
    "duration": 18,
    "start_time": "2022-10-06T20:11:23.349Z"
   },
   {
    "duration": 156,
    "start_time": "2022-10-06T20:11:33.560Z"
   },
   {
    "duration": 793,
    "start_time": "2022-10-06T20:12:06.317Z"
   },
   {
    "duration": 1547,
    "start_time": "2022-10-06T20:12:24.952Z"
   },
   {
    "duration": 739,
    "start_time": "2022-10-06T20:15:10.434Z"
   },
   {
    "duration": 41,
    "start_time": "2022-10-06T20:15:44.523Z"
   },
   {
    "duration": 684,
    "start_time": "2022-10-06T20:15:48.434Z"
   },
   {
    "duration": 686,
    "start_time": "2022-10-06T20:15:52.290Z"
   },
   {
    "duration": 796,
    "start_time": "2022-10-06T20:16:01.905Z"
   },
   {
    "duration": 170,
    "start_time": "2022-10-06T20:16:06.404Z"
   },
   {
    "duration": 1025,
    "start_time": "2022-10-06T20:16:57.229Z"
   },
   {
    "duration": 1007,
    "start_time": "2022-10-06T20:17:01.706Z"
   },
   {
    "duration": 380,
    "start_time": "2022-10-06T20:17:17.470Z"
   },
   {
    "duration": 221,
    "start_time": "2022-10-06T20:17:17.852Z"
   },
   {
    "duration": 79,
    "start_time": "2022-10-06T20:17:18.075Z"
   },
   {
    "duration": 18,
    "start_time": "2022-10-06T20:17:18.155Z"
   },
   {
    "duration": 7,
    "start_time": "2022-10-06T20:17:18.175Z"
   },
   {
    "duration": 12,
    "start_time": "2022-10-06T20:17:18.183Z"
   },
   {
    "duration": 16,
    "start_time": "2022-10-06T20:17:18.197Z"
   },
   {
    "duration": 25,
    "start_time": "2022-10-06T20:17:18.215Z"
   },
   {
    "duration": 9,
    "start_time": "2022-10-06T20:17:18.243Z"
   },
   {
    "duration": 13,
    "start_time": "2022-10-06T20:17:18.254Z"
   },
   {
    "duration": 20,
    "start_time": "2022-10-06T20:17:18.269Z"
   },
   {
    "duration": 185,
    "start_time": "2022-10-06T20:17:18.290Z"
   },
   {
    "duration": 7,
    "start_time": "2022-10-06T20:17:18.477Z"
   },
   {
    "duration": 539,
    "start_time": "2022-10-06T20:17:18.486Z"
   },
   {
    "duration": 9,
    "start_time": "2022-10-06T20:17:19.026Z"
   },
   {
    "duration": 251,
    "start_time": "2022-10-06T20:17:19.037Z"
   },
   {
    "duration": 7,
    "start_time": "2022-10-06T20:17:19.290Z"
   },
   {
    "duration": 36,
    "start_time": "2022-10-06T20:17:19.298Z"
   },
   {
    "duration": 252,
    "start_time": "2022-10-06T20:17:19.336Z"
   },
   {
    "duration": 1287,
    "start_time": "2022-10-06T20:17:19.589Z"
   },
   {
    "duration": 0,
    "start_time": "2022-10-06T20:17:20.878Z"
   },
   {
    "duration": 0,
    "start_time": "2022-10-06T20:17:20.879Z"
   },
   {
    "duration": 0,
    "start_time": "2022-10-06T20:17:20.880Z"
   },
   {
    "duration": 0,
    "start_time": "2022-10-06T20:17:20.881Z"
   },
   {
    "duration": 0,
    "start_time": "2022-10-06T20:17:20.882Z"
   },
   {
    "duration": 0,
    "start_time": "2022-10-06T20:17:20.883Z"
   },
   {
    "duration": 0,
    "start_time": "2022-10-06T20:17:20.884Z"
   },
   {
    "duration": 0,
    "start_time": "2022-10-06T20:17:20.885Z"
   },
   {
    "duration": 0,
    "start_time": "2022-10-06T20:17:20.886Z"
   },
   {
    "duration": 0,
    "start_time": "2022-10-06T20:17:20.887Z"
   },
   {
    "duration": 19,
    "start_time": "2022-10-06T20:17:40.149Z"
   },
   {
    "duration": 150,
    "start_time": "2022-10-06T20:18:02.280Z"
   },
   {
    "duration": 826,
    "start_time": "2022-10-06T20:18:29.330Z"
   },
   {
    "duration": 786,
    "start_time": "2022-10-06T20:18:46.570Z"
   },
   {
    "duration": 887,
    "start_time": "2022-10-06T20:19:05.612Z"
   },
   {
    "duration": 722,
    "start_time": "2022-10-06T20:19:22.160Z"
   },
   {
    "duration": 885,
    "start_time": "2022-10-06T20:19:46.020Z"
   },
   {
    "duration": 58,
    "start_time": "2022-10-06T20:20:31.518Z"
   },
   {
    "duration": 151,
    "start_time": "2022-10-06T20:20:45.231Z"
   },
   {
    "duration": 962,
    "start_time": "2022-10-06T20:21:09.012Z"
   },
   {
    "duration": 187,
    "start_time": "2022-10-06T20:21:56.246Z"
   },
   {
    "duration": 222,
    "start_time": "2022-10-06T20:22:08.273Z"
   },
   {
    "duration": 152,
    "start_time": "2022-10-06T20:22:20.447Z"
   },
   {
    "duration": 177,
    "start_time": "2022-10-06T20:22:29.622Z"
   },
   {
    "duration": 137,
    "start_time": "2022-10-06T20:22:41.166Z"
   },
   {
    "duration": 158,
    "start_time": "2022-10-06T20:25:05.645Z"
   },
   {
    "duration": 159,
    "start_time": "2022-10-06T20:25:27.975Z"
   },
   {
    "duration": 72,
    "start_time": "2022-10-06T20:26:00.503Z"
   },
   {
    "duration": 135,
    "start_time": "2022-10-06T20:26:07.130Z"
   },
   {
    "duration": 171,
    "start_time": "2022-10-06T20:27:58.326Z"
   },
   {
    "duration": 152,
    "start_time": "2022-10-06T20:28:33.182Z"
   },
   {
    "duration": 55,
    "start_time": "2022-10-06T20:28:52.423Z"
   },
   {
    "duration": 167,
    "start_time": "2022-10-06T20:28:55.625Z"
   },
   {
    "duration": 61,
    "start_time": "2022-10-06T20:29:43.797Z"
   },
   {
    "duration": 184,
    "start_time": "2022-10-06T20:29:48.676Z"
   },
   {
    "duration": 156,
    "start_time": "2022-10-06T20:30:04.937Z"
   },
   {
    "duration": 188,
    "start_time": "2022-10-06T20:31:14.083Z"
   },
   {
    "duration": 161,
    "start_time": "2022-10-06T20:31:59.164Z"
   },
   {
    "duration": 5,
    "start_time": "2022-10-06T20:33:53.192Z"
   },
   {
    "duration": 6,
    "start_time": "2022-10-06T20:34:20.443Z"
   },
   {
    "duration": 485,
    "start_time": "2022-10-08T18:33:51.018Z"
   },
   {
    "duration": 510,
    "start_time": "2022-10-08T18:33:51.505Z"
   },
   {
    "duration": 527,
    "start_time": "2022-10-08T18:33:52.017Z"
   },
   {
    "duration": 17,
    "start_time": "2022-10-08T18:33:52.546Z"
   },
   {
    "duration": 5,
    "start_time": "2022-10-08T18:33:52.566Z"
   },
   {
    "duration": 7,
    "start_time": "2022-10-08T18:33:52.573Z"
   },
   {
    "duration": 19,
    "start_time": "2022-10-08T18:33:52.591Z"
   },
   {
    "duration": 16,
    "start_time": "2022-10-08T18:33:52.613Z"
   },
   {
    "duration": 14,
    "start_time": "2022-10-08T18:33:52.631Z"
   },
   {
    "duration": 46,
    "start_time": "2022-10-08T18:33:52.647Z"
   },
   {
    "duration": 27,
    "start_time": "2022-10-08T18:33:52.703Z"
   },
   {
    "duration": 199,
    "start_time": "2022-10-08T18:33:52.731Z"
   },
   {
    "duration": 10,
    "start_time": "2022-10-08T18:33:52.932Z"
   },
   {
    "duration": 612,
    "start_time": "2022-10-08T18:33:52.945Z"
   },
   {
    "duration": 9,
    "start_time": "2022-10-08T18:33:53.558Z"
   },
   {
    "duration": 277,
    "start_time": "2022-10-08T18:33:53.569Z"
   },
   {
    "duration": 8,
    "start_time": "2022-10-08T18:33:53.848Z"
   },
   {
    "duration": 47,
    "start_time": "2022-10-08T18:33:53.858Z"
   },
   {
    "duration": 310,
    "start_time": "2022-10-08T18:33:53.907Z"
   },
   {
    "duration": 197,
    "start_time": "2022-10-08T18:33:54.219Z"
   },
   {
    "duration": 6,
    "start_time": "2022-10-08T18:33:54.418Z"
   },
   {
    "duration": 219,
    "start_time": "2022-10-08T18:33:54.426Z"
   },
   {
    "duration": 5,
    "start_time": "2022-10-08T18:33:54.647Z"
   },
   {
    "duration": 53,
    "start_time": "2022-10-08T18:33:54.653Z"
   },
   {
    "duration": 18,
    "start_time": "2022-10-08T18:33:54.707Z"
   },
   {
    "duration": 22,
    "start_time": "2022-10-08T18:33:54.728Z"
   },
   {
    "duration": 20,
    "start_time": "2022-10-08T18:33:54.752Z"
   },
   {
    "duration": 38,
    "start_time": "2022-10-08T18:33:54.774Z"
   },
   {
    "duration": 29,
    "start_time": "2022-10-08T18:33:54.815Z"
   },
   {
    "duration": 21,
    "start_time": "2022-10-08T18:33:54.846Z"
   },
   {
    "duration": 30,
    "start_time": "2022-10-08T18:33:54.869Z"
   },
   {
    "duration": 38,
    "start_time": "2022-10-08T18:33:54.901Z"
   },
   {
    "duration": 19,
    "start_time": "2022-10-08T18:33:54.941Z"
   },
   {
    "duration": 549,
    "start_time": "2022-10-08T18:36:56.875Z"
   },
   {
    "duration": 361,
    "start_time": "2022-10-08T18:36:57.427Z"
   },
   {
    "duration": 722,
    "start_time": "2022-10-08T18:36:57.789Z"
   },
   {
    "duration": 96,
    "start_time": "2022-10-08T18:36:58.513Z"
   },
   {
    "duration": 23,
    "start_time": "2022-10-08T18:36:58.612Z"
   },
   {
    "duration": 6,
    "start_time": "2022-10-08T18:36:58.637Z"
   },
   {
    "duration": 6,
    "start_time": "2022-10-08T18:36:58.645Z"
   },
   {
    "duration": 42,
    "start_time": "2022-10-08T18:36:58.653Z"
   },
   {
    "duration": 19,
    "start_time": "2022-10-08T18:36:58.699Z"
   },
   {
    "duration": 9,
    "start_time": "2022-10-08T18:36:58.721Z"
   },
   {
    "duration": 23,
    "start_time": "2022-10-08T18:36:58.733Z"
   },
   {
    "duration": 53,
    "start_time": "2022-10-08T18:36:58.758Z"
   },
   {
    "duration": 222,
    "start_time": "2022-10-08T18:36:58.813Z"
   },
   {
    "duration": 11,
    "start_time": "2022-10-08T18:36:59.040Z"
   },
   {
    "duration": 629,
    "start_time": "2022-10-08T18:36:59.056Z"
   },
   {
    "duration": 17,
    "start_time": "2022-10-08T18:36:59.687Z"
   },
   {
    "duration": 326,
    "start_time": "2022-10-08T18:36:59.708Z"
   },
   {
    "duration": 13,
    "start_time": "2022-10-08T18:37:00.035Z"
   },
   {
    "duration": 58,
    "start_time": "2022-10-08T18:37:00.051Z"
   },
   {
    "duration": 265,
    "start_time": "2022-10-08T18:37:00.110Z"
   },
   {
    "duration": 200,
    "start_time": "2022-10-08T18:37:00.377Z"
   },
   {
    "duration": 15,
    "start_time": "2022-10-08T18:37:00.579Z"
   },
   {
    "duration": 262,
    "start_time": "2022-10-08T18:37:00.597Z"
   },
   {
    "duration": 9,
    "start_time": "2022-10-08T18:37:00.863Z"
   },
   {
    "duration": 60,
    "start_time": "2022-10-08T18:37:00.874Z"
   },
   {
    "duration": 29,
    "start_time": "2022-10-08T18:37:00.936Z"
   },
   {
    "duration": 39,
    "start_time": "2022-10-08T18:37:00.967Z"
   },
   {
    "duration": 47,
    "start_time": "2022-10-08T18:37:01.009Z"
   },
   {
    "duration": 42,
    "start_time": "2022-10-08T18:37:01.058Z"
   },
   {
    "duration": 55,
    "start_time": "2022-10-08T18:37:01.102Z"
   },
   {
    "duration": 64,
    "start_time": "2022-10-08T18:37:01.159Z"
   },
   {
    "duration": 46,
    "start_time": "2022-10-08T18:37:01.225Z"
   },
   {
    "duration": 45,
    "start_time": "2022-10-08T18:37:01.273Z"
   },
   {
    "duration": 29,
    "start_time": "2022-10-08T18:37:01.320Z"
   },
   {
    "duration": 19,
    "start_time": "2022-10-08T18:38:30.255Z"
   },
   {
    "duration": 195,
    "start_time": "2022-10-08T18:38:47.100Z"
   },
   {
    "duration": 386,
    "start_time": "2022-10-08T18:39:38.069Z"
   },
   {
    "duration": 227,
    "start_time": "2022-10-08T18:39:52.239Z"
   },
   {
    "duration": 230,
    "start_time": "2022-10-08T18:40:08.901Z"
   },
   {
    "duration": 21,
    "start_time": "2022-10-08T18:40:49.655Z"
   },
   {
    "duration": 230,
    "start_time": "2022-10-08T18:41:01.318Z"
   },
   {
    "duration": 247,
    "start_time": "2022-10-08T18:43:36.907Z"
   },
   {
    "duration": 232,
    "start_time": "2022-10-08T18:43:51.408Z"
   },
   {
    "duration": 509,
    "start_time": "2022-10-08T18:46:57.973Z"
   },
   {
    "duration": 287,
    "start_time": "2022-10-08T18:46:58.485Z"
   },
   {
    "duration": 566,
    "start_time": "2022-10-08T18:46:58.774Z"
   },
   {
    "duration": 212,
    "start_time": "2022-10-08T18:46:59.342Z"
   },
   {
    "duration": 17,
    "start_time": "2022-10-08T18:46:59.556Z"
   },
   {
    "duration": 6,
    "start_time": "2022-10-08T18:46:59.575Z"
   },
   {
    "duration": 28,
    "start_time": "2022-10-08T18:46:59.583Z"
   },
   {
    "duration": 18,
    "start_time": "2022-10-08T18:46:59.612Z"
   },
   {
    "duration": 15,
    "start_time": "2022-10-08T18:46:59.632Z"
   },
   {
    "duration": 11,
    "start_time": "2022-10-08T18:46:59.650Z"
   },
   {
    "duration": 30,
    "start_time": "2022-10-08T18:46:59.663Z"
   },
   {
    "duration": 26,
    "start_time": "2022-10-08T18:46:59.701Z"
   },
   {
    "duration": 195,
    "start_time": "2022-10-08T18:46:59.729Z"
   },
   {
    "duration": 10,
    "start_time": "2022-10-08T18:46:59.927Z"
   },
   {
    "duration": 627,
    "start_time": "2022-10-08T18:46:59.938Z"
   },
   {
    "duration": 12,
    "start_time": "2022-10-08T18:47:00.567Z"
   },
   {
    "duration": 340,
    "start_time": "2022-10-08T18:47:00.581Z"
   },
   {
    "duration": 10,
    "start_time": "2022-10-08T18:47:00.923Z"
   },
   {
    "duration": 35,
    "start_time": "2022-10-08T18:47:00.935Z"
   },
   {
    "duration": 270,
    "start_time": "2022-10-08T18:47:00.973Z"
   },
   {
    "duration": 271,
    "start_time": "2022-10-08T18:47:01.245Z"
   },
   {
    "duration": 248,
    "start_time": "2022-10-08T18:47:01.518Z"
   },
   {
    "duration": 275,
    "start_time": "2022-10-08T18:47:01.768Z"
   },
   {
    "duration": 7,
    "start_time": "2022-10-08T18:47:02.046Z"
   },
   {
    "duration": 326,
    "start_time": "2022-10-08T18:47:02.056Z"
   },
   {
    "duration": 17,
    "start_time": "2022-10-08T18:47:02.390Z"
   },
   {
    "duration": 25,
    "start_time": "2022-10-08T18:47:02.410Z"
   },
   {
    "duration": 16,
    "start_time": "2022-10-08T18:47:02.437Z"
   },
   {
    "duration": 22,
    "start_time": "2022-10-08T18:47:02.455Z"
   },
   {
    "duration": 31,
    "start_time": "2022-10-08T18:47:02.496Z"
   },
   {
    "duration": 20,
    "start_time": "2022-10-08T18:47:02.529Z"
   },
   {
    "duration": 22,
    "start_time": "2022-10-08T18:47:02.552Z"
   },
   {
    "duration": 32,
    "start_time": "2022-10-08T18:47:02.576Z"
   },
   {
    "duration": 23,
    "start_time": "2022-10-08T18:47:02.610Z"
   },
   {
    "duration": 21,
    "start_time": "2022-10-08T18:47:02.635Z"
   },
   {
    "duration": 17,
    "start_time": "2022-10-08T18:47:02.658Z"
   },
   {
    "duration": 222,
    "start_time": "2022-10-08T18:47:25.917Z"
   },
   {
    "duration": 1026,
    "start_time": "2022-10-08T18:55:56.806Z"
   },
   {
    "duration": 1168,
    "start_time": "2022-10-08T18:57:03.344Z"
   },
   {
    "duration": 1343,
    "start_time": "2022-10-08T18:58:21.439Z"
   },
   {
    "duration": 1362,
    "start_time": "2022-10-08T18:59:08.479Z"
   },
   {
    "duration": 1169,
    "start_time": "2022-10-08T19:03:04.377Z"
   },
   {
    "duration": 1170,
    "start_time": "2022-10-08T19:03:26.148Z"
   },
   {
    "duration": 1416,
    "start_time": "2022-10-08T19:04:31.545Z"
   },
   {
    "duration": 84,
    "start_time": "2022-10-08T19:04:36.919Z"
   },
   {
    "duration": 22,
    "start_time": "2022-10-08T19:04:48.017Z"
   },
   {
    "duration": 90,
    "start_time": "2022-10-08T19:04:56.770Z"
   },
   {
    "duration": 1130,
    "start_time": "2022-10-08T19:05:03.756Z"
   },
   {
    "duration": 1122,
    "start_time": "2022-10-08T19:05:10.716Z"
   },
   {
    "duration": 316,
    "start_time": "2022-10-08T19:07:10.668Z"
   },
   {
    "duration": 462,
    "start_time": "2022-10-08T19:32:52.483Z"
   },
   {
    "duration": 270,
    "start_time": "2022-10-08T19:32:52.947Z"
   },
   {
    "duration": 588,
    "start_time": "2022-10-08T19:32:53.219Z"
   },
   {
    "duration": 80,
    "start_time": "2022-10-08T19:32:53.810Z"
   },
   {
    "duration": 23,
    "start_time": "2022-10-08T19:32:53.893Z"
   },
   {
    "duration": 5,
    "start_time": "2022-10-08T19:32:53.918Z"
   },
   {
    "duration": 8,
    "start_time": "2022-10-08T19:32:53.925Z"
   },
   {
    "duration": 20,
    "start_time": "2022-10-08T19:32:53.935Z"
   },
   {
    "duration": 45,
    "start_time": "2022-10-08T19:32:53.958Z"
   },
   {
    "duration": 19,
    "start_time": "2022-10-08T19:32:54.009Z"
   },
   {
    "duration": 10,
    "start_time": "2022-10-08T19:32:54.030Z"
   },
   {
    "duration": 14,
    "start_time": "2022-10-08T19:32:54.041Z"
   },
   {
    "duration": 41,
    "start_time": "2022-10-08T19:32:54.058Z"
   },
   {
    "duration": 188,
    "start_time": "2022-10-08T19:32:54.102Z"
   },
   {
    "duration": 9,
    "start_time": "2022-10-08T19:32:54.303Z"
   },
   {
    "duration": 643,
    "start_time": "2022-10-08T19:32:54.314Z"
   },
   {
    "duration": 8,
    "start_time": "2022-10-08T19:32:54.959Z"
   },
   {
    "duration": 292,
    "start_time": "2022-10-08T19:32:54.969Z"
   },
   {
    "duration": 27,
    "start_time": "2022-10-08T19:32:55.264Z"
   },
   {
    "duration": 30,
    "start_time": "2022-10-08T19:32:55.304Z"
   },
   {
    "duration": 250,
    "start_time": "2022-10-08T19:32:55.336Z"
   },
   {
    "duration": 238,
    "start_time": "2022-10-08T19:32:55.589Z"
   },
   {
    "duration": 226,
    "start_time": "2022-10-08T19:32:55.829Z"
   },
   {
    "duration": 1152,
    "start_time": "2022-10-08T19:32:56.056Z"
   },
   {
    "duration": 1055,
    "start_time": "2022-10-08T19:32:57.210Z"
   },
   {
    "duration": 85,
    "start_time": "2022-10-08T19:32:58.267Z"
   },
   {
    "duration": 52,
    "start_time": "2022-10-08T19:32:58.354Z"
   },
   {
    "duration": 19,
    "start_time": "2022-10-08T19:32:58.408Z"
   },
   {
    "duration": 16,
    "start_time": "2022-10-08T19:32:58.430Z"
   },
   {
    "duration": 48,
    "start_time": "2022-10-08T19:32:58.448Z"
   },
   {
    "duration": 21,
    "start_time": "2022-10-08T19:32:58.501Z"
   },
   {
    "duration": 21,
    "start_time": "2022-10-08T19:32:58.524Z"
   },
   {
    "duration": 31,
    "start_time": "2022-10-08T19:32:58.550Z"
   },
   {
    "duration": 37,
    "start_time": "2022-10-08T19:32:58.588Z"
   },
   {
    "duration": 21,
    "start_time": "2022-10-08T19:32:58.628Z"
   },
   {
    "duration": 17,
    "start_time": "2022-10-08T19:32:58.651Z"
   },
   {
    "duration": 107,
    "start_time": "2022-10-08T19:34:11.472Z"
   },
   {
    "duration": 399,
    "start_time": "2022-10-08T19:34:19.744Z"
   },
   {
    "duration": 324,
    "start_time": "2022-10-08T19:34:20.145Z"
   },
   {
    "duration": 689,
    "start_time": "2022-10-08T19:34:20.471Z"
   },
   {
    "duration": 95,
    "start_time": "2022-10-08T19:34:21.162Z"
   },
   {
    "duration": 28,
    "start_time": "2022-10-08T19:34:21.261Z"
   },
   {
    "duration": 8,
    "start_time": "2022-10-08T19:34:21.294Z"
   },
   {
    "duration": 6,
    "start_time": "2022-10-08T19:34:21.316Z"
   },
   {
    "duration": 18,
    "start_time": "2022-10-08T19:34:21.325Z"
   },
   {
    "duration": 93,
    "start_time": "2022-10-08T19:34:21.345Z"
   },
   {
    "duration": 18,
    "start_time": "2022-10-08T19:34:21.440Z"
   },
   {
    "duration": 32,
    "start_time": "2022-10-08T19:34:21.460Z"
   },
   {
    "duration": 21,
    "start_time": "2022-10-08T19:34:21.494Z"
   },
   {
    "duration": 34,
    "start_time": "2022-10-08T19:34:21.519Z"
   },
   {
    "duration": 204,
    "start_time": "2022-10-08T19:34:21.557Z"
   },
   {
    "duration": 8,
    "start_time": "2022-10-08T19:34:21.763Z"
   },
   {
    "duration": 768,
    "start_time": "2022-10-08T19:34:21.773Z"
   },
   {
    "duration": 12,
    "start_time": "2022-10-08T19:34:22.544Z"
   },
   {
    "duration": 381,
    "start_time": "2022-10-08T19:34:22.559Z"
   },
   {
    "duration": 10,
    "start_time": "2022-10-08T19:34:22.942Z"
   },
   {
    "duration": 51,
    "start_time": "2022-10-08T19:34:22.954Z"
   },
   {
    "duration": 277,
    "start_time": "2022-10-08T19:34:23.011Z"
   },
   {
    "duration": 328,
    "start_time": "2022-10-08T19:34:23.290Z"
   },
   {
    "duration": 326,
    "start_time": "2022-10-08T19:34:23.621Z"
   },
   {
    "duration": 1344,
    "start_time": "2022-10-08T19:34:23.949Z"
   },
   {
    "duration": 1172,
    "start_time": "2022-10-08T19:34:25.295Z"
   },
   {
    "duration": 75,
    "start_time": "2022-10-08T19:34:26.469Z"
   },
   {
    "duration": 54,
    "start_time": "2022-10-08T19:34:26.547Z"
   },
   {
    "duration": 38,
    "start_time": "2022-10-08T19:34:26.603Z"
   },
   {
    "duration": 18,
    "start_time": "2022-10-08T19:34:26.643Z"
   },
   {
    "duration": 16,
    "start_time": "2022-10-08T19:34:26.664Z"
   },
   {
    "duration": 29,
    "start_time": "2022-10-08T19:34:26.682Z"
   },
   {
    "duration": 28,
    "start_time": "2022-10-08T19:34:26.712Z"
   },
   {
    "duration": 25,
    "start_time": "2022-10-08T19:34:26.743Z"
   },
   {
    "duration": 18,
    "start_time": "2022-10-08T19:34:26.769Z"
   },
   {
    "duration": 19,
    "start_time": "2022-10-08T19:34:26.789Z"
   },
   {
    "duration": 32,
    "start_time": "2022-10-08T19:34:26.810Z"
   },
   {
    "duration": 19,
    "start_time": "2022-10-08T19:34:38.810Z"
   },
   {
    "duration": 428,
    "start_time": "2022-10-08T19:35:28.115Z"
   },
   {
    "duration": 303,
    "start_time": "2022-10-08T19:35:28.549Z"
   },
   {
    "duration": 588,
    "start_time": "2022-10-08T19:35:28.854Z"
   },
   {
    "duration": 87,
    "start_time": "2022-10-08T19:35:29.444Z"
   },
   {
    "duration": 22,
    "start_time": "2022-10-08T19:35:29.534Z"
   },
   {
    "duration": 6,
    "start_time": "2022-10-08T19:35:29.557Z"
   },
   {
    "duration": 9,
    "start_time": "2022-10-08T19:35:29.565Z"
   },
   {
    "duration": 38,
    "start_time": "2022-10-08T19:35:29.597Z"
   },
   {
    "duration": 71,
    "start_time": "2022-10-08T19:35:29.637Z"
   },
   {
    "duration": 25,
    "start_time": "2022-10-08T19:35:29.710Z"
   },
   {
    "duration": 18,
    "start_time": "2022-10-08T19:35:29.738Z"
   },
   {
    "duration": 48,
    "start_time": "2022-10-08T19:35:29.758Z"
   },
   {
    "duration": 29,
    "start_time": "2022-10-08T19:35:29.809Z"
   },
   {
    "duration": 231,
    "start_time": "2022-10-08T19:35:29.841Z"
   },
   {
    "duration": 28,
    "start_time": "2022-10-08T19:35:30.074Z"
   },
   {
    "duration": 602,
    "start_time": "2022-10-08T19:35:30.106Z"
   },
   {
    "duration": 10,
    "start_time": "2022-10-08T19:35:30.710Z"
   },
   {
    "duration": 318,
    "start_time": "2022-10-08T19:35:30.723Z"
   },
   {
    "duration": 10,
    "start_time": "2022-10-08T19:35:31.043Z"
   },
   {
    "duration": 58,
    "start_time": "2022-10-08T19:35:31.055Z"
   },
   {
    "duration": 293,
    "start_time": "2022-10-08T19:35:31.115Z"
   },
   {
    "duration": 236,
    "start_time": "2022-10-08T19:35:31.416Z"
   },
   {
    "duration": 275,
    "start_time": "2022-10-08T19:35:31.654Z"
   },
   {
    "duration": 1260,
    "start_time": "2022-10-08T19:35:31.931Z"
   },
   {
    "duration": 276,
    "start_time": "2022-10-08T19:35:33.195Z"
   },
   {
    "duration": 0,
    "start_time": "2022-10-08T19:35:33.473Z"
   },
   {
    "duration": 0,
    "start_time": "2022-10-08T19:35:33.474Z"
   },
   {
    "duration": 0,
    "start_time": "2022-10-08T19:35:33.476Z"
   },
   {
    "duration": 0,
    "start_time": "2022-10-08T19:35:33.477Z"
   },
   {
    "duration": 0,
    "start_time": "2022-10-08T19:35:33.494Z"
   },
   {
    "duration": 1,
    "start_time": "2022-10-08T19:35:33.495Z"
   },
   {
    "duration": 0,
    "start_time": "2022-10-08T19:35:33.497Z"
   },
   {
    "duration": 0,
    "start_time": "2022-10-08T19:35:33.498Z"
   },
   {
    "duration": 0,
    "start_time": "2022-10-08T19:35:33.499Z"
   },
   {
    "duration": 0,
    "start_time": "2022-10-08T19:35:33.501Z"
   },
   {
    "duration": 0,
    "start_time": "2022-10-08T19:35:33.502Z"
   },
   {
    "duration": 62,
    "start_time": "2022-10-08T19:37:29.140Z"
   },
   {
    "duration": 172,
    "start_time": "2022-10-08T19:37:42.906Z"
   },
   {
    "duration": 15,
    "start_time": "2022-10-08T19:37:54.441Z"
   },
   {
    "duration": 19,
    "start_time": "2022-10-08T19:37:58.243Z"
   },
   {
    "duration": 26,
    "start_time": "2022-10-08T19:38:05.022Z"
   },
   {
    "duration": 470,
    "start_time": "2022-10-08T19:38:51.368Z"
   },
   {
    "duration": 360,
    "start_time": "2022-10-08T19:38:51.841Z"
   },
   {
    "duration": 593,
    "start_time": "2022-10-08T19:38:52.206Z"
   },
   {
    "duration": 82,
    "start_time": "2022-10-08T19:38:52.805Z"
   },
   {
    "duration": 28,
    "start_time": "2022-10-08T19:38:52.889Z"
   },
   {
    "duration": 9,
    "start_time": "2022-10-08T19:38:52.920Z"
   },
   {
    "duration": 11,
    "start_time": "2022-10-08T19:38:52.931Z"
   },
   {
    "duration": 17,
    "start_time": "2022-10-08T19:38:52.944Z"
   },
   {
    "duration": 30,
    "start_time": "2022-10-08T19:38:52.963Z"
   },
   {
    "duration": 26,
    "start_time": "2022-10-08T19:38:52.998Z"
   },
   {
    "duration": 16,
    "start_time": "2022-10-08T19:38:53.026Z"
   },
   {
    "duration": 26,
    "start_time": "2022-10-08T19:38:53.044Z"
   },
   {
    "duration": 193,
    "start_time": "2022-10-08T19:38:53.090Z"
   },
   {
    "duration": 24,
    "start_time": "2022-10-08T19:38:53.285Z"
   },
   {
    "duration": 630,
    "start_time": "2022-10-08T19:38:53.315Z"
   },
   {
    "duration": 13,
    "start_time": "2022-10-08T19:38:53.947Z"
   },
   {
    "duration": 279,
    "start_time": "2022-10-08T19:38:53.962Z"
   },
   {
    "duration": 11,
    "start_time": "2022-10-08T19:38:54.243Z"
   },
   {
    "duration": 55,
    "start_time": "2022-10-08T19:38:54.256Z"
   },
   {
    "duration": 251,
    "start_time": "2022-10-08T19:38:54.313Z"
   },
   {
    "duration": 250,
    "start_time": "2022-10-08T19:38:54.565Z"
   },
   {
    "duration": 296,
    "start_time": "2022-10-08T19:38:54.817Z"
   },
   {
    "duration": 1225,
    "start_time": "2022-10-08T19:38:55.115Z"
   },
   {
    "duration": 1218,
    "start_time": "2022-10-08T19:38:56.342Z"
   },
   {
    "duration": 98,
    "start_time": "2022-10-08T19:38:57.562Z"
   },
   {
    "duration": 59,
    "start_time": "2022-10-08T19:38:57.662Z"
   },
   {
    "duration": 27,
    "start_time": "2022-10-08T19:38:57.723Z"
   },
   {
    "duration": 21,
    "start_time": "2022-10-08T19:38:57.755Z"
   },
   {
    "duration": 21,
    "start_time": "2022-10-08T19:38:57.778Z"
   },
   {
    "duration": 34,
    "start_time": "2022-10-08T19:38:57.801Z"
   },
   {
    "duration": 22,
    "start_time": "2022-10-08T19:38:57.837Z"
   },
   {
    "duration": 37,
    "start_time": "2022-10-08T19:38:57.861Z"
   },
   {
    "duration": 23,
    "start_time": "2022-10-08T19:38:57.904Z"
   },
   {
    "duration": 20,
    "start_time": "2022-10-08T19:38:57.929Z"
   },
   {
    "duration": 18,
    "start_time": "2022-10-08T19:38:57.951Z"
   },
   {
    "duration": 527,
    "start_time": "2022-10-08T19:45:41.959Z"
   },
   {
    "duration": 518,
    "start_time": "2022-10-08T19:45:42.489Z"
   },
   {
    "duration": 4,
    "start_time": "2022-10-08T19:45:43.009Z"
   },
   {
    "duration": 258,
    "start_time": "2022-10-08T19:45:43.016Z"
   },
   {
    "duration": 153,
    "start_time": "2022-10-08T19:45:43.275Z"
   },
   {
    "duration": 91,
    "start_time": "2022-10-08T19:45:43.430Z"
   },
   {
    "duration": 24,
    "start_time": "2022-10-08T19:45:43.524Z"
   },
   {
    "duration": 6,
    "start_time": "2022-10-08T19:45:43.550Z"
   },
   {
    "duration": 8,
    "start_time": "2022-10-08T19:45:43.558Z"
   },
   {
    "duration": 19,
    "start_time": "2022-10-08T19:45:43.594Z"
   },
   {
    "duration": 22,
    "start_time": "2022-10-08T19:45:43.615Z"
   },
   {
    "duration": 14,
    "start_time": "2022-10-08T19:45:43.640Z"
   },
   {
    "duration": 45,
    "start_time": "2022-10-08T19:45:43.656Z"
   },
   {
    "duration": 52,
    "start_time": "2022-10-08T19:45:43.704Z"
   },
   {
    "duration": 199,
    "start_time": "2022-10-08T19:45:43.759Z"
   },
   {
    "duration": 11,
    "start_time": "2022-10-08T19:45:43.960Z"
   },
   {
    "duration": 673,
    "start_time": "2022-10-08T19:45:43.973Z"
   },
   {
    "duration": 11,
    "start_time": "2022-10-08T19:45:44.648Z"
   },
   {
    "duration": 299,
    "start_time": "2022-10-08T19:45:44.662Z"
   },
   {
    "duration": 8,
    "start_time": "2022-10-08T19:45:44.963Z"
   },
   {
    "duration": 57,
    "start_time": "2022-10-08T19:45:44.973Z"
   },
   {
    "duration": 305,
    "start_time": "2022-10-08T19:45:45.032Z"
   },
   {
    "duration": 258,
    "start_time": "2022-10-08T19:45:45.340Z"
   },
   {
    "duration": 229,
    "start_time": "2022-10-08T19:45:45.603Z"
   },
   {
    "duration": 1271,
    "start_time": "2022-10-08T19:45:45.834Z"
   },
   {
    "duration": 1120,
    "start_time": "2022-10-08T19:45:47.107Z"
   },
   {
    "duration": 94,
    "start_time": "2022-10-08T19:45:48.230Z"
   },
   {
    "duration": 31,
    "start_time": "2022-10-08T19:45:48.330Z"
   },
   {
    "duration": 37,
    "start_time": "2022-10-08T19:45:48.364Z"
   },
   {
    "duration": 21,
    "start_time": "2022-10-08T19:45:48.405Z"
   },
   {
    "duration": 19,
    "start_time": "2022-10-08T19:45:48.428Z"
   },
   {
    "duration": 20,
    "start_time": "2022-10-08T19:45:48.449Z"
   },
   {
    "duration": 18,
    "start_time": "2022-10-08T19:45:48.489Z"
   },
   {
    "duration": 32,
    "start_time": "2022-10-08T19:45:48.509Z"
   },
   {
    "duration": 25,
    "start_time": "2022-10-08T19:45:48.549Z"
   },
   {
    "duration": 26,
    "start_time": "2022-10-08T19:45:48.577Z"
   },
   {
    "duration": 25,
    "start_time": "2022-10-08T19:45:48.605Z"
   },
   {
    "duration": 37,
    "start_time": "2022-10-08T19:47:07.842Z"
   },
   {
    "duration": 159,
    "start_time": "2022-10-08T19:48:38.968Z"
   },
   {
    "duration": 54,
    "start_time": "2022-10-08T19:48:46.472Z"
   },
   {
    "duration": 46,
    "start_time": "2022-10-08T19:49:07.907Z"
   },
   {
    "duration": 15,
    "start_time": "2022-10-08T19:49:46.690Z"
   },
   {
    "duration": 460,
    "start_time": "2022-10-08T19:49:57.584Z"
   },
   {
    "duration": 554,
    "start_time": "2022-10-08T19:49:58.047Z"
   },
   {
    "duration": 11,
    "start_time": "2022-10-08T19:49:58.603Z"
   },
   {
    "duration": 258,
    "start_time": "2022-10-08T19:49:58.617Z"
   },
   {
    "duration": 142,
    "start_time": "2022-10-08T19:49:58.877Z"
   },
   {
    "duration": 105,
    "start_time": "2022-10-08T19:49:59.021Z"
   },
   {
    "duration": 24,
    "start_time": "2022-10-08T19:49:59.129Z"
   },
   {
    "duration": 8,
    "start_time": "2022-10-08T19:49:59.155Z"
   },
   {
    "duration": 38,
    "start_time": "2022-10-08T19:49:59.165Z"
   },
   {
    "duration": 32,
    "start_time": "2022-10-08T19:49:59.209Z"
   },
   {
    "duration": 22,
    "start_time": "2022-10-08T19:49:59.243Z"
   },
   {
    "duration": 14,
    "start_time": "2022-10-08T19:49:59.268Z"
   },
   {
    "duration": 22,
    "start_time": "2022-10-08T19:49:59.284Z"
   },
   {
    "duration": 44,
    "start_time": "2022-10-08T19:49:59.308Z"
   },
   {
    "duration": 223,
    "start_time": "2022-10-08T19:49:59.354Z"
   },
   {
    "duration": 22,
    "start_time": "2022-10-08T19:49:59.581Z"
   },
   {
    "duration": 612,
    "start_time": "2022-10-08T19:49:59.605Z"
   },
   {
    "duration": 13,
    "start_time": "2022-10-08T19:50:00.219Z"
   },
   {
    "duration": 301,
    "start_time": "2022-10-08T19:50:00.234Z"
   },
   {
    "duration": 12,
    "start_time": "2022-10-08T19:50:00.537Z"
   },
   {
    "duration": 51,
    "start_time": "2022-10-08T19:50:00.551Z"
   },
   {
    "duration": 314,
    "start_time": "2022-10-08T19:50:00.606Z"
   },
   {
    "duration": 245,
    "start_time": "2022-10-08T19:50:00.922Z"
   },
   {
    "duration": 257,
    "start_time": "2022-10-08T19:50:01.170Z"
   },
   {
    "duration": 1444,
    "start_time": "2022-10-08T19:50:01.430Z"
   },
   {
    "duration": 1234,
    "start_time": "2022-10-08T19:50:02.877Z"
   },
   {
    "duration": 58,
    "start_time": "2022-10-08T19:50:04.113Z"
   },
   {
    "duration": 33,
    "start_time": "2022-10-08T19:50:04.192Z"
   },
   {
    "duration": 16,
    "start_time": "2022-10-08T19:50:04.227Z"
   },
   {
    "duration": 16,
    "start_time": "2022-10-08T19:50:04.245Z"
   },
   {
    "duration": 50,
    "start_time": "2022-10-08T19:50:04.263Z"
   },
   {
    "duration": 17,
    "start_time": "2022-10-08T19:50:04.317Z"
   },
   {
    "duration": 17,
    "start_time": "2022-10-08T19:50:04.336Z"
   },
   {
    "duration": 16,
    "start_time": "2022-10-08T19:50:04.355Z"
   },
   {
    "duration": 24,
    "start_time": "2022-10-08T19:50:04.393Z"
   },
   {
    "duration": 22,
    "start_time": "2022-10-08T19:50:04.418Z"
   },
   {
    "duration": 20,
    "start_time": "2022-10-08T19:50:04.443Z"
   },
   {
    "duration": 143,
    "start_time": "2022-10-08T19:50:04.494Z"
   },
   {
    "duration": 31,
    "start_time": "2022-10-08T19:50:14.876Z"
   },
   {
    "duration": 41,
    "start_time": "2022-10-08T19:50:31.326Z"
   },
   {
    "duration": 32,
    "start_time": "2022-10-08T19:50:44.949Z"
   },
   {
    "duration": 56,
    "start_time": "2022-10-08T19:51:11.279Z"
   },
   {
    "duration": 34,
    "start_time": "2022-10-08T19:52:15.961Z"
   },
   {
    "duration": 31,
    "start_time": "2022-10-08T19:52:49.469Z"
   },
   {
    "duration": 8,
    "start_time": "2022-10-08T19:53:39.140Z"
   },
   {
    "duration": 21,
    "start_time": "2022-10-08T19:54:10.981Z"
   },
   {
    "duration": 7,
    "start_time": "2022-10-08T19:54:20.368Z"
   },
   {
    "duration": 6,
    "start_time": "2022-10-08T19:54:29.426Z"
   },
   {
    "duration": 14,
    "start_time": "2022-10-08T19:55:03.987Z"
   },
   {
    "duration": 6,
    "start_time": "2022-10-08T19:55:07.561Z"
   },
   {
    "duration": 9,
    "start_time": "2022-10-08T19:55:12.583Z"
   },
   {
    "duration": 7,
    "start_time": "2022-10-08T19:55:14.736Z"
   },
   {
    "duration": 12,
    "start_time": "2022-10-08T19:55:28.310Z"
   },
   {
    "duration": 8,
    "start_time": "2022-10-08T19:55:33.479Z"
   },
   {
    "duration": 8,
    "start_time": "2022-10-08T19:55:35.211Z"
   },
   {
    "duration": 13,
    "start_time": "2022-10-08T19:56:00.082Z"
   },
   {
    "duration": 15,
    "start_time": "2022-10-08T19:56:36.362Z"
   },
   {
    "duration": 7,
    "start_time": "2022-10-08T19:56:40.639Z"
   },
   {
    "duration": 8,
    "start_time": "2022-10-08T19:59:43.137Z"
   },
   {
    "duration": 30,
    "start_time": "2022-10-08T20:06:29.404Z"
   },
   {
    "duration": 87,
    "start_time": "2022-10-08T20:08:06.086Z"
   },
   {
    "duration": 461,
    "start_time": "2022-10-08T20:08:12.361Z"
   },
   {
    "duration": 625,
    "start_time": "2022-10-08T20:08:12.825Z"
   },
   {
    "duration": 4,
    "start_time": "2022-10-08T20:08:13.451Z"
   },
   {
    "duration": 265,
    "start_time": "2022-10-08T20:08:13.457Z"
   },
   {
    "duration": 156,
    "start_time": "2022-10-08T20:08:13.725Z"
   },
   {
    "duration": 125,
    "start_time": "2022-10-08T20:08:13.883Z"
   },
   {
    "duration": 23,
    "start_time": "2022-10-08T20:08:14.014Z"
   },
   {
    "duration": 34,
    "start_time": "2022-10-08T20:08:14.040Z"
   },
   {
    "duration": 44,
    "start_time": "2022-10-08T20:08:14.077Z"
   },
   {
    "duration": 24,
    "start_time": "2022-10-08T20:08:14.123Z"
   },
   {
    "duration": 19,
    "start_time": "2022-10-08T20:08:14.150Z"
   },
   {
    "duration": 28,
    "start_time": "2022-10-08T20:08:14.171Z"
   },
   {
    "duration": 37,
    "start_time": "2022-10-08T20:08:14.205Z"
   },
   {
    "duration": 27,
    "start_time": "2022-10-08T20:08:14.246Z"
   },
   {
    "duration": 238,
    "start_time": "2022-10-08T20:08:14.275Z"
   },
   {
    "duration": 13,
    "start_time": "2022-10-08T20:08:14.515Z"
   },
   {
    "duration": 635,
    "start_time": "2022-10-08T20:08:14.530Z"
   },
   {
    "duration": 13,
    "start_time": "2022-10-08T20:08:15.168Z"
   },
   {
    "duration": 324,
    "start_time": "2022-10-08T20:08:15.184Z"
   },
   {
    "duration": 14,
    "start_time": "2022-10-08T20:08:15.512Z"
   },
   {
    "duration": 52,
    "start_time": "2022-10-08T20:08:15.528Z"
   },
   {
    "duration": 336,
    "start_time": "2022-10-08T20:08:15.583Z"
   },
   {
    "duration": 260,
    "start_time": "2022-10-08T20:08:15.921Z"
   },
   {
    "duration": 282,
    "start_time": "2022-10-08T20:08:16.183Z"
   },
   {
    "duration": 1270,
    "start_time": "2022-10-08T20:08:16.467Z"
   },
   {
    "duration": 1195,
    "start_time": "2022-10-08T20:08:17.740Z"
   },
   {
    "duration": 103,
    "start_time": "2022-10-08T20:08:18.937Z"
   },
   {
    "duration": 25,
    "start_time": "2022-10-08T20:08:19.042Z"
   },
   {
    "duration": 37,
    "start_time": "2022-10-08T20:08:19.070Z"
   },
   {
    "duration": 28,
    "start_time": "2022-10-08T20:08:19.109Z"
   },
   {
    "duration": 21,
    "start_time": "2022-10-08T20:08:19.140Z"
   },
   {
    "duration": 53,
    "start_time": "2022-10-08T20:08:19.164Z"
   },
   {
    "duration": 23,
    "start_time": "2022-10-08T20:08:19.219Z"
   },
   {
    "duration": 22,
    "start_time": "2022-10-08T20:08:19.244Z"
   },
   {
    "duration": 45,
    "start_time": "2022-10-08T20:08:19.268Z"
   },
   {
    "duration": 21,
    "start_time": "2022-10-08T20:08:19.315Z"
   },
   {
    "duration": 24,
    "start_time": "2022-10-08T20:08:19.338Z"
   },
   {
    "duration": 44,
    "start_time": "2022-10-08T20:08:19.365Z"
   },
   {
    "duration": 19,
    "start_time": "2022-10-08T20:08:19.411Z"
   },
   {
    "duration": 170,
    "start_time": "2022-10-08T20:08:19.432Z"
   },
   {
    "duration": 7,
    "start_time": "2022-10-08T20:08:43.442Z"
   },
   {
    "duration": 139,
    "start_time": "2022-10-10T07:31:59.952Z"
   },
   {
    "duration": 446,
    "start_time": "2022-10-10T08:50:36.976Z"
   },
   {
    "duration": 432,
    "start_time": "2022-10-10T08:50:37.424Z"
   },
   {
    "duration": 3,
    "start_time": "2022-10-10T08:50:37.857Z"
   },
   {
    "duration": 379,
    "start_time": "2022-10-10T08:50:37.862Z"
   },
   {
    "duration": 140,
    "start_time": "2022-10-10T08:50:38.243Z"
   },
   {
    "duration": 214,
    "start_time": "2022-10-10T08:50:38.384Z"
   },
   {
    "duration": 16,
    "start_time": "2022-10-10T08:50:38.600Z"
   },
   {
    "duration": 4,
    "start_time": "2022-10-10T08:50:38.618Z"
   },
   {
    "duration": 9,
    "start_time": "2022-10-10T08:50:38.623Z"
   },
   {
    "duration": 16,
    "start_time": "2022-10-10T08:50:38.635Z"
   },
   {
    "duration": 14,
    "start_time": "2022-10-10T08:50:38.652Z"
   },
   {
    "duration": 30,
    "start_time": "2022-10-10T08:50:38.668Z"
   },
   {
    "duration": 14,
    "start_time": "2022-10-10T08:50:38.699Z"
   },
   {
    "duration": 24,
    "start_time": "2022-10-10T08:50:38.715Z"
   },
   {
    "duration": 190,
    "start_time": "2022-10-10T08:50:38.740Z"
   },
   {
    "duration": 9,
    "start_time": "2022-10-10T08:50:38.931Z"
   },
   {
    "duration": 555,
    "start_time": "2022-10-10T08:50:38.942Z"
   },
   {
    "duration": 8,
    "start_time": "2022-10-10T08:50:39.499Z"
   },
   {
    "duration": 261,
    "start_time": "2022-10-10T08:50:39.509Z"
   },
   {
    "duration": 17,
    "start_time": "2022-10-10T08:50:39.772Z"
   },
   {
    "duration": 25,
    "start_time": "2022-10-10T08:50:39.791Z"
   },
   {
    "duration": 242,
    "start_time": "2022-10-10T08:50:39.817Z"
   },
   {
    "duration": 223,
    "start_time": "2022-10-10T08:50:40.061Z"
   },
   {
    "duration": 232,
    "start_time": "2022-10-10T08:50:40.289Z"
   },
   {
    "duration": 1069,
    "start_time": "2022-10-10T08:50:40.523Z"
   },
   {
    "duration": 1015,
    "start_time": "2022-10-10T08:50:41.594Z"
   },
   {
    "duration": 52,
    "start_time": "2022-10-10T08:50:42.611Z"
   },
   {
    "duration": 23,
    "start_time": "2022-10-10T08:50:42.692Z"
   },
   {
    "duration": 18,
    "start_time": "2022-10-10T08:50:42.717Z"
   },
   {
    "duration": 15,
    "start_time": "2022-10-10T08:50:42.737Z"
   },
   {
    "duration": 14,
    "start_time": "2022-10-10T08:50:42.754Z"
   },
   {
    "duration": 14,
    "start_time": "2022-10-10T08:50:42.790Z"
   },
   {
    "duration": 16,
    "start_time": "2022-10-10T08:50:42.806Z"
   },
   {
    "duration": 16,
    "start_time": "2022-10-10T08:50:42.823Z"
   },
   {
    "duration": 14,
    "start_time": "2022-10-10T08:50:42.841Z"
   },
   {
    "duration": 41,
    "start_time": "2022-10-10T08:50:42.857Z"
   },
   {
    "duration": 14,
    "start_time": "2022-10-10T08:50:42.900Z"
   },
   {
    "duration": 9,
    "start_time": "2022-10-10T08:50:42.916Z"
   },
   {
    "duration": 7,
    "start_time": "2022-10-10T08:50:42.927Z"
   },
   {
    "duration": 11,
    "start_time": "2022-10-10T08:50:42.936Z"
   },
   {
    "duration": 18,
    "start_time": "2022-10-10T08:50:42.949Z"
   },
   {
    "duration": 20,
    "start_time": "2022-10-10T08:50:42.969Z"
   },
   {
    "duration": 10,
    "start_time": "2022-10-10T08:50:42.991Z"
   },
   {
    "duration": 5,
    "start_time": "2022-10-10T08:52:19.582Z"
   },
   {
    "duration": 3,
    "start_time": "2022-10-10T08:52:23.782Z"
   },
   {
    "duration": 4,
    "start_time": "2022-10-10T08:52:24.376Z"
   },
   {
    "duration": 1315,
    "start_time": "2022-10-10T08:52:31.560Z"
   },
   {
    "duration": 76,
    "start_time": "2022-10-10T08:52:32.877Z"
   },
   {
    "duration": 15,
    "start_time": "2022-10-10T08:52:32.954Z"
   },
   {
    "duration": 3,
    "start_time": "2022-10-10T08:52:32.971Z"
   },
   {
    "duration": 10,
    "start_time": "2022-10-10T08:52:32.975Z"
   },
   {
    "duration": 108,
    "start_time": "2022-10-10T08:52:32.986Z"
   },
   {
    "duration": 0,
    "start_time": "2022-10-10T08:52:33.096Z"
   },
   {
    "duration": 0,
    "start_time": "2022-10-10T08:52:33.098Z"
   },
   {
    "duration": 0,
    "start_time": "2022-10-10T08:52:33.099Z"
   },
   {
    "duration": 0,
    "start_time": "2022-10-10T08:52:33.101Z"
   },
   {
    "duration": 0,
    "start_time": "2022-10-10T08:52:33.102Z"
   },
   {
    "duration": 0,
    "start_time": "2022-10-10T08:52:33.103Z"
   },
   {
    "duration": 0,
    "start_time": "2022-10-10T08:52:33.104Z"
   },
   {
    "duration": 0,
    "start_time": "2022-10-10T08:52:33.105Z"
   },
   {
    "duration": 1,
    "start_time": "2022-10-10T08:52:33.106Z"
   },
   {
    "duration": 0,
    "start_time": "2022-10-10T08:52:33.108Z"
   },
   {
    "duration": 0,
    "start_time": "2022-10-10T08:52:33.109Z"
   },
   {
    "duration": 0,
    "start_time": "2022-10-10T08:52:33.110Z"
   },
   {
    "duration": 0,
    "start_time": "2022-10-10T08:52:33.111Z"
   },
   {
    "duration": 0,
    "start_time": "2022-10-10T08:52:33.112Z"
   },
   {
    "duration": 0,
    "start_time": "2022-10-10T08:52:33.113Z"
   },
   {
    "duration": 0,
    "start_time": "2022-10-10T08:52:33.114Z"
   },
   {
    "duration": 0,
    "start_time": "2022-10-10T08:52:33.115Z"
   },
   {
    "duration": 0,
    "start_time": "2022-10-10T08:52:33.116Z"
   },
   {
    "duration": 0,
    "start_time": "2022-10-10T08:52:33.117Z"
   },
   {
    "duration": 0,
    "start_time": "2022-10-10T08:52:33.119Z"
   },
   {
    "duration": 0,
    "start_time": "2022-10-10T08:52:33.120Z"
   },
   {
    "duration": 0,
    "start_time": "2022-10-10T08:52:33.121Z"
   },
   {
    "duration": 0,
    "start_time": "2022-10-10T08:52:33.122Z"
   },
   {
    "duration": 0,
    "start_time": "2022-10-10T08:52:33.123Z"
   },
   {
    "duration": 0,
    "start_time": "2022-10-10T08:52:33.125Z"
   },
   {
    "duration": 0,
    "start_time": "2022-10-10T08:52:33.126Z"
   },
   {
    "duration": 0,
    "start_time": "2022-10-10T08:52:33.127Z"
   },
   {
    "duration": 0,
    "start_time": "2022-10-10T08:52:33.128Z"
   },
   {
    "duration": 0,
    "start_time": "2022-10-10T08:52:33.129Z"
   },
   {
    "duration": 0,
    "start_time": "2022-10-10T08:52:33.130Z"
   },
   {
    "duration": 0,
    "start_time": "2022-10-10T08:52:33.131Z"
   },
   {
    "duration": 0,
    "start_time": "2022-10-10T08:52:33.190Z"
   },
   {
    "duration": 0,
    "start_time": "2022-10-10T08:52:33.191Z"
   },
   {
    "duration": 9,
    "start_time": "2022-10-10T08:53:42.131Z"
   },
   {
    "duration": 3,
    "start_time": "2022-10-10T08:54:56.981Z"
   },
   {
    "duration": 1307,
    "start_time": "2022-10-10T08:55:04.745Z"
   },
   {
    "duration": 86,
    "start_time": "2022-10-10T08:55:06.054Z"
   },
   {
    "duration": 16,
    "start_time": "2022-10-10T08:55:06.141Z"
   },
   {
    "duration": 4,
    "start_time": "2022-10-10T08:55:06.159Z"
   },
   {
    "duration": 7,
    "start_time": "2022-10-10T08:55:06.164Z"
   },
   {
    "duration": 31,
    "start_time": "2022-10-10T08:55:06.173Z"
   },
   {
    "duration": 19,
    "start_time": "2022-10-10T08:55:06.206Z"
   },
   {
    "duration": 10,
    "start_time": "2022-10-10T08:55:06.227Z"
   },
   {
    "duration": 14,
    "start_time": "2022-10-10T08:55:06.238Z"
   },
   {
    "duration": 59,
    "start_time": "2022-10-10T08:55:06.255Z"
   },
   {
    "duration": 205,
    "start_time": "2022-10-10T08:55:06.316Z"
   },
   {
    "duration": 8,
    "start_time": "2022-10-10T08:55:06.522Z"
   },
   {
    "duration": 617,
    "start_time": "2022-10-10T08:55:06.532Z"
   },
   {
    "duration": 8,
    "start_time": "2022-10-10T08:55:07.151Z"
   },
   {
    "duration": 271,
    "start_time": "2022-10-10T08:55:07.161Z"
   },
   {
    "duration": 8,
    "start_time": "2022-10-10T08:55:07.433Z"
   },
   {
    "duration": 25,
    "start_time": "2022-10-10T08:55:07.442Z"
   },
   {
    "duration": 249,
    "start_time": "2022-10-10T08:55:07.469Z"
   },
   {
    "duration": 241,
    "start_time": "2022-10-10T08:55:07.721Z"
   },
   {
    "duration": 241,
    "start_time": "2022-10-10T08:55:07.964Z"
   },
   {
    "duration": 1142,
    "start_time": "2022-10-10T08:55:08.208Z"
   },
   {
    "duration": 1018,
    "start_time": "2022-10-10T08:55:09.352Z"
   },
   {
    "duration": 66,
    "start_time": "2022-10-10T08:55:10.372Z"
   },
   {
    "duration": 22,
    "start_time": "2022-10-10T08:55:10.439Z"
   },
   {
    "duration": 40,
    "start_time": "2022-10-10T08:55:10.462Z"
   },
   {
    "duration": 19,
    "start_time": "2022-10-10T08:55:10.504Z"
   },
   {
    "duration": 17,
    "start_time": "2022-10-10T08:55:10.525Z"
   },
   {
    "duration": 15,
    "start_time": "2022-10-10T08:55:10.546Z"
   },
   {
    "duration": 18,
    "start_time": "2022-10-10T08:55:10.589Z"
   },
   {
    "duration": 20,
    "start_time": "2022-10-10T08:55:10.609Z"
   },
   {
    "duration": 21,
    "start_time": "2022-10-10T08:55:10.631Z"
   },
   {
    "duration": 42,
    "start_time": "2022-10-10T08:55:10.654Z"
   },
   {
    "duration": 18,
    "start_time": "2022-10-10T08:55:10.698Z"
   },
   {
    "duration": 7,
    "start_time": "2022-10-10T08:55:10.718Z"
   },
   {
    "duration": 8,
    "start_time": "2022-10-10T08:55:10.727Z"
   },
   {
    "duration": 10,
    "start_time": "2022-10-10T08:55:10.737Z"
   },
   {
    "duration": 13,
    "start_time": "2022-10-10T08:55:10.749Z"
   },
   {
    "duration": 7,
    "start_time": "2022-10-10T08:55:10.764Z"
   },
   {
    "duration": 18,
    "start_time": "2022-10-10T08:55:10.773Z"
   },
   {
    "duration": 7,
    "start_time": "2022-10-10T08:55:26.413Z"
   },
   {
    "duration": 5,
    "start_time": "2022-10-10T08:55:34.085Z"
   },
   {
    "duration": 3,
    "start_time": "2022-10-10T08:55:40.459Z"
   },
   {
    "duration": 7,
    "start_time": "2022-10-10T08:55:41.003Z"
   },
   {
    "duration": 7,
    "start_time": "2022-10-10T08:57:07.987Z"
   },
   {
    "duration": 20,
    "start_time": "2022-10-10T08:57:12.209Z"
   },
   {
    "duration": 1336,
    "start_time": "2022-10-10T08:58:48.117Z"
   },
   {
    "duration": 79,
    "start_time": "2022-10-10T08:58:49.455Z"
   },
   {
    "duration": 16,
    "start_time": "2022-10-10T08:58:49.535Z"
   },
   {
    "duration": 3,
    "start_time": "2022-10-10T08:58:49.553Z"
   },
   {
    "duration": 8,
    "start_time": "2022-10-10T08:58:49.558Z"
   },
   {
    "duration": 38,
    "start_time": "2022-10-10T08:58:49.567Z"
   },
   {
    "duration": 8,
    "start_time": "2022-10-10T08:58:49.610Z"
   },
   {
    "duration": 23,
    "start_time": "2022-10-10T08:58:49.620Z"
   },
   {
    "duration": 9,
    "start_time": "2022-10-10T08:58:49.645Z"
   },
   {
    "duration": 39,
    "start_time": "2022-10-10T08:58:49.656Z"
   },
   {
    "duration": 34,
    "start_time": "2022-10-10T08:58:49.697Z"
   },
   {
    "duration": 197,
    "start_time": "2022-10-10T08:58:49.733Z"
   },
   {
    "duration": 9,
    "start_time": "2022-10-10T08:58:49.932Z"
   },
   {
    "duration": 582,
    "start_time": "2022-10-10T08:58:49.943Z"
   },
   {
    "duration": 11,
    "start_time": "2022-10-10T08:58:50.527Z"
   },
   {
    "duration": 276,
    "start_time": "2022-10-10T08:58:50.540Z"
   },
   {
    "duration": 8,
    "start_time": "2022-10-10T08:58:50.818Z"
   },
   {
    "duration": 30,
    "start_time": "2022-10-10T08:58:50.829Z"
   },
   {
    "duration": 278,
    "start_time": "2022-10-10T08:58:50.861Z"
   },
   {
    "duration": 234,
    "start_time": "2022-10-10T08:58:51.140Z"
   },
   {
    "duration": 221,
    "start_time": "2022-10-10T08:58:51.376Z"
   },
   {
    "duration": 1238,
    "start_time": "2022-10-10T08:58:51.600Z"
   },
   {
    "duration": 1090,
    "start_time": "2022-10-10T08:58:52.840Z"
   },
   {
    "duration": 79,
    "start_time": "2022-10-10T08:58:53.932Z"
   },
   {
    "duration": 23,
    "start_time": "2022-10-10T08:58:54.013Z"
   },
   {
    "duration": 15,
    "start_time": "2022-10-10T08:58:54.038Z"
   },
   {
    "duration": 45,
    "start_time": "2022-10-10T08:58:54.054Z"
   },
   {
    "duration": 20,
    "start_time": "2022-10-10T08:58:54.104Z"
   },
   {
    "duration": 21,
    "start_time": "2022-10-10T08:58:54.126Z"
   },
   {
    "duration": 15,
    "start_time": "2022-10-10T08:58:54.149Z"
   },
   {
    "duration": 18,
    "start_time": "2022-10-10T08:58:54.191Z"
   },
   {
    "duration": 18,
    "start_time": "2022-10-10T08:58:54.212Z"
   },
   {
    "duration": 13,
    "start_time": "2022-10-10T08:58:54.232Z"
   },
   {
    "duration": 43,
    "start_time": "2022-10-10T08:58:54.247Z"
   },
   {
    "duration": 9,
    "start_time": "2022-10-10T08:58:54.292Z"
   },
   {
    "duration": 9,
    "start_time": "2022-10-10T08:58:54.304Z"
   },
   {
    "duration": 8,
    "start_time": "2022-10-10T08:58:54.316Z"
   },
   {
    "duration": 6,
    "start_time": "2022-10-10T08:58:54.326Z"
   },
   {
    "duration": 6,
    "start_time": "2022-10-10T08:58:54.334Z"
   },
   {
    "duration": 10,
    "start_time": "2022-10-10T08:58:54.342Z"
   },
   {
    "duration": 6,
    "start_time": "2022-10-10T09:01:57.638Z"
   },
   {
    "duration": 12,
    "start_time": "2022-10-10T09:02:13.608Z"
   },
   {
    "duration": 7,
    "start_time": "2022-10-10T09:02:26.943Z"
   },
   {
    "duration": 1253,
    "start_time": "2022-10-10T09:02:37.452Z"
   },
   {
    "duration": 78,
    "start_time": "2022-10-10T09:02:38.708Z"
   },
   {
    "duration": 28,
    "start_time": "2022-10-10T09:02:38.787Z"
   },
   {
    "duration": 3,
    "start_time": "2022-10-10T09:02:38.818Z"
   },
   {
    "duration": 6,
    "start_time": "2022-10-10T09:02:38.823Z"
   },
   {
    "duration": 13,
    "start_time": "2022-10-10T09:02:38.831Z"
   },
   {
    "duration": 6,
    "start_time": "2022-10-10T09:02:38.846Z"
   },
   {
    "duration": 47,
    "start_time": "2022-10-10T09:02:38.854Z"
   },
   {
    "duration": 10,
    "start_time": "2022-10-10T09:02:38.904Z"
   },
   {
    "duration": 19,
    "start_time": "2022-10-10T09:02:38.917Z"
   },
   {
    "duration": 25,
    "start_time": "2022-10-10T09:02:38.938Z"
   },
   {
    "duration": 225,
    "start_time": "2022-10-10T09:02:38.964Z"
   },
   {
    "duration": 11,
    "start_time": "2022-10-10T09:02:39.192Z"
   },
   {
    "duration": 650,
    "start_time": "2022-10-10T09:02:39.207Z"
   },
   {
    "duration": 7,
    "start_time": "2022-10-10T09:02:39.859Z"
   },
   {
    "duration": 280,
    "start_time": "2022-10-10T09:02:39.868Z"
   },
   {
    "duration": 8,
    "start_time": "2022-10-10T09:02:40.150Z"
   },
   {
    "duration": 41,
    "start_time": "2022-10-10T09:02:40.159Z"
   },
   {
    "duration": 266,
    "start_time": "2022-10-10T09:02:40.203Z"
   },
   {
    "duration": 252,
    "start_time": "2022-10-10T09:02:40.470Z"
   },
   {
    "duration": 236,
    "start_time": "2022-10-10T09:02:40.724Z"
   },
   {
    "duration": 1264,
    "start_time": "2022-10-10T09:02:40.962Z"
   },
   {
    "duration": 1105,
    "start_time": "2022-10-10T09:02:42.228Z"
   },
   {
    "duration": 80,
    "start_time": "2022-10-10T09:02:43.336Z"
   },
   {
    "duration": 26,
    "start_time": "2022-10-10T09:02:43.418Z"
   },
   {
    "duration": 24,
    "start_time": "2022-10-10T09:02:43.445Z"
   },
   {
    "duration": 25,
    "start_time": "2022-10-10T09:02:43.490Z"
   },
   {
    "duration": 16,
    "start_time": "2022-10-10T09:02:43.519Z"
   },
   {
    "duration": 34,
    "start_time": "2022-10-10T09:02:43.536Z"
   },
   {
    "duration": 44,
    "start_time": "2022-10-10T09:02:43.572Z"
   },
   {
    "duration": 16,
    "start_time": "2022-10-10T09:02:43.618Z"
   },
   {
    "duration": 24,
    "start_time": "2022-10-10T09:02:43.636Z"
   },
   {
    "duration": 31,
    "start_time": "2022-10-10T09:02:43.662Z"
   },
   {
    "duration": 21,
    "start_time": "2022-10-10T09:02:43.696Z"
   },
   {
    "duration": 7,
    "start_time": "2022-10-10T09:02:43.719Z"
   },
   {
    "duration": 11,
    "start_time": "2022-10-10T09:02:43.727Z"
   },
   {
    "duration": 7,
    "start_time": "2022-10-10T09:02:43.740Z"
   },
   {
    "duration": 6,
    "start_time": "2022-10-10T09:02:43.749Z"
   },
   {
    "duration": 33,
    "start_time": "2022-10-10T09:02:43.757Z"
   },
   {
    "duration": 7,
    "start_time": "2022-10-10T09:02:43.793Z"
   },
   {
    "duration": 7,
    "start_time": "2022-10-10T09:03:34.222Z"
   },
   {
    "duration": 1288,
    "start_time": "2022-10-10T09:03:43.612Z"
   },
   {
    "duration": 78,
    "start_time": "2022-10-10T09:03:44.902Z"
   },
   {
    "duration": 28,
    "start_time": "2022-10-10T09:03:44.982Z"
   },
   {
    "duration": 11,
    "start_time": "2022-10-10T09:03:45.015Z"
   },
   {
    "duration": 11,
    "start_time": "2022-10-10T09:03:45.028Z"
   },
   {
    "duration": 15,
    "start_time": "2022-10-10T09:03:45.041Z"
   },
   {
    "duration": 7,
    "start_time": "2022-10-10T09:03:45.057Z"
   },
   {
    "duration": 37,
    "start_time": "2022-10-10T09:03:45.066Z"
   },
   {
    "duration": 11,
    "start_time": "2022-10-10T09:03:45.105Z"
   },
   {
    "duration": 20,
    "start_time": "2022-10-10T09:03:45.119Z"
   },
   {
    "duration": 26,
    "start_time": "2022-10-10T09:03:45.141Z"
   },
   {
    "duration": 231,
    "start_time": "2022-10-10T09:03:45.189Z"
   },
   {
    "duration": 7,
    "start_time": "2022-10-10T09:03:45.422Z"
   },
   {
    "duration": 642,
    "start_time": "2022-10-10T09:03:45.431Z"
   },
   {
    "duration": 9,
    "start_time": "2022-10-10T09:03:46.074Z"
   },
   {
    "duration": 292,
    "start_time": "2022-10-10T09:03:46.085Z"
   },
   {
    "duration": 25,
    "start_time": "2022-10-10T09:03:46.379Z"
   },
   {
    "duration": 38,
    "start_time": "2022-10-10T09:03:46.406Z"
   },
   {
    "duration": 246,
    "start_time": "2022-10-10T09:03:46.446Z"
   },
   {
    "duration": 248,
    "start_time": "2022-10-10T09:03:46.694Z"
   },
   {
    "duration": 222,
    "start_time": "2022-10-10T09:03:46.943Z"
   },
   {
    "duration": 1142,
    "start_time": "2022-10-10T09:03:47.167Z"
   },
   {
    "duration": 1045,
    "start_time": "2022-10-10T09:03:48.311Z"
   },
   {
    "duration": 76,
    "start_time": "2022-10-10T09:03:49.359Z"
   },
   {
    "duration": 21,
    "start_time": "2022-10-10T09:03:49.437Z"
   },
   {
    "duration": 52,
    "start_time": "2022-10-10T09:03:49.460Z"
   },
   {
    "duration": 25,
    "start_time": "2022-10-10T09:03:49.513Z"
   },
   {
    "duration": 17,
    "start_time": "2022-10-10T09:03:49.542Z"
   },
   {
    "duration": 28,
    "start_time": "2022-10-10T09:03:49.560Z"
   },
   {
    "duration": 25,
    "start_time": "2022-10-10T09:03:49.591Z"
   },
   {
    "duration": 16,
    "start_time": "2022-10-10T09:03:49.617Z"
   },
   {
    "duration": 14,
    "start_time": "2022-10-10T09:03:49.634Z"
   },
   {
    "duration": 48,
    "start_time": "2022-10-10T09:03:49.650Z"
   },
   {
    "duration": 20,
    "start_time": "2022-10-10T09:03:49.701Z"
   },
   {
    "duration": 16,
    "start_time": "2022-10-10T09:03:49.723Z"
   },
   {
    "duration": 9,
    "start_time": "2022-10-10T09:03:49.741Z"
   },
   {
    "duration": 9,
    "start_time": "2022-10-10T09:03:49.752Z"
   },
   {
    "duration": 29,
    "start_time": "2022-10-10T09:03:49.763Z"
   },
   {
    "duration": 8,
    "start_time": "2022-10-10T09:03:49.795Z"
   },
   {
    "duration": 21,
    "start_time": "2022-10-10T09:03:49.805Z"
   },
   {
    "duration": 6,
    "start_time": "2022-10-10T09:06:32.795Z"
   },
   {
    "duration": 17,
    "start_time": "2022-10-10T09:07:02.365Z"
   },
   {
    "duration": 9,
    "start_time": "2022-10-10T09:07:21.483Z"
   },
   {
    "duration": 5,
    "start_time": "2022-10-10T09:07:28.951Z"
   },
   {
    "duration": 12,
    "start_time": "2022-10-10T09:08:15.750Z"
   },
   {
    "duration": 1337,
    "start_time": "2022-10-10T09:09:31.310Z"
   },
   {
    "duration": 81,
    "start_time": "2022-10-10T09:09:32.650Z"
   },
   {
    "duration": 15,
    "start_time": "2022-10-10T09:09:32.733Z"
   },
   {
    "duration": 3,
    "start_time": "2022-10-10T09:09:32.750Z"
   },
   {
    "duration": 6,
    "start_time": "2022-10-10T09:09:32.755Z"
   },
   {
    "duration": 35,
    "start_time": "2022-10-10T09:09:32.762Z"
   },
   {
    "duration": 7,
    "start_time": "2022-10-10T09:09:32.800Z"
   },
   {
    "duration": 20,
    "start_time": "2022-10-10T09:09:32.809Z"
   },
   {
    "duration": 10,
    "start_time": "2022-10-10T09:09:32.830Z"
   },
   {
    "duration": 16,
    "start_time": "2022-10-10T09:09:32.841Z"
   },
   {
    "duration": 42,
    "start_time": "2022-10-10T09:09:32.858Z"
   },
   {
    "duration": 211,
    "start_time": "2022-10-10T09:09:32.903Z"
   },
   {
    "duration": 7,
    "start_time": "2022-10-10T09:09:33.116Z"
   },
   {
    "duration": 684,
    "start_time": "2022-10-10T09:09:33.126Z"
   },
   {
    "duration": 9,
    "start_time": "2022-10-10T09:09:33.812Z"
   },
   {
    "duration": 260,
    "start_time": "2022-10-10T09:09:33.822Z"
   },
   {
    "duration": 11,
    "start_time": "2022-10-10T09:09:34.084Z"
   },
   {
    "duration": 30,
    "start_time": "2022-10-10T09:09:34.098Z"
   },
   {
    "duration": 261,
    "start_time": "2022-10-10T09:09:34.131Z"
   },
   {
    "duration": 252,
    "start_time": "2022-10-10T09:09:34.395Z"
   },
   {
    "duration": 224,
    "start_time": "2022-10-10T09:09:34.649Z"
   },
   {
    "duration": 1152,
    "start_time": "2022-10-10T09:09:34.875Z"
   },
   {
    "duration": 1077,
    "start_time": "2022-10-10T09:09:36.028Z"
   },
   {
    "duration": 57,
    "start_time": "2022-10-10T09:09:37.108Z"
   },
   {
    "duration": 42,
    "start_time": "2022-10-10T09:09:37.167Z"
   },
   {
    "duration": 15,
    "start_time": "2022-10-10T09:09:37.211Z"
   },
   {
    "duration": 16,
    "start_time": "2022-10-10T09:09:37.228Z"
   },
   {
    "duration": 16,
    "start_time": "2022-10-10T09:09:37.246Z"
   },
   {
    "duration": 13,
    "start_time": "2022-10-10T09:09:37.263Z"
   },
   {
    "duration": 30,
    "start_time": "2022-10-10T09:09:37.278Z"
   },
   {
    "duration": 17,
    "start_time": "2022-10-10T09:09:37.310Z"
   },
   {
    "duration": 18,
    "start_time": "2022-10-10T09:09:37.329Z"
   },
   {
    "duration": 14,
    "start_time": "2022-10-10T09:09:37.349Z"
   },
   {
    "duration": 45,
    "start_time": "2022-10-10T09:09:37.365Z"
   },
   {
    "duration": 12,
    "start_time": "2022-10-10T09:09:37.412Z"
   },
   {
    "duration": 17,
    "start_time": "2022-10-10T09:09:37.427Z"
   },
   {
    "duration": 12,
    "start_time": "2022-10-10T09:09:37.446Z"
   },
   {
    "duration": 9,
    "start_time": "2022-10-10T09:09:37.460Z"
   },
   {
    "duration": 8,
    "start_time": "2022-10-10T09:09:37.471Z"
   },
   {
    "duration": 7,
    "start_time": "2022-10-10T09:09:37.481Z"
   },
   {
    "duration": 7,
    "start_time": "2022-10-10T09:10:20.743Z"
   },
   {
    "duration": 19,
    "start_time": "2022-10-10T09:10:33.256Z"
   },
   {
    "duration": 17,
    "start_time": "2022-10-10T09:11:07.712Z"
   },
   {
    "duration": 25,
    "start_time": "2022-10-10T09:11:19.397Z"
   },
   {
    "duration": 1191,
    "start_time": "2022-10-10T09:20:59.506Z"
   },
   {
    "duration": 83,
    "start_time": "2022-10-10T09:21:00.700Z"
   },
   {
    "duration": 17,
    "start_time": "2022-10-10T09:21:00.785Z"
   },
   {
    "duration": 9,
    "start_time": "2022-10-10T09:21:00.805Z"
   },
   {
    "duration": 24,
    "start_time": "2022-10-10T09:21:00.816Z"
   },
   {
    "duration": 25,
    "start_time": "2022-10-10T09:21:00.843Z"
   },
   {
    "duration": 9,
    "start_time": "2022-10-10T09:21:00.870Z"
   },
   {
    "duration": 28,
    "start_time": "2022-10-10T09:21:00.881Z"
   },
   {
    "duration": 22,
    "start_time": "2022-10-10T09:21:00.911Z"
   },
   {
    "duration": 40,
    "start_time": "2022-10-10T09:21:00.937Z"
   },
   {
    "duration": 18,
    "start_time": "2022-10-10T09:21:00.980Z"
   },
   {
    "duration": 187,
    "start_time": "2022-10-10T09:21:01.000Z"
   },
   {
    "duration": 9,
    "start_time": "2022-10-10T09:21:01.189Z"
   },
   {
    "duration": 569,
    "start_time": "2022-10-10T09:21:01.200Z"
   },
   {
    "duration": 9,
    "start_time": "2022-10-10T09:21:01.771Z"
   },
   {
    "duration": 357,
    "start_time": "2022-10-10T09:21:01.781Z"
   },
   {
    "duration": 9,
    "start_time": "2022-10-10T09:21:02.140Z"
   },
   {
    "duration": 42,
    "start_time": "2022-10-10T09:21:02.151Z"
   },
   {
    "duration": 238,
    "start_time": "2022-10-10T09:21:02.196Z"
   },
   {
    "duration": 224,
    "start_time": "2022-10-10T09:21:02.436Z"
   },
   {
    "duration": 212,
    "start_time": "2022-10-10T09:21:02.661Z"
   },
   {
    "duration": 1063,
    "start_time": "2022-10-10T09:21:02.875Z"
   },
   {
    "duration": 990,
    "start_time": "2022-10-10T09:21:03.941Z"
   },
   {
    "duration": 76,
    "start_time": "2022-10-10T09:21:04.933Z"
   },
   {
    "duration": 23,
    "start_time": "2022-10-10T09:21:05.011Z"
   },
   {
    "duration": 21,
    "start_time": "2022-10-10T09:21:05.036Z"
   },
   {
    "duration": 39,
    "start_time": "2022-10-10T09:21:05.059Z"
   },
   {
    "duration": 15,
    "start_time": "2022-10-10T09:21:05.103Z"
   },
   {
    "duration": 15,
    "start_time": "2022-10-10T09:21:05.119Z"
   },
   {
    "duration": 17,
    "start_time": "2022-10-10T09:21:05.136Z"
   },
   {
    "duration": 44,
    "start_time": "2022-10-10T09:21:05.155Z"
   },
   {
    "duration": 19,
    "start_time": "2022-10-10T09:21:05.201Z"
   },
   {
    "duration": 20,
    "start_time": "2022-10-10T09:21:05.222Z"
   },
   {
    "duration": 19,
    "start_time": "2022-10-10T09:21:05.244Z"
   },
   {
    "duration": 26,
    "start_time": "2022-10-10T09:21:05.265Z"
   },
   {
    "duration": 4,
    "start_time": "2022-10-10T09:21:05.293Z"
   },
   {
    "duration": 14,
    "start_time": "2022-10-10T09:21:05.299Z"
   },
   {
    "duration": 15,
    "start_time": "2022-10-10T09:21:05.315Z"
   },
   {
    "duration": 11,
    "start_time": "2022-10-10T09:21:05.332Z"
   },
   {
    "duration": 10,
    "start_time": "2022-10-10T09:21:05.345Z"
   },
   {
    "duration": 144,
    "start_time": "2022-10-10T09:21:48.952Z"
   },
   {
    "duration": 27,
    "start_time": "2022-10-10T09:22:10.993Z"
   },
   {
    "duration": 89,
    "start_time": "2022-10-10T10:37:33.854Z"
   },
   {
    "duration": 84,
    "start_time": "2022-10-10T10:37:38.779Z"
   },
   {
    "duration": 110,
    "start_time": "2022-10-10T10:37:51.311Z"
   },
   {
    "duration": 72,
    "start_time": "2022-10-10T10:38:13.720Z"
   },
   {
    "duration": 1435,
    "start_time": "2022-10-10T10:38:19.181Z"
   },
   {
    "duration": 477,
    "start_time": "2022-10-10T10:38:20.619Z"
   },
   {
    "duration": 17,
    "start_time": "2022-10-10T10:38:21.097Z"
   },
   {
    "duration": 3,
    "start_time": "2022-10-10T10:38:21.116Z"
   },
   {
    "duration": 17,
    "start_time": "2022-10-10T10:38:21.121Z"
   },
   {
    "duration": 22,
    "start_time": "2022-10-10T10:38:21.140Z"
   },
   {
    "duration": 19,
    "start_time": "2022-10-10T10:38:21.165Z"
   },
   {
    "duration": 28,
    "start_time": "2022-10-10T10:38:21.188Z"
   },
   {
    "duration": 20,
    "start_time": "2022-10-10T10:38:21.218Z"
   },
   {
    "duration": 16,
    "start_time": "2022-10-10T10:38:21.242Z"
   },
   {
    "duration": 20,
    "start_time": "2022-10-10T10:38:21.260Z"
   },
   {
    "duration": 198,
    "start_time": "2022-10-10T10:38:21.282Z"
   },
   {
    "duration": 13,
    "start_time": "2022-10-10T10:38:21.481Z"
   },
   {
    "duration": 677,
    "start_time": "2022-10-10T10:38:21.496Z"
   },
   {
    "duration": 8,
    "start_time": "2022-10-10T10:38:22.175Z"
   },
   {
    "duration": 259,
    "start_time": "2022-10-10T10:38:22.185Z"
   },
   {
    "duration": 8,
    "start_time": "2022-10-10T10:38:22.445Z"
   },
   {
    "duration": 20,
    "start_time": "2022-10-10T10:38:22.455Z"
   },
   {
    "duration": 225,
    "start_time": "2022-10-10T10:38:22.490Z"
   },
   {
    "duration": 98,
    "start_time": "2022-10-10T10:38:22.717Z"
   },
   {
    "duration": 0,
    "start_time": "2022-10-10T10:38:22.818Z"
   },
   {
    "duration": 0,
    "start_time": "2022-10-10T10:38:22.819Z"
   },
   {
    "duration": 0,
    "start_time": "2022-10-10T10:38:22.821Z"
   },
   {
    "duration": 0,
    "start_time": "2022-10-10T10:38:22.823Z"
   },
   {
    "duration": 0,
    "start_time": "2022-10-10T10:38:22.824Z"
   },
   {
    "duration": 0,
    "start_time": "2022-10-10T10:38:22.826Z"
   },
   {
    "duration": 0,
    "start_time": "2022-10-10T10:38:22.829Z"
   },
   {
    "duration": 0,
    "start_time": "2022-10-10T10:38:22.830Z"
   },
   {
    "duration": 0,
    "start_time": "2022-10-10T10:38:22.832Z"
   },
   {
    "duration": 0,
    "start_time": "2022-10-10T10:38:22.833Z"
   },
   {
    "duration": 0,
    "start_time": "2022-10-10T10:38:22.834Z"
   },
   {
    "duration": 0,
    "start_time": "2022-10-10T10:38:22.835Z"
   },
   {
    "duration": 0,
    "start_time": "2022-10-10T10:38:22.837Z"
   },
   {
    "duration": 0,
    "start_time": "2022-10-10T10:38:22.838Z"
   },
   {
    "duration": 0,
    "start_time": "2022-10-10T10:38:22.839Z"
   },
   {
    "duration": 0,
    "start_time": "2022-10-10T10:38:22.840Z"
   },
   {
    "duration": 0,
    "start_time": "2022-10-10T10:38:22.841Z"
   },
   {
    "duration": 0,
    "start_time": "2022-10-10T10:38:22.842Z"
   },
   {
    "duration": 0,
    "start_time": "2022-10-10T10:38:22.844Z"
   },
   {
    "duration": 0,
    "start_time": "2022-10-10T10:38:22.846Z"
   },
   {
    "duration": 0,
    "start_time": "2022-10-10T10:38:22.850Z"
   },
   {
    "duration": 1261,
    "start_time": "2022-10-10T10:39:09.096Z"
   },
   {
    "duration": 78,
    "start_time": "2022-10-10T10:39:10.359Z"
   },
   {
    "duration": 15,
    "start_time": "2022-10-10T10:39:10.440Z"
   },
   {
    "duration": 3,
    "start_time": "2022-10-10T10:39:10.457Z"
   },
   {
    "duration": 8,
    "start_time": "2022-10-10T10:39:10.462Z"
   },
   {
    "duration": 31,
    "start_time": "2022-10-10T10:39:10.471Z"
   },
   {
    "duration": 6,
    "start_time": "2022-10-10T10:39:10.504Z"
   },
   {
    "duration": 17,
    "start_time": "2022-10-10T10:39:10.512Z"
   },
   {
    "duration": 14,
    "start_time": "2022-10-10T10:39:10.530Z"
   },
   {
    "duration": 44,
    "start_time": "2022-10-10T10:39:10.548Z"
   },
   {
    "duration": 25,
    "start_time": "2022-10-10T10:39:10.594Z"
   },
   {
    "duration": 219,
    "start_time": "2022-10-10T10:39:10.621Z"
   },
   {
    "duration": 9,
    "start_time": "2022-10-10T10:39:10.844Z"
   },
   {
    "duration": 606,
    "start_time": "2022-10-10T10:39:10.855Z"
   },
   {
    "duration": 13,
    "start_time": "2022-10-10T10:39:11.463Z"
   },
   {
    "duration": 282,
    "start_time": "2022-10-10T10:39:11.478Z"
   },
   {
    "duration": 9,
    "start_time": "2022-10-10T10:39:11.762Z"
   },
   {
    "duration": 35,
    "start_time": "2022-10-10T10:39:11.773Z"
   },
   {
    "duration": 329,
    "start_time": "2022-10-10T10:39:11.810Z"
   },
   {
    "duration": 256,
    "start_time": "2022-10-10T10:39:12.142Z"
   },
   {
    "duration": 220,
    "start_time": "2022-10-10T10:39:12.400Z"
   },
   {
    "duration": 1097,
    "start_time": "2022-10-10T10:39:12.622Z"
   },
   {
    "duration": 997,
    "start_time": "2022-10-10T10:39:13.721Z"
   },
   {
    "duration": 89,
    "start_time": "2022-10-10T10:39:14.720Z"
   },
   {
    "duration": 31,
    "start_time": "2022-10-10T10:39:14.812Z"
   },
   {
    "duration": 45,
    "start_time": "2022-10-10T10:39:14.845Z"
   },
   {
    "duration": 19,
    "start_time": "2022-10-10T10:39:14.893Z"
   },
   {
    "duration": 17,
    "start_time": "2022-10-10T10:39:14.915Z"
   },
   {
    "duration": 21,
    "start_time": "2022-10-10T10:39:14.934Z"
   },
   {
    "duration": 51,
    "start_time": "2022-10-10T10:39:14.958Z"
   },
   {
    "duration": 20,
    "start_time": "2022-10-10T10:39:15.012Z"
   },
   {
    "duration": 24,
    "start_time": "2022-10-10T10:39:15.034Z"
   },
   {
    "duration": 43,
    "start_time": "2022-10-10T10:39:15.060Z"
   },
   {
    "duration": 29,
    "start_time": "2022-10-10T10:39:15.105Z"
   },
   {
    "duration": 30,
    "start_time": "2022-10-10T10:39:15.137Z"
   },
   {
    "duration": 18,
    "start_time": "2022-10-10T10:39:15.169Z"
   },
   {
    "duration": 11,
    "start_time": "2022-10-10T10:39:15.189Z"
   },
   {
    "duration": 21,
    "start_time": "2022-10-10T10:39:15.202Z"
   },
   {
    "duration": 15,
    "start_time": "2022-10-10T10:39:15.225Z"
   },
   {
    "duration": 13,
    "start_time": "2022-10-10T10:39:15.242Z"
   },
   {
    "duration": 23,
    "start_time": "2022-10-10T10:56:17.249Z"
   },
   {
    "duration": 24,
    "start_time": "2022-10-10T10:56:42.775Z"
   },
   {
    "duration": 23,
    "start_time": "2022-10-10T10:57:33.187Z"
   },
   {
    "duration": 22,
    "start_time": "2022-10-10T10:57:42.163Z"
   },
   {
    "duration": 1241,
    "start_time": "2022-10-10T11:18:56.743Z"
   },
   {
    "duration": 90,
    "start_time": "2022-10-10T11:18:57.986Z"
   },
   {
    "duration": 21,
    "start_time": "2022-10-10T11:18:58.078Z"
   },
   {
    "duration": 4,
    "start_time": "2022-10-10T11:18:58.102Z"
   },
   {
    "duration": 7,
    "start_time": "2022-10-10T11:18:58.107Z"
   },
   {
    "duration": 14,
    "start_time": "2022-10-10T11:18:58.116Z"
   },
   {
    "duration": 5,
    "start_time": "2022-10-10T11:18:58.131Z"
   },
   {
    "duration": 17,
    "start_time": "2022-10-10T11:18:58.138Z"
   },
   {
    "duration": 36,
    "start_time": "2022-10-10T11:18:58.157Z"
   },
   {
    "duration": 20,
    "start_time": "2022-10-10T11:18:58.197Z"
   },
   {
    "duration": 20,
    "start_time": "2022-10-10T11:18:58.219Z"
   },
   {
    "duration": 217,
    "start_time": "2022-10-10T11:18:58.241Z"
   },
   {
    "duration": 8,
    "start_time": "2022-10-10T11:18:58.460Z"
   },
   {
    "duration": 599,
    "start_time": "2022-10-10T11:18:58.470Z"
   },
   {
    "duration": 8,
    "start_time": "2022-10-10T11:18:59.071Z"
   },
   {
    "duration": 292,
    "start_time": "2022-10-10T11:18:59.081Z"
   },
   {
    "duration": 9,
    "start_time": "2022-10-10T11:18:59.375Z"
   },
   {
    "duration": 50,
    "start_time": "2022-10-10T11:18:59.386Z"
   },
   {
    "duration": 293,
    "start_time": "2022-10-10T11:18:59.438Z"
   },
   {
    "duration": 233,
    "start_time": "2022-10-10T11:18:59.733Z"
   },
   {
    "duration": 245,
    "start_time": "2022-10-10T11:18:59.968Z"
   },
   {
    "duration": 1165,
    "start_time": "2022-10-10T11:19:00.215Z"
   },
   {
    "duration": 1160,
    "start_time": "2022-10-10T11:19:01.382Z"
   },
   {
    "duration": 74,
    "start_time": "2022-10-10T11:19:02.544Z"
   },
   {
    "duration": 23,
    "start_time": "2022-10-10T11:19:02.621Z"
   },
   {
    "duration": 13,
    "start_time": "2022-10-10T11:19:02.646Z"
   },
   {
    "duration": 19,
    "start_time": "2022-10-10T11:19:02.690Z"
   },
   {
    "duration": 15,
    "start_time": "2022-10-10T11:19:02.713Z"
   },
   {
    "duration": 18,
    "start_time": "2022-10-10T11:19:02.729Z"
   },
   {
    "duration": 47,
    "start_time": "2022-10-10T11:19:02.749Z"
   },
   {
    "duration": 15,
    "start_time": "2022-10-10T11:19:02.799Z"
   },
   {
    "duration": 14,
    "start_time": "2022-10-10T11:19:02.816Z"
   },
   {
    "duration": 18,
    "start_time": "2022-10-10T11:19:02.833Z"
   },
   {
    "duration": 37,
    "start_time": "2022-10-10T11:19:02.853Z"
   },
   {
    "duration": 7,
    "start_time": "2022-10-10T11:19:02.893Z"
   },
   {
    "duration": 9,
    "start_time": "2022-10-10T11:19:02.904Z"
   },
   {
    "duration": 9,
    "start_time": "2022-10-10T11:19:02.914Z"
   },
   {
    "duration": 12,
    "start_time": "2022-10-10T11:19:02.924Z"
   },
   {
    "duration": 10,
    "start_time": "2022-10-10T11:19:02.938Z"
   },
   {
    "duration": 8,
    "start_time": "2022-10-10T11:19:02.950Z"
   },
   {
    "duration": 1237,
    "start_time": "2022-10-10T11:23:18.378Z"
   },
   {
    "duration": 76,
    "start_time": "2022-10-10T11:23:19.618Z"
   },
   {
    "duration": 15,
    "start_time": "2022-10-10T11:23:19.696Z"
   },
   {
    "duration": 3,
    "start_time": "2022-10-10T11:23:19.713Z"
   },
   {
    "duration": 12,
    "start_time": "2022-10-10T11:23:19.718Z"
   },
   {
    "duration": 15,
    "start_time": "2022-10-10T11:23:19.732Z"
   },
   {
    "duration": 4,
    "start_time": "2022-10-10T11:23:19.749Z"
   },
   {
    "duration": 38,
    "start_time": "2022-10-10T11:23:19.755Z"
   },
   {
    "duration": 8,
    "start_time": "2022-10-10T11:23:19.795Z"
   },
   {
    "duration": 17,
    "start_time": "2022-10-10T11:23:19.805Z"
   },
   {
    "duration": 17,
    "start_time": "2022-10-10T11:23:19.824Z"
   },
   {
    "duration": 207,
    "start_time": "2022-10-10T11:23:19.843Z"
   },
   {
    "duration": 9,
    "start_time": "2022-10-10T11:23:20.052Z"
   },
   {
    "duration": 565,
    "start_time": "2022-10-10T11:23:20.064Z"
   },
   {
    "duration": 8,
    "start_time": "2022-10-10T11:23:20.631Z"
   },
   {
    "duration": 261,
    "start_time": "2022-10-10T11:23:20.641Z"
   },
   {
    "duration": 7,
    "start_time": "2022-10-10T11:23:20.904Z"
   },
   {
    "duration": 20,
    "start_time": "2022-10-10T11:23:20.913Z"
   },
   {
    "duration": 247,
    "start_time": "2022-10-10T11:23:20.935Z"
   },
   {
    "duration": 220,
    "start_time": "2022-10-10T11:23:21.189Z"
   },
   {
    "duration": 215,
    "start_time": "2022-10-10T11:23:21.411Z"
   },
   {
    "duration": 1133,
    "start_time": "2022-10-10T11:23:21.628Z"
   },
   {
    "duration": 1005,
    "start_time": "2022-10-10T11:23:22.763Z"
   },
   {
    "duration": 59,
    "start_time": "2022-10-10T11:23:23.769Z"
   },
   {
    "duration": 24,
    "start_time": "2022-10-10T11:23:23.830Z"
   },
   {
    "duration": 45,
    "start_time": "2022-10-10T11:23:23.856Z"
   },
   {
    "duration": 17,
    "start_time": "2022-10-10T11:23:23.903Z"
   },
   {
    "duration": 30,
    "start_time": "2022-10-10T11:23:23.923Z"
   },
   {
    "duration": 15,
    "start_time": "2022-10-10T11:23:23.955Z"
   },
   {
    "duration": 15,
    "start_time": "2022-10-10T11:23:23.988Z"
   },
   {
    "duration": 15,
    "start_time": "2022-10-10T11:23:24.005Z"
   },
   {
    "duration": 16,
    "start_time": "2022-10-10T11:23:24.022Z"
   },
   {
    "duration": 17,
    "start_time": "2022-10-10T11:23:24.040Z"
   },
   {
    "duration": 45,
    "start_time": "2022-10-10T11:23:24.058Z"
   },
   {
    "duration": 10,
    "start_time": "2022-10-10T11:23:24.105Z"
   },
   {
    "duration": 10,
    "start_time": "2022-10-10T11:23:24.117Z"
   },
   {
    "duration": 7,
    "start_time": "2022-10-10T11:23:24.128Z"
   },
   {
    "duration": 20,
    "start_time": "2022-10-10T11:23:24.137Z"
   },
   {
    "duration": 7,
    "start_time": "2022-10-10T11:23:24.159Z"
   },
   {
    "duration": 8,
    "start_time": "2022-10-10T11:23:24.168Z"
   }
  ],
  "kernelspec": {
   "display_name": "Python 3 (ipykernel)",
   "language": "python",
   "name": "python3"
  },
  "language_info": {
   "codemirror_mode": {
    "name": "ipython",
    "version": 3
   },
   "file_extension": ".py",
   "mimetype": "text/x-python",
   "name": "python",
   "nbconvert_exporter": "python",
   "pygments_lexer": "ipython3",
   "version": "3.9.12"
  },
  "toc": {
   "base_numbering": 1,
   "nav_menu": {},
   "number_sections": true,
   "sideBar": true,
   "skip_h1_title": true,
   "title_cell": "Table of Contents",
   "title_sidebar": "Contents",
   "toc_cell": false,
   "toc_position": {},
   "toc_section_display": true,
   "toc_window_display": false
  }
 },
 "nbformat": 4,
 "nbformat_minor": 2
}
